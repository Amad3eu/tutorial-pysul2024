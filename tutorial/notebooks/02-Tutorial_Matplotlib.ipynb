{
 "cells": [
  {
   "cell_type": "code",
   "execution_count": null,
   "id": "dd6c01cd",
   "metadata": {},
   "outputs": [],
   "source": [
    "from IPython.display import Image\n",
    "Image(url=\"https://matplotlib.org/_static/logo_light.svg\")"
   ]
  },
  {
   "cell_type": "markdown",
   "id": "63298c12",
   "metadata": {},
   "source": [
    "<!-- #region tags=[\"chapter\"] -->\n",
    "# Matplotlib: figurinhas maneiras\n",
    "\n",
    "- Criada por John Hunter (2003) para ser similar ao MATLAB;\n",
    "- Hoje, possui sua própria API orientada a objetos.\n",
    "<!-- #endregion -->"
   ]
  },
  {
   "cell_type": "markdown",
   "id": "6742e586",
   "metadata": {},
   "source": [
    "Para trabalhar com o Matplotlib em notebooks Jupyter, podemos escolher o [backend interativo](https://matplotlib.org/stable/users/explain/figure/backends.html#interactive-backends) desejado:"
   ]
  },
  {
   "cell_type": "code",
   "execution_count": null,
   "id": "1b565455",
   "metadata": {},
   "outputs": [],
   "source": [
    "%matplotlib widget"
   ]
  },
  {
   "cell_type": "markdown",
   "id": "1c911988",
   "metadata": {},
   "source": [
    "## Interfaces: implícita (`matplotlib.pyplot`) e orientada a objetos"
   ]
  },
  {
   "cell_type": "markdown",
   "id": "1240a739",
   "metadata": {},
   "source": [
    "Por razões históricas, o Matplotlib implementa uma interface explícita para acesso às funções de criações de gráficos - o módulo `pyplot`."
   ]
  },
  {
   "cell_type": "markdown",
   "id": "07198f2a",
   "metadata": {},
   "source": [
    "### Exemplo"
   ]
  },
  {
   "cell_type": "code",
   "execution_count": null,
   "id": "721e34f4",
   "metadata": {},
   "outputs": [],
   "source": [
    "import matplotlib.pyplot as plt"
   ]
  },
  {
   "cell_type": "code",
   "execution_count": null,
   "id": "a8e42d3c",
   "metadata": {},
   "outputs": [],
   "source": [
    "print(plt.__doc__)"
   ]
  },
  {
   "cell_type": "markdown",
   "id": "fbdc4f1d",
   "metadata": {},
   "source": [
    "### Exemplo 1"
   ]
  },
  {
   "cell_type": "code",
   "execution_count": null,
   "id": "7ef998a6",
   "metadata": {},
   "outputs": [],
   "source": [
    "import numpy as np\n",
    "t = np.arange(-5, 5, 0.1)"
   ]
  },
  {
   "cell_type": "code",
   "execution_count": null,
   "id": "e5089e05",
   "metadata": {},
   "outputs": [],
   "source": [
    "plt.plot(t, t**2);"
   ]
  },
  {
   "cell_type": "markdown",
   "id": "0d068284",
   "metadata": {},
   "source": [
    "### API Orientada a objetos (recomendada)"
   ]
  },
  {
   "cell_type": "markdown",
   "id": "8c1751d1",
   "metadata": {},
   "source": [
    "A maneira moderna e recomendade de criar gráficos com o Matplotlib é através da API orientada a objetos. (Leia mais em https://matplotlib.org/stable/users/explain/figure/api_interfaces.html)"
   ]
  },
  {
   "cell_type": "code",
   "execution_count": null,
   "id": "61dac3dc",
   "metadata": {},
   "outputs": [],
   "source": [
    "fig, ax = plt.subplots()\n",
    "ax.plot(t, t**2, 'r*')"
   ]
  },
  {
   "cell_type": "code",
   "execution_count": null,
   "id": "12fd2e9f",
   "metadata": {},
   "outputs": [],
   "source": [
    "ax.plot(t, t**2, linewidth=3)"
   ]
  },
  {
   "cell_type": "code",
   "execution_count": null,
   "id": "dcecc934",
   "metadata": {},
   "outputs": [],
   "source": [
    "fig2, ax2 = plt.subplots()\n",
    "ax2.plot(t, t**2, 'm--');  # Acrescente um ponto-e-vírgula ao final da \n",
    "                           # linha para não imprimir uma mensagem"
   ]
  },
  {
   "cell_type": "markdown",
   "id": "e14fa3a1",
   "metadata": {},
   "source": [
    "## Customização"
   ]
  },
  {
   "cell_type": "code",
   "execution_count": null,
   "id": "f1263120",
   "metadata": {},
   "outputs": [],
   "source": [
    "fig, ax = plt.subplots()\n",
    "ax.plot(t, t**2, 'm--');"
   ]
  },
  {
   "cell_type": "code",
   "execution_count": null,
   "id": "3efcb02c",
   "metadata": {},
   "outputs": [],
   "source": [
    "fig"
   ]
  },
  {
   "cell_type": "code",
   "execution_count": null,
   "id": "edbe8545",
   "metadata": {},
   "outputs": [],
   "source": [
    "fig.clear()"
   ]
  },
  {
   "cell_type": "code",
   "execution_count": null,
   "id": "8a3e6622",
   "metadata": {},
   "outputs": [],
   "source": [
    "fig.set_facecolor('black')"
   ]
  },
  {
   "cell_type": "markdown",
   "id": "5b915827",
   "metadata": {},
   "source": [
    "## Exemplo boxplot\n",
    "\n",
    "\n",
    "https://matplotlib.org/stable/gallery/statistics/boxplot_demo.html\n",
    "\n",
    "\n",
    "## Exemplo 3D"
   ]
  },
  {
   "cell_type": "code",
   "execution_count": null,
   "id": "4b151771",
   "metadata": {},
   "outputs": [],
   "source": [
    "import matplotlib.pyplot as plt\n",
    "import numpy as np\n",
    "\n",
    "from matplotlib import cm\n",
    "from matplotlib.ticker import LinearLocator\n",
    "\n",
    "fig, ax = plt.subplots(subplot_kw={\"projection\": \"3d\"})\n",
    "\n",
    "X = np.arange(-5, 5, 0.25)\n",
    "Y = np.arange(-5, 5, 0.25)\n",
    "X, Y = np.meshgrid(X, Y)\n",
    "R = np.sqrt(X**2 + Y**2)\n",
    "Z = np.sin(R)\n",
    "\n",
    "surf = ax.plot_surface(X, Y, Z, cmap=cm.coolwarm, linewidth=0, antialiased=False)\n",
    "\n",
    "ax.set_zlim(-1.01, 1.01)\n",
    "ax.zaxis.set_major_locator(LinearLocator(10))\n",
    "ax.zaxis.set_major_formatter(\"{x:.02f}\")\n",
    "\n",
    "fig.colorbar(surf, shrink=0.5, aspect=5)\n",
    "\n",
    "plt.show()"
   ]
  },
  {
   "cell_type": "markdown",
   "id": "614c9e6c",
   "metadata": {},
   "source": [
    "## Guia do usuário: galeria e exemplos\n",
    "\n",
    "- https://matplotlib.org/tutorials/introductory/usage.html\n",
    "- https://matplotlib.org/tutorials/introductory/usage.html#parts-of-a-figure"
   ]
  },
  {
   "cell_type": "code",
   "execution_count": null,
   "id": "e259a33b",
   "metadata": {},
   "outputs": [],
   "source": [
    "Image(url=\"https://matplotlib.org/_images/anatomy.png\")"
   ]
  },
  {
   "cell_type": "markdown",
   "id": "ea1adfc3",
   "metadata": {},
   "source": [
    "## Documentação oficial"
   ]
  },
  {
   "cell_type": "markdown",
   "id": "0a996c98",
   "metadata": {},
   "source": [
    "Além de tutorials e guias de usuário, a Matplotlib também mantém uma galeria de exemplos bastante completa:\n",
    "\n",
    "https://matplotlib.org/stable/gallery/index.html"
   ]
  },
  {
   "cell_type": "code",
   "execution_count": null,
   "id": "ac5d09d3",
   "metadata": {},
   "outputs": [],
   "source": [
    "from IPython.display import IFrame"
   ]
  },
  {
   "cell_type": "code",
   "execution_count": null,
   "id": "088e3d0b",
   "metadata": {},
   "outputs": [],
   "source": [
    "IFrame(\"https://matplotlib.org/stable/gallery/index.html\", width=\"100%\", height=600)"
   ]
  },
  {
   "cell_type": "code",
   "execution_count": null,
   "id": "f7b18b1e",
   "metadata": {},
   "outputs": [],
   "source": []
  }
 ],
 "metadata": {
  "jupytext": {
   "kernelspec": {
    "display_name": "Python 3 (ipykernel)",
    "language": "python",
    "name": "python3"
   }
  },
  "kernelspec": {
   "display_name": "Python 3 (ipykernel)",
   "language": "python",
   "name": "python3"
  }
 },
 "nbformat": 4,
 "nbformat_minor": 5
}
