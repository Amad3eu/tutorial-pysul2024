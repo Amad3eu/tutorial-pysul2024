{
 "cells": [
  {
   "cell_type": "markdown",
   "id": "e51137d5",
   "metadata": {},
   "source": [
    "# Exemplo: Análise de dados de queimadas no Brasil\n",
    "\n",
    "Esse notebook analisa e mostra no mapa dados sobre queimadas no Brasil.\n",
    "\n",
    "Vamos usar os dados do INPE, recuperados em https://terrabrasilis.dpi.inpe.br/queimadas/bdqueimadas/\n",
    "\n",
    "Os dados incluidos neste tutorial são referentes ao período de 01/07 até 01/09 de 2024.\n",
    "\n",
    "A NASA também fornece dados de queimadas: https://firms.modaps.eosdis.nasa.gov/"
   ]
  },
  {
   "cell_type": "code",
   "execution_count": 1,
   "id": "78a22eb7",
   "metadata": {},
   "outputs": [
    {
     "name": "stdout",
     "output_type": "stream",
     "text": [
      "00-Tutorial_Python_Sul_2024.md\t04-Exemplo_SVD.md\t     imagens\n",
      "01-Tutorial_NumPy.md\t\t05-Exemplo_Queimadas.ipynb   Untitled.ipynb\n",
      "02-Tutorial_Matplotlib.md\t05-Exemplo_Queimadas.md      untitled.md\n",
      "03-Tutorial_SciPy.ipynb\t\t0x-Exemplo_Masked_Arrays.md\n",
      "03-Tutorial_SciPy.md\t\tdados\n"
     ]
    }
   ],
   "source": [
    "!ls"
   ]
  },
  {
   "cell_type": "code",
   "execution_count": 2,
   "id": "2ee41a0d",
   "metadata": {},
   "outputs": [],
   "source": [
    "zipfile_inpe = \"dados/Focos_BDQueimadas.zip\""
   ]
  },
  {
   "cell_type": "code",
   "execution_count": 3,
   "id": "8d9a3574",
   "metadata": {},
   "outputs": [],
   "source": [
    "from zipfile import ZipFile"
   ]
  },
  {
   "cell_type": "code",
   "execution_count": 4,
   "id": "9d8e4213",
   "metadata": {},
   "outputs": [
    {
     "name": "stdout",
     "output_type": "stream",
     "text": [
      "File Name                                             Modified             Size\n",
      "focos_qmd_inpe_2024-07-01_2024-09-01_58.414406.csv 2024-09-08 16:08:08    294212594\n",
      "Extracting file dados/Focos_BDQueimadas.zip now...\n",
      "Done!\n"
     ]
    }
   ],
   "source": [
    "with ZipFile(zipfile_inpe, 'r') as zip: \n",
    "    zip.printdir() \n",
    "    print(f'Extracting file {zipfile_inpe} now...') \n",
    "    zip.extractall(path=\"dados\") \n",
    "    print('Done!')"
   ]
  },
  {
   "cell_type": "code",
   "execution_count": 5,
   "id": "00b945c7",
   "metadata": {},
   "outputs": [
    {
     "name": "stdout",
     "output_type": "stream",
     "text": [
      "Focos_BDQueimadas.zip\n",
      "focos_qmd_inpe_2024-07-01_2024-09-01_58.414406.csv\n",
      "who_covid_19_sit_rep_time_series.csv\n"
     ]
    }
   ],
   "source": [
    "!ls dados"
   ]
  },
  {
   "cell_type": "code",
   "execution_count": 6,
   "id": "c6c5c673",
   "metadata": {},
   "outputs": [],
   "source": [
    "import os\n",
    "csv_inpe = os.path.join(\"dados\", \"focos_qmd_inpe_2024-07-01_2024-09-01_58.414406.csv\")"
   ]
  },
  {
   "cell_type": "code",
   "execution_count": 7,
   "id": "1d76ef54",
   "metadata": {},
   "outputs": [],
   "source": [
    "with open(csv_inpe, 'r') as f:\n",
    "    data = f.readlines()"
   ]
  },
  {
   "cell_type": "code",
   "execution_count": 8,
   "id": "5ef339b1",
   "metadata": {},
   "outputs": [
    {
     "name": "stdout",
     "output_type": "stream",
     "text": [
      "['DataHora,Satelite,Pais,Estado,Municipio,Bioma,DiaSemChuva,Precipitacao,RiscoFogo,Latitude,Longitude,FRP\\n', '2024/07/27 18:03:33,MSG-03,Brasil,MATO GROSSO DO SUL,AQUIDAUANA,Pantanal,,,,-19.66,-56.29,\\n', '2024/07/27 18:03:33,MSG-03,Brasil,MATO GROSSO DO SUL,AQUIDAUANA,Pantanal,,,,-19.69,-56.39,\\n', '2024/07/27 18:03:33,MSG-03,Brasil,MATO GROSSO DO SUL,AQUIDAUANA,Pantanal,,,,-19.69,-56.32,\\n', '2024/07/27 18:03:33,MSG-03,Brasil,MATO GROSSO DO SUL,AQUIDAUANA,Pantanal,,,,-19.73,-56.41,\\n', '2024/07/27 18:03:33,MSG-03,Brasil,MATO GROSSO DO SUL,AQUIDAUANA,Pantanal,,,,-19.72,-56.34,\\n', '2024/07/27 18:04:59,MSG-03,Brasil,PARÁ,TRAIRÃO,Amazônia,,,,-5.03,-56.12,\\n', '2024/07/27 18:04:52,MSG-03,Brasil,AMAZONAS,NOVO ARIPUANÃ,Amazônia,,,,-6.13,-59.92,\\n', '2024/07/27 18:04:52,MSG-03,Brasil,AMAZONAS,NOVO ARIPUANÃ,Amazônia,,,,-6.13,-59.84,\\n', '2024/07/27 18:04:52,MSG-03,Brasil,AMAZONAS,NOVO ARIPUANÃ,Amazônia,,,,-6.16,-59.93,\\n']\n"
     ]
    }
   ],
   "source": [
    "print(data[0:10])"
   ]
  },
  {
   "cell_type": "markdown",
   "id": "edeae305",
   "metadata": {},
   "source": [
    "## Pandas"
   ]
  },
  {
   "cell_type": "markdown",
   "id": "52c464f1",
   "metadata": {},
   "source": [
    "Como nossos dados estão em formato de tabela, vamos usar a biblioteca [pandas](https://pydata.pandas.dev) para analisar os dados. O pandas fornece um tipo de dados chamado `DataFrame`, que permite tratar com facilidade dados em tabelas."
   ]
  },
  {
   "cell_type": "code",
   "execution_count": 14,
   "id": "360e4e6c-5da3-4caf-a70a-d9ebac5ea1f2",
   "metadata": {},
   "outputs": [
    {
     "name": "stdout",
     "output_type": "stream",
     "text": [
      "Requirement already satisfied: pandas in /home/amadeu/.pyenv/versions/3.11.5/envs/amadeu/lib/python3.11/site-packages (2.2.2)\n",
      "Requirement already satisfied: numpy>=1.23.2 in /home/amadeu/.pyenv/versions/3.11.5/envs/amadeu/lib/python3.11/site-packages (from pandas) (2.0.1)\n",
      "Requirement already satisfied: python-dateutil>=2.8.2 in /home/amadeu/.pyenv/versions/3.11.5/envs/amadeu/lib/python3.11/site-packages (from pandas) (2.8.2)\n",
      "Requirement already satisfied: pytz>=2020.1 in /home/amadeu/.pyenv/versions/3.11.5/envs/amadeu/lib/python3.11/site-packages (from pandas) (2024.2)\n",
      "Requirement already satisfied: tzdata>=2022.7 in /home/amadeu/.pyenv/versions/3.11.5/envs/amadeu/lib/python3.11/site-packages (from pandas) (2024.1)\n",
      "Requirement already satisfied: six>=1.5 in /home/amadeu/.pyenv/versions/3.11.5/envs/amadeu/lib/python3.11/site-packages (from python-dateutil>=2.8.2->pandas) (1.16.0)\n",
      "\n",
      "\u001b[1m[\u001b[0m\u001b[34;49mnotice\u001b[0m\u001b[1;39;49m]\u001b[0m\u001b[39;49m A new release of pip is available: \u001b[0m\u001b[31;49m23.2.1\u001b[0m\u001b[39;49m -> \u001b[0m\u001b[32;49m24.2\u001b[0m\n",
      "\u001b[1m[\u001b[0m\u001b[34;49mnotice\u001b[0m\u001b[1;39;49m]\u001b[0m\u001b[39;49m To update, run: \u001b[0m\u001b[32;49mpython3.11 -m pip install --upgrade pip\u001b[0m\n"
     ]
    }
   ],
   "source": [
    " !pip install pandas"
   ]
  },
  {
   "cell_type": "code",
   "execution_count": 15,
   "id": "5de6013e",
   "metadata": {},
   "outputs": [
    {
     "ename": "ModuleNotFoundError",
     "evalue": "No module named 'pandas'",
     "output_type": "error",
     "traceback": [
      "\u001b[0;31m---------------------------------------------------------------------------\u001b[0m",
      "\u001b[0;31mModuleNotFoundError\u001b[0m                       Traceback (most recent call last)",
      "Cell \u001b[0;32mIn[15], line 1\u001b[0m\n\u001b[0;32m----> 1\u001b[0m \u001b[38;5;28;01mimport\u001b[39;00m \u001b[38;5;21;01mpandas\u001b[39;00m \u001b[38;5;28;01mas\u001b[39;00m \u001b[38;5;21;01mpd\u001b[39;00m\n",
      "\u001b[0;31mModuleNotFoundError\u001b[0m: No module named 'pandas'"
     ]
    }
   ],
   "source": [
    "import pandas as pd"
   ]
  },
  {
   "cell_type": "code",
   "execution_count": 16,
   "id": "b7366f06",
   "metadata": {},
   "outputs": [
    {
     "ename": "NameError",
     "evalue": "name 'pd' is not defined",
     "output_type": "error",
     "traceback": [
      "\u001b[0;31m---------------------------------------------------------------------------\u001b[0m",
      "\u001b[0;31mNameError\u001b[0m                                 Traceback (most recent call last)",
      "Cell \u001b[0;32mIn[16], line 2\u001b[0m\n\u001b[1;32m      1\u001b[0m \u001b[38;5;28;01mwith\u001b[39;00m \u001b[38;5;28mopen\u001b[39m(csv_inpe, \u001b[38;5;124m'\u001b[39m\u001b[38;5;124mr\u001b[39m\u001b[38;5;124m'\u001b[39m) \u001b[38;5;28;01mas\u001b[39;00m f:\n\u001b[0;32m----> 2\u001b[0m     df \u001b[38;5;241m=\u001b[39m \u001b[43mpd\u001b[49m\u001b[38;5;241m.\u001b[39mread_csv(f)\n",
      "\u001b[0;31mNameError\u001b[0m: name 'pd' is not defined"
     ]
    }
   ],
   "source": [
    "with open(csv_inpe, 'r') as f:\n",
    "    df = pd.read_csv(f)"
   ]
  },
  {
   "cell_type": "code",
   "execution_count": null,
   "id": "9e350953",
   "metadata": {},
   "outputs": [],
   "source": [
    "df"
   ]
  },
  {
   "cell_type": "markdown",
   "id": "6f750eef",
   "metadata": {},
   "source": [
    "(repare no número de linhas dessa tabela!)"
   ]
  },
  {
   "cell_type": "markdown",
   "id": "17d5948d",
   "metadata": {},
   "source": [
    "Como queremos analisar dados de queimadas (representadas pelas linhas em que o valor de `RiscoFogo` é não-nulo) vamos eliminar as linhas que não nos interessam da tabela.\n",
    "\n",
    "Aqui, temos dois tipos de dados \"nulos\":\n",
    "- Linhas em que o valor de `RiscoFogo` é NaN (correspondente, provavelmente, a dados faltantes);\n",
    "- Linhas em que o valor de `RiscoFogo` é zero.\n",
    "\n",
    "Vamos eliminar ambos."
   ]
  },
  {
   "cell_type": "code",
   "execution_count": null,
   "id": "9a7d2a50",
   "metadata": {},
   "outputs": [],
   "source": [
    "len(df[pd.isnull(df['RiscoFogo'])])"
   ]
  },
  {
   "cell_type": "code",
   "execution_count": null,
   "id": "c75ff5bf",
   "metadata": {},
   "outputs": [],
   "source": [
    "pd.isnull(df['RiscoFogo'])"
   ]
  },
  {
   "cell_type": "markdown",
   "id": "0044149d",
   "metadata": {},
   "source": [
    "Para eliminarmos essas linhas, vamos usar um filtro booleano e criar uma nova tabela com apenas os valores em que estamos interessados."
   ]
  },
  {
   "cell_type": "code",
   "execution_count": null,
   "id": "81b3bcb4",
   "metadata": {},
   "outputs": [],
   "source": [
    "df = df[~pd.isnull(df['RiscoFogo'])]"
   ]
  },
  {
   "cell_type": "code",
   "execution_count": null,
   "id": "72564ff9",
   "metadata": {},
   "outputs": [],
   "source": [
    "df"
   ]
  },
  {
   "cell_type": "code",
   "execution_count": null,
   "id": "d4fbfa9b",
   "metadata": {},
   "outputs": [],
   "source": [
    "df[df['RiscoFogo']==0]"
   ]
  },
  {
   "cell_type": "code",
   "execution_count": null,
   "id": "fb43dec7",
   "metadata": {},
   "outputs": [],
   "source": [
    "df = df[df['RiscoFogo']!=0]"
   ]
  },
  {
   "cell_type": "code",
   "execution_count": null,
   "id": "da9a71f2",
   "metadata": {},
   "outputs": [],
   "source": [
    "df"
   ]
  },
  {
   "cell_type": "markdown",
   "id": "311ee2f9",
   "metadata": {},
   "source": [
    "Agora, vamos filtrar por satélite:"
   ]
  },
  {
   "cell_type": "code",
   "execution_count": null,
   "id": "6749878a",
   "metadata": {},
   "outputs": [],
   "source": [
    "df['Satelite'].unique()"
   ]
  },
  {
   "cell_type": "code",
   "execution_count": null,
   "id": "77bd54a0",
   "metadata": {},
   "outputs": [],
   "source": [
    "df = df[df['Satelite']=='TERRA_M-M']"
   ]
  },
  {
   "cell_type": "markdown",
   "id": "2bc3da24",
   "metadata": {},
   "source": [
    "Como todos os nossos dados são referentes ao Brasil e eliminamos os dados de outros satélites, podemos eliminar as colunas `Pais` e `Satelite` da tabela."
   ]
  },
  {
   "cell_type": "code",
   "execution_count": null,
   "id": "78e8429e",
   "metadata": {},
   "outputs": [],
   "source": [
    "del df['Satelite']\n",
    "del df['Pais']"
   ]
  },
  {
   "cell_type": "code",
   "execution_count": null,
   "id": "85dfb82e",
   "metadata": {},
   "outputs": [],
   "source": [
    "df"
   ]
  },
  {
   "cell_type": "markdown",
   "id": "6bcd77ae",
   "metadata": {},
   "source": [
    "Note os índices da tabela; eles ainda retém as informações da tabela original. Para resetarmos os índices, caso isso não seja necessário, usamos:"
   ]
  },
  {
   "cell_type": "code",
   "execution_count": null,
   "id": "feabe4b7",
   "metadata": {},
   "outputs": [],
   "source": [
    "df.reset_index()"
   ]
  },
  {
   "cell_type": "markdown",
   "id": "a6d2713b",
   "metadata": {},
   "source": [
    "e, para eliminar totalmente os índices antigos, usamos"
   ]
  },
  {
   "cell_type": "code",
   "execution_count": null,
   "id": "e4f69e0e",
   "metadata": {},
   "outputs": [],
   "source": [
    "df = df.reset_index(drop=True)"
   ]
  },
  {
   "cell_type": "code",
   "execution_count": null,
   "id": "81cb0852",
   "metadata": {},
   "outputs": [],
   "source": [
    "df"
   ]
  },
  {
   "cell_type": "markdown",
   "id": "5367b69a",
   "metadata": {},
   "source": [
    "**Nota:** Para saber mais sobre os valores dessa tabela, inclusive sobre como é calculado e o que significa o valor de `RiscoFogo` veja as referências abaixo:\n",
    "\n",
    "- FRP: https://revistapesquisa.fapesp.br/como-monitorar-o-fogo/\n",
    "- Risco de Queima: http://queimadas.dgi.inpe.br/queimadas/portal/informacoes/perguntas-frequentes#p23\n",
    "- Monografia: https://monografias.ufrn.br/jspui/bitstream/123456789/9704/1/tcc_dias_alexandre_henrique.pdf"
   ]
  },
  {
   "cell_type": "markdown",
   "id": "7427e2b9",
   "metadata": {},
   "source": [
    "---"
   ]
  },
  {
   "cell_type": "markdown",
   "id": "b4eafaf2",
   "metadata": {},
   "source": [
    "## Gráfico no mapa"
   ]
  },
  {
   "cell_type": "markdown",
   "id": "cd77e2b6",
   "metadata": {},
   "source": [
    "Para fazermos não só um gráfico dos dados, mas sobrepor esses dados em um mapa, vamos usar a biblioteca `ipyleaflet`:"
   ]
  },
  {
   "cell_type": "code",
   "execution_count": null,
   "id": "f81ed8bd",
   "metadata": {},
   "outputs": [],
   "source": [
    "# !pip install ipyleaflet"
   ]
  },
  {
   "cell_type": "markdown",
   "id": "96be5c02",
   "metadata": {},
   "source": [
    "Para começarmos, vamos criar um mapa e adicionar uma camada de marcadores que serão usados mais tarde para sinalizar as coordenadas com RiscoFogo positivo."
   ]
  },
  {
   "cell_type": "code",
   "execution_count": null,
   "id": "547d1a19",
   "metadata": {},
   "outputs": [],
   "source": [
    "%matplotlib widget\n",
    "from ipyleaflet import Map, CircleMarker\n",
    "\n",
    "center = (-11.7997134,-53.8335376)\n",
    "\n",
    "m = Map(center=center, zoom=3)\n",
    "display(m)"
   ]
  },
  {
   "cell_type": "code",
   "execution_count": null,
   "id": "2e8c29fb",
   "metadata": {},
   "outputs": [],
   "source": [
    "frp_notnull = df[df['FRP'].notnull()]\n",
    "frp_notnull = frp_notnull.loc[frp_notnull['DataHora'].str.contains('2024/08/30')]"
   ]
  },
  {
   "cell_type": "code",
   "execution_count": null,
   "id": "f50589e6",
   "metadata": {},
   "outputs": [],
   "source": [
    "for index, row in frp_notnull.iterrows():\n",
    "    lat = row['Latitude']\n",
    "    lon = row['Longitude']\n",
    "    circle_marker = CircleMarker()\n",
    "    circle_marker.location = (lat, lon)\n",
    "    circle_marker.radius = 1\n",
    "    circle_marker.color = \"red\"\n",
    "    circle_marker.fill_color = \"red\"\n",
    "    circle_marker.weight = 1\n",
    "    m.add_layer(circle_marker)"
   ]
  },
  {
   "cell_type": "markdown",
   "id": "e16933f4",
   "metadata": {},
   "source": [
    "**Nota** Com uma instância regular do JupyterLab, você pode observar o seguinte erro ao executar o comando acima:\n",
    "\n",
    "```\n",
    "IOPub message rate exceeded.\n",
    "The Jupyter server will temporarily stop sending output\n",
    "to the client in order to avoid crashing it.\n",
    "To change this limit, set the config variable\n",
    "`--ServerApp.iopub_msg_rate_limit`.\n",
    "\n",
    "Current values:\n",
    "ServerApp.iopub_msg_rate_limit=1000.0 (msgs/sec)\n",
    "ServerApp.rate_limit_window=3.0 (secs)\n",
    "```\n",
    "\n",
    "Para resolver isso, você deve iniciar a instância do JupyterLab com o comando\n",
    "```\n",
    "jupyter lab --ServerApp.iopub_msg_rate_limit=10000\n",
    "```\n",
    "ou criar um arquivo de configurações usando o comando\n",
    "```\n",
    "jupyter notebook --generate-config\n",
    "```\n",
    "e alterar o valor dessa configuração no arquivo."
   ]
  },
  {
   "cell_type": "markdown",
   "id": "a2171807",
   "metadata": {},
   "source": [
    "- para uma mesma cidade, pegar o risco em função do tempo\n",
    "- para um grupo de cidades plotar o risco em um mesmo gráfico"
   ]
  },
  {
   "cell_type": "code",
   "execution_count": null,
   "id": "a2a086e3",
   "metadata": {},
   "outputs": [],
   "source": [
    "lista_municipios = df['Municipio'].unique()\n",
    "type(lista_municipios), len(lista_municipios)"
   ]
  },
  {
   "cell_type": "code",
   "execution_count": null,
   "id": "e55b64e4",
   "metadata": {},
   "outputs": [],
   "source": [
    "pv = df[df['Municipio'] == \"PORTO VELHO\"]\n",
    "pv"
   ]
  },
  {
   "cell_type": "markdown",
   "id": "6872254c",
   "metadata": {},
   "source": [
    "## O objeto pd.Series"
   ]
  },
  {
   "cell_type": "code",
   "execution_count": null,
   "id": "861aade4",
   "metadata": {},
   "outputs": [],
   "source": [
    "riscofogo = pv['RiscoFogo']\n",
    "diasemchuva = pv['DiaSemChuva']"
   ]
  },
  {
   "cell_type": "code",
   "execution_count": null,
   "id": "82650405",
   "metadata": {},
   "outputs": [],
   "source": [
    "type(diasemchuva)"
   ]
  },
  {
   "cell_type": "code",
   "execution_count": null,
   "id": "f4714f88",
   "metadata": {},
   "outputs": [],
   "source": [
    "diasemchuva"
   ]
  },
  {
   "cell_type": "markdown",
   "id": "154da1e0",
   "metadata": {},
   "source": [
    "O objeto `Series` é uma array unidimensional com rótulos, capaz de conter qualquer tipo de dados. Cuidado com os índices!"
   ]
  },
  {
   "cell_type": "code",
   "execution_count": null,
   "id": "f1b0ea91",
   "metadata": {
    "tags": [
     "raises-exception"
    ]
   },
   "outputs": [],
   "source": [
    "diasemchuva[0]"
   ]
  },
  {
   "cell_type": "code",
   "execution_count": null,
   "id": "42f53ee0",
   "metadata": {},
   "outputs": [],
   "source": [
    "diasemchuva[332]"
   ]
  },
  {
   "cell_type": "code",
   "execution_count": null,
   "id": "f549601f",
   "metadata": {},
   "outputs": [],
   "source": [
    "riscofogo.mean()"
   ]
  },
  {
   "cell_type": "code",
   "execution_count": null,
   "id": "6956eb66",
   "metadata": {},
   "outputs": [],
   "source": [
    "diasemchuva.max()"
   ]
  },
  {
   "cell_type": "code",
   "execution_count": null,
   "id": "3a78b8df",
   "metadata": {},
   "outputs": [],
   "source": [
    "pv[pv['DiaSemChuva'] == 88.0]"
   ]
  },
  {
   "cell_type": "markdown",
   "id": "c2345a56",
   "metadata": {},
   "source": [
    "---"
   ]
  },
  {
   "cell_type": "markdown",
   "id": "9c669382",
   "metadata": {},
   "source": [
    "## Risco de fogo em função do tempo para Porto Velho, RO"
   ]
  },
  {
   "cell_type": "code",
   "execution_count": null,
   "id": "438733eb",
   "metadata": {},
   "outputs": [],
   "source": [
    "pv = pv[['DataHora', 'RiscoFogo', 'DiaSemChuva']].reset_index(drop=True)"
   ]
  },
  {
   "cell_type": "code",
   "execution_count": null,
   "id": "81bc5100",
   "metadata": {},
   "outputs": [],
   "source": [
    "pv"
   ]
  },
  {
   "cell_type": "markdown",
   "id": "6d1ff8e7",
   "metadata": {},
   "source": [
    "Para cada grupo de entradas com o mesmo valor de `DataHora`, calcule a média dos valores de `RiscoFogo` e `DiaSemChuva`."
   ]
  },
  {
   "cell_type": "code",
   "execution_count": null,
   "id": "2a6f0624",
   "metadata": {},
   "outputs": [],
   "source": [
    "agrupado = pv.groupby(['DataHora'], as_index=False)[[\"RiscoFogo\", \"DiaSemChuva\"]].mean()"
   ]
  },
  {
   "cell_type": "code",
   "execution_count": null,
   "id": "3d084ea9",
   "metadata": {},
   "outputs": [],
   "source": [
    "agrupado"
   ]
  },
  {
   "cell_type": "code",
   "execution_count": null,
   "id": "ba03179c",
   "metadata": {},
   "outputs": [],
   "source": [
    "pv[pv['DataHora']=='2024/08/22 01:52:00']"
   ]
  },
  {
   "cell_type": "markdown",
   "id": "62aca61b",
   "metadata": {},
   "source": [
    "Surpresa! 🤡"
   ]
  },
  {
   "cell_type": "code",
   "execution_count": null,
   "id": "e34f777c",
   "metadata": {},
   "outputs": [],
   "source": [
    "pv = pv[pv['RiscoFogo']!=-999.0]"
   ]
  },
  {
   "cell_type": "code",
   "execution_count": null,
   "id": "b429f372",
   "metadata": {},
   "outputs": [],
   "source": [
    "agrupado = pv.groupby(['DataHora'])[[\"RiscoFogo\", \"DiaSemChuva\"]].mean()\n",
    "agrupado"
   ]
  },
  {
   "cell_type": "markdown",
   "id": "37d82fd0",
   "metadata": {},
   "source": [
    "Veja https://pandas.pydata.org/docs/user_guide/groupby.html e https://pandas.pydata.org/docs/user_guide/10min.html#grouping."
   ]
  },
  {
   "cell_type": "code",
   "execution_count": null,
   "id": "3d3d91a5",
   "metadata": {},
   "outputs": [],
   "source": [
    "datas = list(agrupado.index)"
   ]
  },
  {
   "cell_type": "code",
   "execution_count": null,
   "id": "3d267e78",
   "metadata": {},
   "outputs": [],
   "source": [
    "datas = [item[0:10] for item in datas]\n",
    "datas\n",
    "len(datas)"
   ]
  },
  {
   "cell_type": "code",
   "execution_count": null,
   "id": "40a1ca57",
   "metadata": {},
   "outputs": [],
   "source": [
    "import matplotlib.pyplot as plt\n",
    "\n",
    "fig, ax = plt.subplots(2, 1, figsize=(8, 6))\n",
    "ax[0].plot(agrupado['RiscoFogo'], 'r')\n",
    "ax[1].plot(agrupado['DiaSemChuva'], 'bo')\n",
    "\n",
    "# Preparar rótulos da primeira imagem\n",
    "ax[0].set_xticks(range(len(datas))[::10]);\n",
    "ax[0].set_xticklabels(datas[::10], rotation=30)\n",
    "\n",
    "# Preparar rótulos da segunda imagem\n",
    "ax[1].set_xticks(range(len(datas))[::10]);\n",
    "ax[1].set_xticklabels(datas[::10], rotation=30)\n",
    "\n",
    "fig.tight_layout()"
   ]
  },
  {
   "cell_type": "code",
   "execution_count": null,
   "id": "d7a5c53b",
   "metadata": {},
   "outputs": [],
   "source": [
    "fig, ax = plt.subplots(figsize=(8, 4))\n",
    "\n",
    "ax.plot(agrupado['RiscoFogo'], 'r')\n",
    "plt.draw()\n",
    "\n",
    "ax2 = ax.twinx()  # instantiate a second axes that shares the same x-axis\n",
    "ax2.plot(agrupado['DiaSemChuva'], 'bo')\n",
    "\n",
    "ax2.set_xticks(range(len(datas))[::10]);\n",
    "ax.set_xticklabels(datas[::10], rotation=30);\n",
    "\n",
    "ax.legend(['Risco Fogo'], loc='upper left')\n",
    "ax2.legend(['Dias sem chuva'], loc='upper right')\n",
    "\n",
    "ax.set_title('Dados INPE sobre queimadas em Porto Velho, RO')\n",
    "ax.set_ylabel('Risco fogo')\n",
    "ax2.set_ylabel('Dias sem chuva')\n",
    "fig.tight_layout()"
   ]
  }
 ],
 "metadata": {
  "jupytext": {
   "kernelspec": {
    "display_name": "Python 3 (ipykernel)",
    "language": "python",
    "name": "python3"
   }
  },
  "kernelspec": {
   "display_name": "Python 3 (ipykernel)",
   "language": "python",
   "name": "python3"
  },
  "language_info": {
   "codemirror_mode": {
    "name": "ipython",
    "version": 3
   },
   "file_extension": ".py",
   "mimetype": "text/x-python",
   "name": "python",
   "nbconvert_exporter": "python",
   "pygments_lexer": "ipython3",
   "version": "3.12.6"
  }
 },
 "nbformat": 4,
 "nbformat_minor": 5
}
