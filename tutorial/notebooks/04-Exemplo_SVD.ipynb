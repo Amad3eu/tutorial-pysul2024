{
 "cells": [
  {
   "cell_type": "markdown",
   "id": "616b1137",
   "metadata": {},
   "source": [
    "# Exemplo: Álgebra Linear em arrays n-dimensionais\n",
    "\n",
    "\n",
    "*(baseado no tutorial [Linear algebra on n-dimensional arrays](https://numpy.org/doc/stable/user/tutorial-svd.html) da documentação oficial da NumPy)*\n",
    "\n",
    "\n",
    "## Resumo\n",
    "\n",
    "Vamos usar uma [decomposição matricial](https://en.wikipedia.org/wiki/Matrix_decomposition), a Decomposição em Valores Singulares (também conhecida como SVD), para gerar uma aproximação de uma imagem. Vamos usar a imagem `face` do módulo [scipy.datasets](https://docs.scipy.org/doc/scipy/reference/datasets.html). Para isso, vamos instalar a dependência adicional [pooch](https://pypi.org/project/pooch/):"
   ]
  },
  {
   "cell_type": "code",
   "execution_count": null,
   "id": "fb8336a4",
   "metadata": {},
   "outputs": [],
   "source": [
    "!pip install pooch"
   ]
  },
  {
   "cell_type": "code",
   "execution_count": null,
   "id": "6ac1cfb0",
   "metadata": {},
   "outputs": [],
   "source": [
    "from scipy import datasets\n",
    "img = datasets.face()"
   ]
  },
  {
   "cell_type": "markdown",
   "id": "7c6f6d6e",
   "metadata": {},
   "source": [
    "Agora, `img` é uma array do NumPy, como podemos ver usando a função `type`:"
   ]
  },
  {
   "cell_type": "code",
   "execution_count": null,
   "id": "defdb0ff",
   "metadata": {},
   "outputs": [],
   "source": [
    "type(img)"
   ]
  },
  {
   "cell_type": "markdown",
   "id": "634129ee",
   "metadata": {},
   "source": [
    "Podemos ver a imagem usando o comando [matplotlib.pyplot.imshow](https://matplotlib.org/api/_as_gen/matplotlib.pyplot.imshow.html#matplotlib.pyplot.imshow):"
   ]
  },
  {
   "cell_type": "code",
   "execution_count": null,
   "id": "7811d683",
   "metadata": {},
   "outputs": [],
   "source": [
    "import matplotlib.pyplot as plt\n",
    "%matplotlib inline"
   ]
  },
  {
   "cell_type": "code",
   "execution_count": null,
   "id": "1d83b9bc",
   "metadata": {},
   "outputs": [],
   "source": [
    "plt.imshow(img)\n",
    "plt.show()"
   ]
  },
  {
   "cell_type": "markdown",
   "id": "53494183",
   "metadata": {},
   "source": [
    "### Imagens como arrays\n",
    "\n",
    "Note que uma imagem é apenas uma array. No entanto, ela não é 2D:"
   ]
  },
  {
   "cell_type": "code",
   "execution_count": null,
   "id": "2139dfc8",
   "metadata": {},
   "outputs": [],
   "source": [
    "img.shape"
   ]
  },
  {
   "cell_type": "markdown",
   "id": "38a5f3d3",
   "metadata": {},
   "source": [
    "Essa imagem é representada como uma [tuple](https://docs.python.org/dev/tutorial/datastructures.html#tut-tuples) com 3 elementos, ou seja, `img` é uma array 3D. Como a imagem é colorida, os dados estão organizados em 3 arrays 2D representando os canais de cores (RGB): cada uma das matrizes (correspondentes a cada cor) tem shape 768x1024.\n",
    "\n",
    "Veja que"
   ]
  },
  {
   "cell_type": "code",
   "execution_count": null,
   "id": "b2865c0a",
   "metadata": {},
   "outputs": [],
   "source": [
    "img.ndim"
   ]
  },
  {
   "cell_type": "markdown",
   "id": "c64110cd",
   "metadata": {},
   "source": [
    "Cada \"dimensão\" dessa matriz é um *axis* (eixo). Nesse caso, o *primeiro índice do terceiro eixo* representa os dados dos pixels vermelhos na nossa imagem. Podemos acessá-lo usando"
   ]
  },
  {
   "cell_type": "code",
   "execution_count": null,
   "id": "4d70252c",
   "metadata": {},
   "outputs": [],
   "source": [
    "img[:, :, 0]"
   ]
  },
  {
   "cell_type": "markdown",
   "id": "5f3e9313",
   "metadata": {},
   "source": [
    "Veja que cada entrada é um valor entre 0 e 255, representando o nível de vermelho em cada pixel da imagem. Como já mencionamos,"
   ]
  },
  {
   "cell_type": "code",
   "execution_count": null,
   "id": "bc82b20f",
   "metadata": {},
   "outputs": [],
   "source": [
    "img[:, :, 0].shape"
   ]
  },
  {
   "cell_type": "markdown",
   "id": "a0c0bee2",
   "metadata": {},
   "source": [
    "Já que vamos realizar operações nessa matriz, vamos converter os valores para floats (usando broadcasting):"
   ]
  },
  {
   "cell_type": "code",
   "execution_count": null,
   "id": "5c52b777",
   "metadata": {},
   "outputs": [],
   "source": [
    "img_array = img / 255"
   ]
  },
  {
   "cell_type": "markdown",
   "id": "1f64d9fc",
   "metadata": {},
   "source": [
    "Agora,"
   ]
  },
  {
   "cell_type": "code",
   "execution_count": null,
   "id": "3d6e49db",
   "metadata": {},
   "outputs": [],
   "source": [
    "img_array.max(), img_array.min()"
   ]
  },
  {
   "cell_type": "markdown",
   "id": "4dacce35",
   "metadata": {},
   "source": [
    "e"
   ]
  },
  {
   "cell_type": "code",
   "execution_count": null,
   "id": "ea49b8ec",
   "metadata": {},
   "outputs": [],
   "source": [
    "img_array.dtype"
   ]
  },
  {
   "cell_type": "markdown",
   "id": "daa2642c",
   "metadata": {},
   "source": [
    "Podemos também separar os dados de cor:"
   ]
  },
  {
   "cell_type": "code",
   "execution_count": null,
   "id": "256f9b27",
   "metadata": {},
   "outputs": [],
   "source": [
    "red_array = img_array[:, :, 0]\n",
    "green_array = img_array[:, :, 1]\n",
    "blue_array = img_array[:, :, 2]"
   ]
  },
  {
   "cell_type": "markdown",
   "id": "63e550cd",
   "metadata": {},
   "source": [
    "### Operações em um eixo\n",
    "\n",
    "Podemos usar álgebra linear para aproximar nosso conjunto de dados. Aqui, vamos usar a [decomposição SVD (Singular Value Decomposition)](https://en.wikipedia.org/wiki/Singular_value_decomposition) para reconstruir uma imagem com menos informações do que a original, mas ainda representando a mesma imagem."
   ]
  },
  {
   "cell_type": "code",
   "execution_count": null,
   "id": "7e462c09",
   "metadata": {},
   "outputs": [],
   "source": [
    "from scipy import linalg"
   ]
  },
  {
   "cell_type": "markdown",
   "id": "73b092a7",
   "metadata": {},
   "source": [
    "Para extrairmos informações de uma matriz dada, vamos usar a SVD para obtermos 3 arrays que, quando multiplicadas, nos retornarão a matriz original. Da definição, dada uma matriz $A$, podemos calcular matrizes $U$, $\\Sigma$ e $V$ tais que\n",
    "\n",
    "$$U \\Sigma V^T = A$$\n",
    "\n",
    "em que $U$ e $V^T$ são quadradas e $\\Sigma$ tem o mesmo shape que $A$. $\\Sigma$ é diagonal e contém os [valores singulares](https://en.wikipedia.org/wiki/Singular_value) de $A$, organizados do maior para o menor. Esses valores são sempre não-negativos e podem ser usados como indicadores da importância de algumas características representadas pela matriz $A$.\n",
    "\n",
    "Na prática, vamos usar uma matriz apenas para simplificar. Note que, de acordo com a [colorimetria](https://en.wikipedia.org/wiki/Grayscale#Colorimetric_(perceptual_luminance-reserving)_conversion_to_grayscale),\n",
    "é possível obtermos uma versão em preto-e-branco da nossa imagem colorida se aplicarmos a fórmula\n",
    "\n",
    "$$Y = 0.2126 R + 0.7152 G + 0.0722 B$$\n",
    "\n",
    "em que $Y$ é uma array representando a imagem cinza, e $R$, $G$ e $B$ são as matrizes dos canais vermelho, verde e azul que calculamos antes."
   ]
  },
  {
   "cell_type": "code",
   "execution_count": null,
   "id": "5fd5df9f",
   "metadata": {},
   "outputs": [],
   "source": [
    "img_gray = img_array @ [0.2126, 0.7152, 0.0722]"
   ]
  },
  {
   "cell_type": "markdown",
   "id": "a3403f5d",
   "metadata": {},
   "source": [
    "Agora, `img_gray` tem shape"
   ]
  },
  {
   "cell_type": "code",
   "execution_count": null,
   "id": "f5463a60",
   "metadata": {},
   "outputs": [],
   "source": [
    "img_gray.shape"
   ]
  },
  {
   "cell_type": "markdown",
   "id": "2658c317",
   "metadata": {},
   "source": [
    "Para observarmos nossa imagem em tons de cinza, precisamos escolher o mapa de cores correto da Matplotlib:"
   ]
  },
  {
   "cell_type": "code",
   "execution_count": null,
   "id": "723bccf6",
   "metadata": {},
   "outputs": [],
   "source": [
    "plt.imshow(img_gray, cmap=\"gray\")\n",
    "plt.show()"
   ]
  },
  {
   "cell_type": "markdown",
   "id": "229bc5f1",
   "metadata": {},
   "source": [
    "Agora, aplicando [linalg.svd](https://docs.scipy.org/doc/scipy/reference/generated/scipy.linalg.svd.html), obtemos"
   ]
  },
  {
   "cell_type": "code",
   "execution_count": null,
   "id": "2b18e360",
   "metadata": {},
   "outputs": [],
   "source": [
    "U, s, Vt = linalg.svd(img_gray)"
   ]
  },
  {
   "cell_type": "markdown",
   "id": "5e814e6c",
   "metadata": {},
   "source": [
    "Veja que"
   ]
  },
  {
   "cell_type": "code",
   "execution_count": null,
   "id": "b99d57f2",
   "metadata": {},
   "outputs": [],
   "source": [
    "U.shape, s.shape, Vt.shape"
   ]
  },
  {
   "cell_type": "markdown",
   "id": "c9024afd",
   "metadata": {},
   "source": [
    "Note que `s` tem um shape diferente: só tem uma dimensão. Precisamos ter isso em mente pois operações voltadas para matrizes 2D podem não funcionar imediatamente. Por exemplo,"
   ]
  },
  {
   "cell_type": "code",
   "execution_count": null,
   "id": "8afc0774",
   "metadata": {
    "tags": [
     "raises-exception"
    ]
   },
   "outputs": [],
   "source": [
    "s @ Vt"
   ]
  },
  {
   "cell_type": "markdown",
   "id": "950a46c5",
   "metadata": {},
   "source": [
    "Podemos contornar essa maneira econômica de armazenar os valores de `s` reconstruindo a matriz $\\Sigma$ com as dimensões apropriadas (768x1024, já que `U` é 768x768 e `Vt` é 1024x1024.)"
   ]
  },
  {
   "cell_type": "code",
   "execution_count": null,
   "id": "4660c2e1",
   "metadata": {},
   "outputs": [],
   "source": [
    "import numpy as np\n",
    "Sigma = np.zeros((768, 1024))\n",
    "for i in range(768):\n",
    "    Sigma[i, i] = s[i]"
   ]
  },
  {
   "cell_type": "markdown",
   "id": "936de509",
   "metadata": {},
   "source": [
    "Agora, vamos verificar se nossa aproximação está correta usando a [norma da diferença](https://docs.scipy.org/doc/scipy/reference/generated/scipy.linalg.norm.html#scipy.linalg.norm):"
   ]
  },
  {
   "cell_type": "code",
   "execution_count": null,
   "id": "93378541",
   "metadata": {},
   "outputs": [],
   "source": [
    "linalg.norm(img_gray - U @ Sigma @ Vt)"
   ]
  },
  {
   "cell_type": "markdown",
   "id": "aba01152",
   "metadata": {},
   "source": [
    "Também poderíamos ter usado [numpy.allclose](https://numpy.org/devdocs/reference/generated/numpy.allclose.html#numpy.allclose):"
   ]
  },
  {
   "cell_type": "code",
   "execution_count": null,
   "id": "1623e3a2",
   "metadata": {},
   "outputs": [],
   "source": [
    "np.allclose(img_gray, U @ Sigma @ Vt)"
   ]
  },
  {
   "cell_type": "markdown",
   "id": "6db56531",
   "metadata": {},
   "source": [
    "Para ver uma aproximação será razoável, vamos analisar os valores de `s`:"
   ]
  },
  {
   "cell_type": "code",
   "execution_count": null,
   "id": "d28b38f0",
   "metadata": {},
   "outputs": [],
   "source": [
    "plt.plot(s)\n",
    "plt.show()"
   ]
  },
  {
   "cell_type": "markdown",
   "id": "3b09a454",
   "metadata": {},
   "source": [
    "No gráfico podemos ver que, apesar de termos 768 valores singulares em `s`, a maioria destes (depois do 150o valor, aproximadamente) são muito pequenos comparados aos primeiros. Então pode ser interessante usar apenas a informação dos primeiros `k` *valores singulares* para obtermos uma aproximação mais econômica da nossa imagem.\n",
    "\n",
    "Por exemplo, se escolhemos"
   ]
  },
  {
   "cell_type": "code",
   "execution_count": null,
   "id": "9f1328a1",
   "metadata": {},
   "outputs": [],
   "source": [
    "k = 10"
   ]
  },
  {
   "cell_type": "markdown",
   "id": "dfde429e",
   "metadata": {},
   "source": [
    "construimos nossa aproximação com"
   ]
  },
  {
   "cell_type": "code",
   "execution_count": null,
   "id": "63465fd8",
   "metadata": {},
   "outputs": [],
   "source": [
    "approx = U @ Sigma[:, :k] @ Vt[:k, :]"
   ]
  },
  {
   "cell_type": "markdown",
   "id": "4cde4ae8",
   "metadata": {},
   "source": [
    "Note que usamos apenas as primeiras `k` linhas de `Vt`, já que todas as outras linhas seriam multiplicadas por zeros correspondentes aos valores singulares que eliminamos da aproximação."
   ]
  },
  {
   "cell_type": "code",
   "execution_count": null,
   "id": "966282fa",
   "metadata": {},
   "outputs": [],
   "source": [
    "plt.imshow(approx, cmap=\"gray\")\n",
    "plt.show()"
   ]
  },
  {
   "cell_type": "markdown",
   "id": "5fd3855e",
   "metadata": {},
   "source": [
    "Podemos agora escolher outros valores de `k` e observar aproximações melhores ou piores."
   ]
  },
  {
   "cell_type": "markdown",
   "id": "add11cc3",
   "metadata": {},
   "source": [
    "### Aplicar às outras cores\n",
    "\n",
    "Agora queremos fazer a mesma operação a todas as cores - idealmente, ao mesmo tempo!\n",
    "\n",
    "Podemos fazer isso com a `numpy.linalg` ao invés da `scipy.linalg` - note que esses dois submódulos são ligeiramente diferentes (verifique a documentação para mais detalhes: https://numpy.org/doc/stable/reference/routines.linalg.html)"
   ]
  },
  {
   "cell_type": "markdown",
   "id": "cdeb8c38",
   "metadata": {},
   "source": [
    "No entando, precisamos organizar nossos dados para que a matriz tenha dimensões `(N, M, M)`, em que a primeira entrada representa o número de matrizes nessa _stack_ (no nosso caso, 3).\n",
    "\n",
    "Por enquanto,"
   ]
  },
  {
   "cell_type": "code",
   "execution_count": null,
   "id": "238ead87",
   "metadata": {},
   "outputs": [],
   "source": [
    "img_array.shape"
   ]
  },
  {
   "cell_type": "markdown",
   "id": "dd375221",
   "metadata": {},
   "source": [
    "então precisamos permutar os eixos dessa matriz para obtermos `(3, 768, 1024)`. Podemos usar [numpy.transpose](https://numpy.org/devdocs/reference/generated/numpy.transpose.html#numpy.transpose):\n",
    "```\n",
    "np.transpose(x, axes=(i, j, k))\n",
    "```\n",
    "em que a matriz resultante terá eixos reordenados de acordo com os índices `(i, j, k)`.\n",
    "\n",
    "Para nosso caso:"
   ]
  },
  {
   "cell_type": "code",
   "execution_count": null,
   "id": "91576317",
   "metadata": {},
   "outputs": [],
   "source": [
    "img_array_transposed = np.transpose(img_array, (2, 0, 1))\n",
    "img_array_transposed.shape"
   ]
  },
  {
   "cell_type": "markdown",
   "id": "3efd8c13",
   "metadata": {},
   "source": [
    "Agora podemos aplicar a SVD da `numpy.linalg`:"
   ]
  },
  {
   "cell_type": "code",
   "execution_count": null,
   "id": "78824e77",
   "metadata": {},
   "outputs": [],
   "source": [
    "from numpy.linalg import svd as numpy_svd"
   ]
  },
  {
   "cell_type": "code",
   "execution_count": null,
   "id": "5355c888",
   "metadata": {},
   "outputs": [],
   "source": [
    "U, s, Vt = numpy_svd(img_array_transposed)"
   ]
  },
  {
   "cell_type": "markdown",
   "id": "9ffa3bb1",
   "metadata": {},
   "source": [
    "Finalmente, precisamos reconstruir nossa imagem. Note que"
   ]
  },
  {
   "cell_type": "code",
   "execution_count": null,
   "id": "0bd9072f",
   "metadata": {},
   "outputs": [],
   "source": [
    "U.shape, s.shape, Vt.shape"
   ]
  },
  {
   "cell_type": "markdown",
   "id": "ba20208f",
   "metadata": {},
   "source": [
    "### Produtos com arrays n-dimensionais\n",
    "\n",
    "Se você está acostumado a matrizes 1- ou 2-D, talvez pense em usar [numpy.dot](https://numpy.org/devdocs/reference/generated/numpy.dot.html#numpy.dot) e [numpy.matmul](https://numpy.org/devdocs/reference/generated/numpy.matmul.html#numpy.matmul) (ou o operador `@`) sem ver diferenças entre eles. No entanto, para matrizes n-dimensionais, isso não é verdade (veja a documentação para mais detalhes: https://numpy.org/devdocs/reference/generated/numpy.matmul.html).\n",
    "\n",
    "Vamos reconstruir `Sigma` com [fill_diagonal](https://numpy.org/devdocs/reference/generated/numpy.fill_diagonal.html), usando cada uma das 3 linhas em `s` como a diagonal de cada uma das 3 matrizes em `Sigma`:"
   ]
  },
  {
   "cell_type": "code",
   "execution_count": null,
   "id": "8e2448ac",
   "metadata": {},
   "outputs": [],
   "source": [
    "Sigma = np.zeros((3, 768, 1024))\n",
    "for j in range(3):\n",
    "    np.fill_diagonal(Sigma[j, :, :], s[j, :])"
   ]
  },
  {
   "cell_type": "markdown",
   "id": "4c3681b2",
   "metadata": {},
   "source": [
    "Agora,"
   ]
  },
  {
   "cell_type": "code",
   "execution_count": null,
   "id": "4437b111",
   "metadata": {},
   "outputs": [],
   "source": [
    "reconstructed = U @ Sigma @ Vt"
   ]
  },
  {
   "cell_type": "markdown",
   "id": "89fc70f3",
   "metadata": {},
   "source": [
    "Note que"
   ]
  },
  {
   "cell_type": "code",
   "execution_count": null,
   "id": "92bbd0be",
   "metadata": {},
   "outputs": [],
   "source": [
    "reconstructed.shape"
   ]
  },
  {
   "cell_type": "markdown",
   "id": "2c86a91c",
   "metadata": {},
   "source": [
    "Finalmente,"
   ]
  },
  {
   "cell_type": "code",
   "execution_count": null,
   "id": "17e84d6d",
   "metadata": {},
   "outputs": [],
   "source": [
    "plt.imshow(np.transpose(reconstructed, (1, 2, 0)))\n",
    "plt.show()"
   ]
  },
  {
   "cell_type": "markdown",
   "id": "c5a0adbe",
   "metadata": {},
   "source": [
    "Essa imagem deve ser visualmente indistinguível da original (apesar de que podemos ter introduzido erros numéricos com a reconstrução). Uma mensagem de erro do tipo `\"Clipping input data to the valid range for imshow with RGB data ([0..1] for floats or [0..255] for integers).\"` é esperada já que manipulamos os dados originais e eles provavelmente não estão mais no intervalo [0, 1].\n",
    "\n",
    "Agora, assim como antes, escolhemos o número `k` de valores singulares que usaremos na reconstrução:"
   ]
  },
  {
   "cell_type": "code",
   "execution_count": null,
   "id": "41aad860",
   "metadata": {},
   "outputs": [],
   "source": [
    "approx_img = U @ Sigma[..., :k] @ Vt[..., :k, :]"
   ]
  },
  {
   "cell_type": "markdown",
   "id": "5ab2831c",
   "metadata": {},
   "source": [
    "Veja que selecionamos\n",
    "- apenas os `k` primeiros componentes do último eixo de `Sigma` (ou seja, usamos apenas as primeiras `k` colunas de cada uma das três matrizes nesse stack)\n",
    "- apenas os primeiros `k` componentes do penúltimo eixo de `Vt` (ou seja, usamos apenas as primeiras `k` linhas de cada matriz da stack `Vt` e todas as colunas).\n",
    "\n",
    "Para ler mais sobre a sintaxe de elipse (que denota uma abreviação dos outros eixos), veja [Indexing](https://numpy.org/devdocs/user/basics.indexing.html).\n",
    "\n",
    "Agora,"
   ]
  },
  {
   "cell_type": "code",
   "execution_count": null,
   "id": "46092ceb",
   "metadata": {},
   "outputs": [],
   "source": [
    "approx_img.shape"
   ]
  },
  {
   "cell_type": "markdown",
   "id": "eced14cb",
   "metadata": {},
   "source": [
    "que não é o shape correto para nossa imagem. Mais uma vez, vamos transpor nossa matriz, obtendo"
   ]
  },
  {
   "cell_type": "code",
   "execution_count": null,
   "id": "cb5554a3",
   "metadata": {},
   "outputs": [],
   "source": [
    "plt.imshow(np.transpose(approx_img, (1, 2, 0)))\n",
    "plt.show()"
   ]
  },
  {
   "cell_type": "markdown",
   "id": "8a50aa81",
   "metadata": {},
   "source": [
    "A imagem será mais precisa com mais valores singulares, e menos precisa com menos valores singulares. Mesmo assim, podemos ver as características mais importantes da imagem usando menos \"dados\"."
   ]
  }
 ],
 "metadata": {
  "jupytext": {
   "kernelspec": {
    "display_name": "Python 3 (ipykernel)",
    "language": "python",
    "name": "python3"
   }
  },
  "kernelspec": {
   "display_name": "Python 3 (ipykernel)",
   "language": "python",
   "name": "python3"
  }
 },
 "nbformat": 4,
 "nbformat_minor": 5
}
