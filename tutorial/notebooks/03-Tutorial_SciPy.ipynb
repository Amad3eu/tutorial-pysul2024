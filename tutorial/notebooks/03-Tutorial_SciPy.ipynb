{
 "cells": [
  {
   "cell_type": "code",
   "execution_count": null,
   "id": "48c5896e",
   "metadata": {},
   "outputs": [],
   "source": [
    "from IPython.display import Image\n",
    "Image(url=\"https://scipy.org/images/logo.svg\", width=200)"
   ]
  },
  {
   "cell_type": "markdown",
   "id": "9a4726d4",
   "metadata": {},
   "source": [
    "<!-- #region tags=[\"chapter\"] -->\n",
    "# SciPy: algoritmos para computação científica\n",
    "\n",
    "A SciPy é um conjunto de bibliotecas para computação científica, incluindo:\n",
    "- integração numérica\n",
    "- interpolação\n",
    "- processamento de sinais\n",
    "- álgebra linear\n",
    "- estatística\n",
    "- otimização matemática\n",
    "- tratamento de matrizes esparsas\n",
    "\n",
    "Sua base é a NumPy.\n",
    "<!-- #endregion -->"
   ]
  },
  {
   "cell_type": "code",
   "execution_count": null,
   "id": "7c283b9a",
   "metadata": {},
   "outputs": [],
   "source": [
    "import scipy as sp\n",
    "print(sp.__doc__)"
   ]
  },
  {
   "cell_type": "markdown",
   "id": "4a3ff659",
   "metadata": {},
   "source": [
    "## Alguns exemplos curtos"
   ]
  },
  {
   "cell_type": "markdown",
   "id": "fa5610af",
   "metadata": {},
   "source": [
    "### Exemplo: Minimização de funções"
   ]
  },
  {
   "cell_type": "code",
   "execution_count": null,
   "id": "ea3efa24",
   "metadata": {},
   "outputs": [],
   "source": [
    "from scipy.optimize import fmin"
   ]
  },
  {
   "cell_type": "code",
   "execution_count": null,
   "id": "27a1d185",
   "metadata": {},
   "outputs": [],
   "source": [
    "func = lambda x : x**2"
   ]
  },
  {
   "cell_type": "code",
   "execution_count": null,
   "id": "f7af281a",
   "metadata": {},
   "outputs": [],
   "source": [
    "fmin(func, -1)"
   ]
  },
  {
   "cell_type": "markdown",
   "id": "638a92a0",
   "metadata": {},
   "source": [
    "### Exemplo: integração numérica\n",
    "\n",
    "\n",
    "Dada a equação diferencial ordinária\n",
    "\n",
    "\n",
    "$$\\frac{dy(t)}{dt} = -y(t) + 1$$\n",
    "$$y(0) = 0$$\n",
    "\n",
    "\n",
    "Encontre uma solução numérica para a equação diferencial com condição inicial associada. Expanda o horizonte temporal até encontrar uma solução estável."
   ]
  },
  {
   "cell_type": "code",
   "execution_count": null,
   "id": "fd763d06",
   "metadata": {},
   "outputs": [],
   "source": [
    "%matplotlib widget\n",
    "import numpy as np\n",
    "from scipy.integrate import solve_ivp\n",
    "import matplotlib.pyplot as plt\n",
    "\n",
    "def exponential_decay(t, y): return -0.5 * y\n",
    "\n",
    "# solve_ivp(fun, t_span, y0)\n",
    "sol = solve_ivp(exponential_decay, [0, 10], [2, 4, 8])\n",
    "\n",
    "print(sol.t)"
   ]
  },
  {
   "cell_type": "code",
   "execution_count": null,
   "id": "b169bba1",
   "metadata": {},
   "outputs": [],
   "source": [
    "print(sol.y)"
   ]
  },
  {
   "cell_type": "code",
   "execution_count": null,
   "id": "878768e1",
   "metadata": {},
   "outputs": [],
   "source": [
    "# plot results\n",
    "fig = plt.figure()\n",
    "plt.plot(sol.t, sol.y.T)\n",
    "plt.xlabel('time')\n",
    "plt.ylabel('y(t)')\n",
    "plt.show()"
   ]
  },
  {
   "cell_type": "markdown",
   "id": "f482e47d",
   "metadata": {},
   "source": [
    "### Exemplo: Regressão usando 3 métodos"
   ]
  },
  {
   "cell_type": "code",
   "execution_count": null,
   "id": "446af4de",
   "metadata": {},
   "outputs": [],
   "source": [
    "import numpy as np\n",
    "from scipy.interpolate import interp1d\n",
    "import matplotlib.pyplot as plt\n",
    "\n",
    "# Criação de dados\n",
    "x = np.arange(10)\n",
    "y = x + 5*np.random.rand(10) - 6*np.random.rand(10)\n",
    "\n",
    "# Regressão Linear\n",
    "(a_linear, b_linear) = np.polyfit(x, y, 1)\n",
    "# Ajuste quadrático\n",
    "(a_quad, b_quad, c_quad) = np.polyfit(x, y, 2)\n",
    "# Interpolação\n",
    "f = interp1d(x, y)\n",
    "\n",
    "# Gráfico\n",
    "fig, ax = plt.subplots()\n",
    "t = np.linspace(0, 9, 50)\n",
    "ax.set_title('Exemplo: ajuste de curvas')\n",
    "ax.plot(x, y, 'r*')\n",
    "ax.plot(t, a_linear*t+b_linear,'g')\n",
    "ax.plot(t, a_quad*t**2+b_quad*t+c_quad, 'm')\n",
    "ax.plot(t, f(t), 'b')\n",
    "ax.legend(['linear', 'quadrático', 'interpolação'])"
   ]
  },
  {
   "cell_type": "markdown",
   "id": "ccc1c9da",
   "metadata": {},
   "source": [
    "### Exemplo: Teste de hipótese estatística"
   ]
  },
  {
   "cell_type": "markdown",
   "id": "2b56d292",
   "metadata": {},
   "source": [
    "_(baseado na documentação oficial da SciPy: https://scipy.github.io/devdocs/tutorial/stats/hypothesis_chi2_contingency.html)_\n",
    "\n",
    "Em estatística, é comum usarmos [testes de hipóteses](https://pt.wikipedia.org/wiki/Testes_de_hip%C3%B3teses) para verificar se uma dada observação tem significado estatístico (ou seja, não pode ser atribuida ao acaso).\n",
    "\n",
    "No artigo https://doi.org/10.1001/jama.295.3.306, um grupo de pesquisadores analisou o uso de aspirina para a prevenção de eventos cardiovasculares. O estudo concluiu que\n",
    "\n",
    "> ...aspirin therapy reduced the risk of a composite of cardiovascular events due to its effect on reducing the risk of ischemic stroke in women\n",
    "\n",
    "O artigo examina os resultados de um experimento em que participantes tomaram aspirina ou placebo regularmente por vários anos. Os casos de [isquemia cerebral](https://pt.wikipedia.org/wiki/Isquemia_cerebral) foram registrados na tabela seguinte:"
   ]
  },
  {
   "cell_type": "markdown",
   "id": "25c7110f",
   "metadata": {},
   "source": [
    "|                   | Aspirina | Controle/Placebo |\n",
    "|-------------------|----------|------------------|\n",
    "| Isquemia cerebral |   176    |       230        |\n",
    "| Sem isquemia      |  21035   |      21018       |"
   ]
  },
  {
   "cell_type": "markdown",
   "id": "05972a95",
   "metadata": {},
   "source": [
    "Existem evidências de que a aspirina reduz o risco de isquemias cerebrais? Começamos formulando uma hipótese nula:"
   ]
  },
  {
   "cell_type": "markdown",
   "id": "004b607b",
   "metadata": {},
   "source": [
    "> O efeito da aspirina é equivalente ao efeito do placebo."
   ]
  },
  {
   "cell_type": "markdown",
   "id": "4d3ec818",
   "metadata": {},
   "source": [
    "Vamos avaliar a validade (ou não) dessa hipótese com um [teste qui-quadrado](https://pt.wikipedia.org/wiki/Qui-quadrado) usando a tabela acima como entrada."
   ]
  },
  {
   "cell_type": "code",
   "execution_count": null,
   "id": "d0cae98a",
   "metadata": {},
   "outputs": [],
   "source": [
    "import numpy as np\n",
    "from scipy.stats import chi2_contingency\n",
    "table = np.array([[176, 230], [21035, 21018]])\n",
    "res = chi2_contingency(table)\n",
    "res.statistic"
   ]
  },
  {
   "cell_type": "code",
   "execution_count": null,
   "id": "35da6c76",
   "metadata": {},
   "outputs": [],
   "source": [
    "res.pvalue"
   ]
  },
  {
   "cell_type": "markdown",
   "id": "523800e5",
   "metadata": {},
   "source": [
    "Usando um nível de significância de 5%, neste ponto rejeitaríamos a hipótese nula em favor da hipótese alternativa: \"o efeito da aspirina não é equivalente ao efeito do placebo\". No entanto, o teste que usamos aqui não permite decidirmos a direção do efeito. Podemos usar [a função `scipy.stats.contingency.odds_ratio`](https://scipy.github.io/devdocs/tutorial/stats/hypothesis_odds_ratio.html) - ([em português, Razão de possibilidades](https://pt.wikipedia.org/wiki/Raz%C3%A3o_de_possibilidades)) para isso. A razão de possibilidades é definida como a razão entre a chance de um evento ocorrer em um grupo e a chance de ocorrer em outro grupo. No nosso caso:"
   ]
  },
  {
   "cell_type": "code",
   "execution_count": null,
   "id": "701b5faa",
   "metadata": {},
   "outputs": [],
   "source": [
    "from scipy.stats.contingency import odds_ratio\n",
    "\n",
    "res = odds_ratio(table)\n",
    "res"
   ]
  },
  {
   "cell_type": "markdown",
   "id": "6776e11e",
   "metadata": {},
   "source": [
    "Para nossa amostra, a chance de observarmos uma isquemia cerebral entre as pessoas que tomam aspirina regularmente é cerca de 0.76 vezes a chance de observar esse evento entre as pessoas que receberam placebo.\n",
    "\n",
    "Para fazermos inferências estatísticas sobre a população estudada, podemos calcular o [intervalo de confiança](https://pt.wikipedia.org/wiki/Intervalo_de_confian%C3%A7a) para essa razão de possibilidades. O nível de confiança é a frequência com a qual o intervalo observado contém o parâmetro real de interesse quando o experimento é repetido várias vezes. Se um teste de hipótese for realizado, o nível de confiança é o complemento do nível de significância. Logo, calculamos o intervalo de confiança de 95% para essa população:"
   ]
  },
  {
   "cell_type": "code",
   "execution_count": null,
   "id": "66a2860b",
   "metadata": {},
   "outputs": [],
   "source": [
    "res.confidence_interval(confidence_level=0.95)"
   ]
  },
  {
   "cell_type": "markdown",
   "id": "e4931f88",
   "metadata": {},
   "source": [
    "Como o intervalo de confiança não contém o valor 1, existe suporte para a conclusão dos autores de que o uso regular de aspirina está associado com uma redução na incidência de isquemias cerebrais nessa população."
   ]
  }
 ],
 "metadata": {
  "jupytext": {
   "kernelspec": {
    "display_name": "Python 3 (ipykernel)",
    "language": "python",
    "name": "python3"
   }
  },
  "kernelspec": {
   "display_name": "Python 3 (ipykernel)",
   "language": "python",
   "name": "python3"
  },
  "language_info": {
   "codemirror_mode": {
    "name": "ipython",
    "version": 3
   },
   "file_extension": ".py",
   "mimetype": "text/x-python",
   "name": "python",
   "nbconvert_exporter": "python",
   "pygments_lexer": "ipython3",
   "version": "3.12.6"
  }
 },
 "nbformat": 4,
 "nbformat_minor": 5
}
