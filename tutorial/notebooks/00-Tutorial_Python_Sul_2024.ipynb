{
 "cells": [
  {
   "cell_type": "markdown",
   "id": "0be3199f",
   "metadata": {},
   "source": [
    "# O Ecossistema Científico no Python\n",
    "\n",
    "```python\n",
    "import numpy as np\n",
    "import scipy as sp\n",
    "import matplotlib as mpl\n",
    "```\n",
    "\n",
    "## Introdução\n",
    "\n",
    "- [Quem sou eu?](https://github.com/melissawm) 👋\n",
    "- [Código de Conduta](https://python.org.br/cdc/) 🤝\n",
    "\n",
    "### O que é esse tutorial?\n",
    "\n",
    "- Primeiro contato\n",
    "- Conceitos básicos e quando usar essas bibliotecas\n",
    "- Onde buscar ajuda"
   ]
  },
  {
   "cell_type": "code",
   "execution_count": null,
   "id": "4607b959",
   "metadata": {},
   "outputs": [],
   "source": [
    "from IPython.display import Image\n",
    "Image(url=\"https://i.imgur.com/MBQqSmT.jpg\", width=600)"
   ]
  },
  {
   "cell_type": "markdown",
   "id": "2d092c21",
   "metadata": {},
   "source": [
    "### Computação Científica"
   ]
  },
  {
   "cell_type": "code",
   "execution_count": null,
   "id": "9b3baea0",
   "metadata": {},
   "outputs": [],
   "source": [
    "Image(\"imagens/comp_cientifica.png\", width=600)"
   ]
  },
  {
   "cell_type": "markdown",
   "id": "e59471d1",
   "metadata": {},
   "source": [
    "Na prática..."
   ]
  },
  {
   "cell_type": "code",
   "execution_count": null,
   "id": "fd8145bf",
   "metadata": {},
   "outputs": [],
   "source": [
    "Image(\"imagens/comp_cientifica_2.png\", width=600)"
   ]
  },
  {
   "cell_type": "markdown",
   "id": "927b5f10",
   "metadata": {},
   "source": [
    "*Baseado [nessa imagem](https://agilescientific.com/blog/2018/1/10/what-is-scientific-computing)*\n",
    "\n",
    "---\n",
    "\n",
    "### O que é o ecossistema científico do Python? Quem mora nele?"
   ]
  },
  {
   "cell_type": "code",
   "execution_count": null,
   "id": "022700c8",
   "metadata": {},
   "outputs": [],
   "source": [
    "Image(url=\"https://media.springernature.com/full/springer-static/image/art%3A10.1038%2Fs41586-020-2649-2/MediaObjects/41586_2020_2649_Fig2_HTML.png\", width=600)"
   ]
  },
  {
   "cell_type": "markdown",
   "id": "afe91cbe",
   "metadata": {},
   "source": [
    "*Fonte: Harris et al., \"Array Programming with NumPy\", Nature volume 585, pages 357–362 (2020)*\n",
    "\n",
    "---\n",
    "\n",
    "#### Histórico\n",
    "\n",
    "- BLAS (1979) - especificação de rotinas de baixo nível para operações comuns de álgebra linear\n",
    "- LAPACK\n",
    "- MATLAB\n",
    "- Python\n",
    "    - Numeric/Numarray\n",
    "    - NumPy (2005)\n",
    "\n",
    "---\n",
    "\n",
    "#### Linguagens e habilidades\n",
    "\n",
    "| github.com/numpy/numpy | github.com/scipy/scipy |\n",
    "--------|---------------------------------------\n",
    "| ![](https://i.imgur.com/z6zsl4Q.png) | ![](https://i.imgur.com/HJWrdZr.png) |\n",
    "\n",
    "- Documentação/Escrita técnica\n",
    "- Desenvolvimento Web\n",
    "- Design/UX\n",
    "- Comunicação\n",
    "- Gerenciamento de projetos\n",
    "\n",
    "---\n",
    "\n",
    "#### Comunidades: usuários e desenvolvedores\n",
    "\n",
    "- Cientistas\n",
    "- Pessoas da indústria\n",
    "- Voluntários\n",
    "- Bolsas, patrocínio, doações\n",
    "\n",
    "---\n",
    "\n",
    "## Conteúdo desse tutorial\n",
    "\n",
    "- [Parte 1. NumPy](01-Tutorial_NumPy.md)\n",
    "- [Parte 2. Matplotlib](02-Tutorial_Matplotlib.md)\n",
    "- [Parte 3. SciPy](03-Tutorial_SciPy.md)\n",
    "- Parte 4. Exemplos práticos\n",
    "    - [Aproximação de imagens usando a SVD](04-Exemplo_SVD.md)\n",
    "    - [Queimadas](05-Exemplo_Queimadas.md)\n",
    "- Exemplos extra\n",
    "    - [Arrays com máscara (masked arrays)](0x-Exemplo_Masked_Arrays.md)\n",
    "\n",
    "---\n",
    "\n",
    "## Outras ferramentas\n",
    "\n",
    "- [Pandas](https://pandas.pydata.org/https://pandas.pydata.org/)\n",
    "- [SymPy](https://www.sympy.org/pt/index.htmlhttps://www.sympy.org/pt/index.html)\n",
    "- [scikit-learn](https://scikit-learn.orghttps://scikit-learn.org)\n",
    "- [scikit-image](https://scikit-image.org/https://scikit-image.org/)\n",
    "- [Dask](https://dask.org/https://dask.org/)\n",
    "- [PyTorch](https://pytorch.org/https://pytorch.org/)\n",
    "- [TensorFlow](https://www.tensorflow.orghttps://www.tensorflow.org)\n",
    "- [Julia](https://julialang.org/https://julialang.org/)\n",
    "- [Fortran](https://fortran-lang.org/https://fortran-lang.org/)\n",
    "<!-- #endregion -->\n",
    "\n",
    "## Referências\n",
    "\n",
    "Algumas referências interessantes e caminhos para mais informações além da documentação oficial.\n",
    "\n",
    "- [From Python to NumPy](https://github.com/rougier/from-python-to-numpy), livro aberto de Nicolas Rougier.\n",
    "- [Scientific Python Lectures](https://lectures.scientific-python.org/)\n",
    "- [Elegant SciPy](https://github.com/elegant-scipy/elegant-scipy), livro aberto de Juan Nunez-Iglesias, Harriet Dashnow and Stéfan van der Walt (também publicado pela O'Reilly)\n",
    "\n",
    "## Obrigada! 💖\n",
    "\n",
    "`@melissawm`"
   ]
  },
  {
   "cell_type": "code",
   "execution_count": null,
   "id": "2f6be20b",
   "metadata": {},
   "outputs": [],
   "source": []
  }
 ],
 "metadata": {
  "jupytext": {
   "kernelspec": {
    "display_name": "Python 3 (ipykernel)",
    "language": "python",
    "name": "python3"
   }
  },
  "kernelspec": {
   "display_name": "Python 3 (ipykernel)",
   "language": "python",
   "name": "python3"
  }
 },
 "nbformat": 4,
 "nbformat_minor": 5
}
