{
 "cells": [
  {
   "cell_type": "code",
   "execution_count": null,
   "id": "e37fbf30",
   "metadata": {},
   "outputs": [],
   "source": [
    "from IPython.display import Image\n",
    "Image(\"imagens/numpylogo.png\", width=600)"
   ]
  },
  {
   "cell_type": "markdown",
   "id": "21d8b5e6",
   "metadata": {},
   "source": [
    "# NumPy: a base da computação científica no Python"
   ]
  },
  {
   "cell_type": "code",
   "execution_count": null,
   "id": "be5d51f1",
   "metadata": {},
   "outputs": [],
   "source": [
    "import numpy as np"
   ]
  },
  {
   "cell_type": "markdown",
   "id": "f005d22e",
   "metadata": {},
   "source": [
    "## O que é a NumPy?\n",
    "\n",
    "> A computação com arrays é a base para estatística e matemática computacionais, computação científica e suas várias aplicações em ciência e análise de dados, tais como visualização de dados, processamento de sinais digitais, processamento de imagens, bioinformática, aprendizagem de máquina, IA e muitas outras.\n",
    ">\n",
    "> A manipulação e a transformação de dados de grande escala dependem de computação eficiente de alta performance com arrays. A linguagem mais escolhida para análise de dados, aprendizagem de máquina e computação numérica produtiva é Python.\n",
    ">\n",
    "> Numerical Python (Python Numérico) ou NumPy é a biblioteca em Python padrão para o suporte à utilização de matrizes e arrays  multidimensionais de grande porte, e vem com uma vasta coleção de funções matemáticas de alto nível para operar nestas arrays.\n",
    ">\n",
    "> Desde o lançamento do NumPy em 2006, o Pandas apareceu em 2008, e nos últimos anos vimos uma sucessão de bibliotecas de computação com arrays aparecerem, ocupando e preenchendo o campo da computação com arrays. Muitas dessas bibliotecas mais recentes imitam recursos e capacidades parecidas com o NumPy e entregam algoritmos e recursos mais recentes voltados para aplicações de aprendizagem de máquina e inteligência artificial.\n",
    ">\n",
    "> A computação com arrays é baseada em estruturas de dados chamadas arrays. Arrays são usadas para organizar grandes quantidades de dados de forma que um conjunto de valores relacionados possa ser facilmente ordenado, obtido, matematicamente manipulado e transformado fácil e rapidamente.\n",
    ">\n",
    "> A computação com arrays é única pois envolve operar nos valores de um array de dados de uma vez. Isso significa que qualquer operação de array se aplica a todo um conjunto de valores de uma só vez. Esta abordagem vetorizada fornece velocidade e simplicidade por permitir que os programadores organizem o código e operem em agregados de dados, sem ter que usar laços com operações escalares individuais.\n",
    "\n",
    "(Fonte: [https://numpy.org](https://numpy.org))\n",
    "\n",
    "A biblioteca NumPy consiste em:\n",
    "\n",
    "- objeto `ndarray` (array homogêneo n-dimensional)\n",
    "- capacidade de **broadcasting**\n",
    "- funções matemáticas padrão com capacidade de vetorização\n",
    "- ferramentas para a integração de código C/C++ e Fortran\n",
    "- álgebra linear, transformadas de Fourier, gerador de números aleatórios\n",
    "\n",
    "---\n",
    "\n",
    "### Por que não usar listas? _(Array-oriented programming)_\n",
    "\n",
    "Uma lista em Python é às vezes vista como equivalente de um *array* em outras linguagens, mas uma lista é mutável e pode conter elementos de tipos diferentes.\n",
    "\n",
    "Quando uma array de fato contém elementos de um só tipo, temos algumas vantagens:\n",
    "- Tamanho\n",
    "- Desempenho\n",
    "- Funcionalidades específicas\n",
    "\n",
    "🎈 Link interessante: https://webcourses.ucf.edu/courses/1249560/pages/python-lists-vs-numpy-arrays-what-is-the-difference\n",
    "\n",
    "#### Alguns exemplos"
   ]
  },
  {
   "cell_type": "code",
   "execution_count": null,
   "id": "390b185e",
   "metadata": {},
   "outputs": [],
   "source": [
    "n = 10_000_000\n",
    "v = []\n",
    "w = []\n",
    "for i in range(n):\n",
    "    v.append(i)\n",
    "    w.append(i/10)"
   ]
  },
  {
   "cell_type": "code",
   "execution_count": null,
   "id": "48c0920a",
   "metadata": {},
   "outputs": [],
   "source": [
    "type(v), type(w)"
   ]
  },
  {
   "cell_type": "code",
   "execution_count": null,
   "id": "ae09551e",
   "metadata": {},
   "outputs": [],
   "source": [
    "%timeit v + w"
   ]
  },
  {
   "cell_type": "code",
   "execution_count": null,
   "id": "9dcb4234",
   "metadata": {},
   "outputs": [],
   "source": [
    "v_np = np.array(v)\n",
    "w_np = np.array(w)"
   ]
  },
  {
   "cell_type": "code",
   "execution_count": null,
   "id": "05c2ecae",
   "metadata": {},
   "outputs": [],
   "source": [
    "type(v_np), type(w_np)"
   ]
  },
  {
   "cell_type": "code",
   "execution_count": null,
   "id": "def3122f",
   "metadata": {},
   "outputs": [],
   "source": [
    "v_np.dtype, w_np.dtype"
   ]
  },
  {
   "cell_type": "code",
   "execution_count": null,
   "id": "59794231",
   "metadata": {},
   "outputs": [],
   "source": [
    "v_np.shape"
   ]
  },
  {
   "cell_type": "code",
   "execution_count": null,
   "id": "884138f4",
   "metadata": {},
   "outputs": [],
   "source": [
    "v_np.size"
   ]
  },
  {
   "cell_type": "code",
   "execution_count": null,
   "id": "89bf2603",
   "metadata": {},
   "outputs": [],
   "source": [
    "v_np.nbytes/v_np.size"
   ]
  },
  {
   "cell_type": "code",
   "execution_count": null,
   "id": "98fa396c",
   "metadata": {},
   "outputs": [],
   "source": [
    "%timeit v_np + w_np"
   ]
  },
  {
   "cell_type": "markdown",
   "id": "7bd16401",
   "metadata": {},
   "source": [
    "Outro exemplo:"
   ]
  },
  {
   "cell_type": "code",
   "execution_count": null,
   "id": "d43ffe68",
   "metadata": {},
   "outputs": [],
   "source": [
    "%timeit np.fromiter(map(lambda x: x**2, v), int)"
   ]
  },
  {
   "cell_type": "code",
   "execution_count": null,
   "id": "7c1e0360",
   "metadata": {},
   "outputs": [],
   "source": [
    "%timeit v_np**2"
   ]
  },
  {
   "cell_type": "markdown",
   "id": "182889d7",
   "metadata": {},
   "source": [
    "#### E o módulo array?"
   ]
  },
  {
   "cell_type": "code",
   "execution_count": null,
   "id": "eef07cd3",
   "metadata": {},
   "outputs": [],
   "source": [
    "import array"
   ]
  },
  {
   "cell_type": "code",
   "execution_count": null,
   "id": "ae7e6c6c",
   "metadata": {},
   "outputs": [],
   "source": [
    "v_arr = array.array('d', v)\n",
    "w_arr = array.array('d', w)"
   ]
  },
  {
   "cell_type": "code",
   "execution_count": null,
   "id": "fa9c882f",
   "metadata": {},
   "outputs": [],
   "source": [
    "v_arr.typecode"
   ]
  },
  {
   "cell_type": "code",
   "execution_count": null,
   "id": "a8617470",
   "metadata": {},
   "outputs": [],
   "source": [
    "%timeit v_arr + w_arr"
   ]
  },
  {
   "cell_type": "markdown",
   "id": "5aae2a18",
   "metadata": {},
   "source": [
    "🎈 Link interessante: https://medium.com/@gough.cory/performance-of-numpy-array-vs-python-list-194c8e283b65\n",
    "\n",
    "\n",
    "#### Como isso acontece?\n",
    "\n",
    "As arrays do NumPy são eficientes porque \n",
    "- são compatíveis com as rotinas de álgebra linear escritas em C/C++ ou Fortran\n",
    "- são *views* de objetos alocados por C/C++, Fortran e Cython\n",
    "- as operações vetorizadas em geral evitam copiar arrays desnecessariamente"
   ]
  },
  {
   "cell_type": "code",
   "execution_count": null,
   "id": "fcc69087",
   "metadata": {},
   "outputs": [],
   "source": [
    "Image(url=\"https://media.springernature.com/full/springer-static/image/art%3A10.1038%2Fs41586-020-2649-2/MediaObjects/41586_2020_2649_Fig1_HTML.png\", width=600)"
   ]
  },
  {
   "cell_type": "markdown",
   "id": "acb02720",
   "metadata": {},
   "source": [
    "*Fonte: Harris et al., \"Array Programming with NumPy\", Nature volume 585, pages 357–362 (2020)*"
   ]
  },
  {
   "cell_type": "markdown",
   "id": "82973749",
   "metadata": {},
   "source": [
    "### Resumo\n",
    "\n",
    "|`list: [,]`            | `numpy.ndarray: array([,])`|\n",
    "|-----------------------|----------------------------|\n",
    "| Ordenadas             | Ordenadas                  |\n",
    "| Valores mutáveis      | Valores mutáveis           |\n",
    "| Dinamicamente tipadas | Estaticamente tipadas      |\n",
    "| Comprimento mutável   | Comprimento imutável       |"
   ]
  },
  {
   "cell_type": "markdown",
   "id": "f1c8b34d",
   "metadata": {},
   "source": [
    "<!-- #region tags=[\"section\"] -->\n",
    "## Vetorização\n",
    "<!-- #endregion -->\n",
    "\n",
    "Vetorização é a capacidade de expressar operações em arrays sem especificar o que acontece com cada elemento individual (em outras palavras: sem usar loops!)\n",
    "\n",
    "- Código vetorizado é mais conciso e legível\n",
    "- O código fica (ligeiramente) mais parecido com a notação matemática\n",
    "- Mais rápido (usa operações otimizadas em C/Fortran)\n",
    "\n",
    "\n",
    "### Vetorização: Exemplo 1"
   ]
  },
  {
   "cell_type": "code",
   "execution_count": null,
   "id": "4e14bb4a",
   "metadata": {},
   "outputs": [],
   "source": [
    "v = np.array([1, 2, 3, 4])"
   ]
  },
  {
   "cell_type": "code",
   "execution_count": null,
   "id": "8c712251",
   "metadata": {},
   "outputs": [],
   "source": [
    "v**2"
   ]
  },
  {
   "cell_type": "code",
   "execution_count": null,
   "id": "fabb8bd8",
   "metadata": {},
   "outputs": [],
   "source": [
    "np.power(v, 2)"
   ]
  },
  {
   "cell_type": "code",
   "execution_count": null,
   "id": "4fa1281a",
   "metadata": {},
   "outputs": [],
   "source": [
    "u = np.array([4.5, 3, 2, 1])"
   ]
  },
  {
   "cell_type": "code",
   "execution_count": null,
   "id": "1f17702f",
   "metadata": {},
   "outputs": [],
   "source": [
    "np.dot(u, v) "
   ]
  },
  {
   "cell_type": "markdown",
   "id": "0011515c",
   "metadata": {},
   "source": [
    "#### Nota: onde estão implementadas as funções do NumPy?"
   ]
  },
  {
   "cell_type": "code",
   "execution_count": null,
   "id": "1c921cc4",
   "metadata": {},
   "outputs": [],
   "source": [
    "print(np.dot.__doc__)"
   ]
  },
  {
   "cell_type": "code",
   "execution_count": null,
   "id": "a9c847f5",
   "metadata": {},
   "outputs": [],
   "source": [
    "np.info(np.dot)"
   ]
  },
  {
   "cell_type": "code",
   "execution_count": null,
   "id": "d3d65b9f",
   "metadata": {},
   "outputs": [],
   "source": [
    "np.dot?"
   ]
  },
  {
   "cell_type": "markdown",
   "id": "739b5cde",
   "metadata": {},
   "source": [
    "❓❓\n",
    "- [Código fonte da função `np.dot`](https://github.com/numpy/numpy/blob/main/numpy/_core/multiarray.py#L754)\n",
    "- [Agora de verdade](https://github.com/numpy/numpy/blob/main/numpy/_core/src/multiarray/methods.c#L2417)\n",
    "- [For realz](https://github.com/numpy/numpy/blob/main/numpy/_core/src/multiarray/multiarraymodule.c#L983)"
   ]
  },
  {
   "cell_type": "markdown",
   "id": "4afda644",
   "metadata": {},
   "source": [
    "#### Cuidado!\n",
    "\n",
    "Algumas funções da biblioteca padrão estão reimplementadas na NumPy com funcionalidade ligeiramente diferente. Nunca use `from numpy import *`!"
   ]
  },
  {
   "cell_type": "code",
   "execution_count": null,
   "id": "d50e8756",
   "metadata": {},
   "outputs": [],
   "source": [
    "sum?"
   ]
  },
  {
   "cell_type": "code",
   "execution_count": null,
   "id": "f418f90c",
   "metadata": {},
   "outputs": [],
   "source": [
    "sum(range(5), -1)"
   ]
  },
  {
   "cell_type": "code",
   "execution_count": null,
   "id": "0cb03194",
   "metadata": {},
   "outputs": [],
   "source": [
    "from numpy import *\n",
    "sum(range(5), -1)"
   ]
  },
  {
   "cell_type": "code",
   "execution_count": null,
   "id": "97721929",
   "metadata": {},
   "outputs": [],
   "source": [
    "np.sum?"
   ]
  },
  {
   "cell_type": "code",
   "execution_count": null,
   "id": "55c3940c",
   "metadata": {},
   "outputs": [],
   "source": [
    "%reset -f"
   ]
  },
  {
   "cell_type": "code",
   "execution_count": null,
   "id": "b552b8c1",
   "metadata": {},
   "outputs": [],
   "source": [
    "import numpy as np"
   ]
  },
  {
   "cell_type": "markdown",
   "id": "bee89584",
   "metadata": {},
   "source": [
    "---\n",
    "\n",
    "\n",
    "### Vetorização: Exemplo 2"
   ]
  },
  {
   "cell_type": "code",
   "execution_count": null,
   "id": "4b60dcf4",
   "metadata": {},
   "outputs": [],
   "source": [
    "A = np.array([[1, 2, 3, 4],\n",
    "              [5, 6, 7, 8], \n",
    "              [9, 10, 11, 12]])"
   ]
  },
  {
   "cell_type": "code",
   "execution_count": null,
   "id": "b3f623c8",
   "metadata": {},
   "outputs": [],
   "source": [
    "A.T"
   ]
  },
  {
   "cell_type": "code",
   "execution_count": null,
   "id": "f5df69ae",
   "metadata": {},
   "outputs": [],
   "source": [
    "A.shape"
   ]
  },
  {
   "cell_type": "code",
   "execution_count": null,
   "id": "2167e7f0",
   "metadata": {},
   "outputs": [],
   "source": [
    "A.ndim"
   ]
  },
  {
   "cell_type": "code",
   "execution_count": null,
   "id": "6b97a29a",
   "metadata": {},
   "outputs": [],
   "source": [
    "A.reshape((2, 6))"
   ]
  },
  {
   "cell_type": "code",
   "execution_count": null,
   "id": "a81d2639",
   "metadata": {},
   "outputs": [],
   "source": [
    "A.reshape((4, 3))"
   ]
  },
  {
   "cell_type": "code",
   "execution_count": null,
   "id": "2cb0d663",
   "metadata": {},
   "outputs": [],
   "source": [
    "A.ravel()"
   ]
  },
  {
   "cell_type": "code",
   "execution_count": null,
   "id": "34c4018c",
   "metadata": {},
   "outputs": [],
   "source": [
    "u = np.random.rand(10)\n",
    "u"
   ]
  },
  {
   "cell_type": "code",
   "execution_count": null,
   "id": "a20e0805",
   "metadata": {},
   "outputs": [],
   "source": [
    "u.ndim"
   ]
  },
  {
   "cell_type": "code",
   "execution_count": null,
   "id": "07c1b915",
   "metadata": {},
   "outputs": [],
   "source": [
    "u.shape"
   ]
  },
  {
   "cell_type": "code",
   "execution_count": null,
   "id": "67692a64",
   "metadata": {},
   "outputs": [],
   "source": [
    "u.T"
   ]
  },
  {
   "cell_type": "code",
   "execution_count": null,
   "id": "272098c3",
   "metadata": {},
   "outputs": [],
   "source": [
    "u.T.shape"
   ]
  },
  {
   "cell_type": "code",
   "execution_count": null,
   "id": "3aae6c9a",
   "metadata": {},
   "outputs": [],
   "source": [
    "u.T == u"
   ]
  },
  {
   "cell_type": "code",
   "execution_count": null,
   "id": "9736b79f",
   "metadata": {},
   "outputs": [],
   "source": [
    "u.T is u"
   ]
  },
  {
   "cell_type": "code",
   "execution_count": null,
   "id": "7bc4464a",
   "metadata": {},
   "outputs": [],
   "source": [
    "np.transpose?"
   ]
  },
  {
   "cell_type": "code",
   "execution_count": null,
   "id": "6954dd98",
   "metadata": {},
   "outputs": [],
   "source": [
    "v = u.T\n",
    "v.base is u"
   ]
  },
  {
   "cell_type": "code",
   "execution_count": null,
   "id": "8d0e8c8e",
   "metadata": {},
   "outputs": [],
   "source": [
    "u[0] = 0"
   ]
  },
  {
   "cell_type": "code",
   "execution_count": null,
   "id": "807bf46b",
   "metadata": {},
   "outputs": [],
   "source": [
    "u"
   ]
  },
  {
   "cell_type": "code",
   "execution_count": null,
   "id": "c720f36f",
   "metadata": {},
   "outputs": [],
   "source": [
    "v"
   ]
  },
  {
   "cell_type": "markdown",
   "id": "3a1b3426",
   "metadata": {},
   "source": [
    "[Documentação para ndarray.base](https://numpy.org/doc/stable/reference/generated/numpy.ndarray.base.html)"
   ]
  },
  {
   "cell_type": "markdown",
   "id": "6ca248c8",
   "metadata": {},
   "source": [
    "#### ❓ (O que são essas dimensões?)"
   ]
  },
  {
   "cell_type": "code",
   "execution_count": null,
   "id": "8659ea22",
   "metadata": {},
   "outputs": [],
   "source": [
    "from IPython.display import Image\n",
    "Image(url=\"https://fgnt.github.io/python_crashkurs_doc/_images/numpy_array_t.png\", width=600)"
   ]
  },
  {
   "cell_type": "markdown",
   "id": "f8c95338",
   "metadata": {},
   "source": [
    "*[Fonte: Elegant SciPy](https://www.oreilly.com/library/view/elegant-scipy/9781491922927/ch01.html)*"
   ]
  },
  {
   "cell_type": "markdown",
   "id": "dfdfc419",
   "metadata": {},
   "source": [
    "### Vetorização: Exemplo 3"
   ]
  },
  {
   "cell_type": "code",
   "execution_count": null,
   "id": "951b695b",
   "metadata": {},
   "outputs": [],
   "source": [
    "A[0, :]  "
   ]
  },
  {
   "cell_type": "code",
   "execution_count": null,
   "id": "c02c6e27",
   "metadata": {},
   "outputs": [],
   "source": [
    "A.sum()"
   ]
  },
  {
   "cell_type": "code",
   "execution_count": null,
   "id": "88683884",
   "metadata": {},
   "outputs": [],
   "source": [
    "A.sum(axis=0)"
   ]
  },
  {
   "cell_type": "code",
   "execution_count": null,
   "id": "c586cc62",
   "metadata": {},
   "outputs": [],
   "source": [
    "A.sum(axis=1)"
   ]
  },
  {
   "cell_type": "code",
   "execution_count": null,
   "id": "837949f4",
   "metadata": {},
   "outputs": [],
   "source": [
    "A.size * A.itemsize"
   ]
  },
  {
   "cell_type": "code",
   "execution_count": null,
   "id": "582ee280",
   "metadata": {},
   "outputs": [],
   "source": [
    "A.nbytes"
   ]
  },
  {
   "cell_type": "markdown",
   "id": "5f167518",
   "metadata": {},
   "source": [
    "Novamente:"
   ]
  },
  {
   "cell_type": "code",
   "execution_count": null,
   "id": "f2e2f845",
   "metadata": {},
   "outputs": [],
   "source": [
    "Image(url=\"https://media.springernature.com/full/springer-static/image/art%3A10.1038%2Fs41586-020-2649-2/MediaObjects/41586_2020_2649_Fig1_HTML.png\", width=600)"
   ]
  },
  {
   "cell_type": "markdown",
   "id": "d75f46bb",
   "metadata": {},
   "source": [
    "---"
   ]
  },
  {
   "cell_type": "markdown",
   "id": "c1b8d59d",
   "metadata": {},
   "source": [
    "## Indexação básica e avançada (Fancy indexing)"
   ]
  },
  {
   "cell_type": "code",
   "execution_count": null,
   "id": "b84cf45b",
   "metadata": {},
   "outputs": [],
   "source": [
    "x = np.arange(10)\n",
    "x[2:5]"
   ]
  },
  {
   "cell_type": "code",
   "execution_count": null,
   "id": "1456d23d",
   "metadata": {},
   "outputs": [],
   "source": [
    "x[:-7]"
   ]
  },
  {
   "cell_type": "code",
   "execution_count": null,
   "id": "2ec0ec3b",
   "metadata": {},
   "outputs": [],
   "source": [
    "x[1:7:2]"
   ]
  },
  {
   "cell_type": "code",
   "execution_count": null,
   "id": "9c4a709d",
   "metadata": {},
   "outputs": [],
   "source": [
    "y = np.arange(35).reshape(5,7)\n",
    "y[1:5:2,::3]"
   ]
  },
  {
   "cell_type": "markdown",
   "id": "c16d9c07",
   "metadata": {},
   "source": [
    "As arrays do NumPy podem ser indexadas por outras arrays (ou qualquer outro objeto tipo-sequência que possa ser convertido para uma array, como listas, com a exceção de tuplas). No entanto, isso pode não ser tão eficiente pois ativa o [indiciamento avançado](https://numpy.org/devdocs/reference/arrays.indexing.html#advanced-indexing)."
   ]
  },
  {
   "cell_type": "code",
   "execution_count": null,
   "id": "a0187100",
   "metadata": {},
   "outputs": [],
   "source": [
    "x = np.arange(10,1,-1)"
   ]
  },
  {
   "cell_type": "code",
   "execution_count": null,
   "id": "ae2399bc",
   "metadata": {},
   "outputs": [],
   "source": [
    "x[np.array([3,3,-3,8])]"
   ]
  },
  {
   "cell_type": "code",
   "execution_count": null,
   "id": "ff5472c7",
   "metadata": {},
   "outputs": [],
   "source": [
    "x[np.array([[1,1],[2,3]])]"
   ]
  },
  {
   "cell_type": "markdown",
   "id": "90838b5f",
   "metadata": {},
   "source": [
    "Também podemos usar máscaras booleanas:"
   ]
  },
  {
   "cell_type": "code",
   "execution_count": null,
   "id": "1710a20a",
   "metadata": {},
   "outputs": [],
   "source": [
    "b = y>20"
   ]
  },
  {
   "cell_type": "code",
   "execution_count": null,
   "id": "79358be4",
   "metadata": {},
   "outputs": [],
   "source": [
    "y[b]"
   ]
  },
  {
   "cell_type": "code",
   "execution_count": null,
   "id": "b1917609",
   "metadata": {},
   "outputs": [],
   "source": [
    "x = np.arange(30).reshape(2,3,5)"
   ]
  },
  {
   "cell_type": "code",
   "execution_count": null,
   "id": "e30a6e7a",
   "metadata": {},
   "outputs": [],
   "source": [
    "b = np.array([[True, True, False], [False, True, True]])\n",
    "x[b]"
   ]
  },
  {
   "cell_type": "code",
   "execution_count": null,
   "id": "27d6b0d5",
   "metadata": {},
   "outputs": [],
   "source": [
    "x = np.arange(5)\n",
    "x[:,np.newaxis] + x[np.newaxis,:]"
   ]
  },
  {
   "cell_type": "code",
   "execution_count": null,
   "id": "1fae2c40",
   "metadata": {},
   "outputs": [],
   "source": [
    "z = np.arange(81).reshape(3,3,3,3)\n",
    "z[1,...,2]"
   ]
  },
  {
   "cell_type": "code",
   "execution_count": null,
   "id": "d3d98475",
   "metadata": {},
   "outputs": [],
   "source": [
    "z[1,:,:,2]"
   ]
  },
  {
   "cell_type": "code",
   "execution_count": null,
   "id": "f3187623",
   "metadata": {},
   "outputs": [],
   "source": [
    "x = np.arange(0, 10*np.pi, np.pi)"
   ]
  },
  {
   "cell_type": "code",
   "execution_count": null,
   "id": "d8b1386f",
   "metadata": {},
   "outputs": [],
   "source": [
    "np.sin(x) == 0"
   ]
  },
  {
   "cell_type": "code",
   "execution_count": null,
   "id": "27b673a9",
   "metadata": {},
   "outputs": [],
   "source": [
    "np.allclose(np.sin(x), np.zeros(np.shape(x)))"
   ]
  },
  {
   "cell_type": "markdown",
   "id": "588694e3",
   "metadata": {},
   "source": [
    "## Broadcasting\n",
    "\n",
    "Permite fazer operações vetoriais de maneira generalizada.\n",
    "\n",
    "☠️ **Cuidado!** ☠️"
   ]
  },
  {
   "cell_type": "code",
   "execution_count": null,
   "id": "1a8722d6",
   "metadata": {},
   "outputs": [],
   "source": [
    "x = np.array([1, 2, 3, 4])"
   ]
  },
  {
   "cell_type": "code",
   "execution_count": null,
   "id": "14cd732c",
   "metadata": {},
   "outputs": [],
   "source": [
    "x + 5"
   ]
  },
  {
   "cell_type": "code",
   "execution_count": null,
   "id": "6f4aaa81",
   "metadata": {},
   "outputs": [],
   "source": [
    "A"
   ]
  },
  {
   "cell_type": "code",
   "execution_count": null,
   "id": "8b24c09c",
   "metadata": {},
   "outputs": [],
   "source": [
    "x"
   ]
  },
  {
   "cell_type": "code",
   "execution_count": null,
   "id": "36a34fe4",
   "metadata": {},
   "outputs": [],
   "source": [
    "A+x"
   ]
  },
  {
   "cell_type": "code",
   "execution_count": null,
   "id": "1a6d8383",
   "metadata": {},
   "outputs": [],
   "source": [
    "np.add?"
   ]
  },
  {
   "cell_type": "markdown",
   "id": "fd0b1fab",
   "metadata": {},
   "source": [
    "## 📒 Exercícios \n",
    "\n",
    "\n",
    "Como determinar a dieta mais econômica que satisfaz os requerimentos nutricionais básicos para boa saúde? Vamos supor que queremos fazer nossa compra semanal no supermercado: leite, miojo e café. Atualmente, os preços são:\n",
    "\n",
    "- Leite: 4 reais o litro\n",
    "- Miojo: 1,50 o pacote\n",
    "- Café: 10 reais a unidade\n",
    "\n",
    "Vamos nos preocupar com 4 ingredientes nutricionais básicos: proteína, carboidratos e gordura.\n",
    "\n",
    "| Produto      | Carboidratos | Proteínas | Gorduras|\n",
    "---------------|--------------|-----------|---------|\n",
    "|Miojo (100g)  | 63,6g        | 10,0g     | 15,5g   |\n",
    "|Leite (100ml) | 4,66g        | 3,32g     | 3,35g   |"
   ]
  },
  {
   "cell_type": "markdown",
   "id": "0f5f3d33",
   "metadata": {},
   "source": [
    "### Exercício 1\n",
    "\n",
    "Use uma ndarray `a` bidimensional que armazene, na posição $(i, j)$, a quantidade de gramas do nutriente $i$ contidas em cada grama do alimento $j$."
   ]
  },
  {
   "cell_type": "markdown",
   "id": "2100fd68",
   "metadata": {},
   "source": [
    "### Solução 1"
   ]
  },
  {
   "cell_type": "code",
   "execution_count": null,
   "id": "87f49875",
   "metadata": {},
   "outputs": [],
   "source": [
    "tabela = np.zeros((3, 2))"
   ]
  },
  {
   "cell_type": "code",
   "execution_count": null,
   "id": "70af9bc8",
   "metadata": {},
   "outputs": [],
   "source": [
    "miojo = np.array([63.6, 10, 15.5])\n",
    "leite = np.array([4.66, 3.32, 3.35])"
   ]
  },
  {
   "cell_type": "code",
   "execution_count": null,
   "id": "5d65c35c",
   "metadata": {},
   "outputs": [],
   "source": [
    "# Para ter os valores nutricionais por grama (ao invés de para cada 100g)\n",
    "miojo = miojo/100\n",
    "# Mesma coisa para o leite: vamos obter o valor por ml\n",
    "leite = leite/100"
   ]
  },
  {
   "cell_type": "code",
   "execution_count": null,
   "id": "89b1d552",
   "metadata": {},
   "outputs": [],
   "source": [
    "tabela[:, 0] = miojo"
   ]
  },
  {
   "cell_type": "code",
   "execution_count": null,
   "id": "7f50f484",
   "metadata": {},
   "outputs": [],
   "source": [
    "tabela"
   ]
  },
  {
   "cell_type": "code",
   "execution_count": null,
   "id": "f6c4a49d",
   "metadata": {},
   "outputs": [],
   "source": [
    "tabela[:, 1] = leite"
   ]
  },
  {
   "cell_type": "code",
   "execution_count": null,
   "id": "ef3164e5",
   "metadata": {},
   "outputs": [],
   "source": [
    "tabela"
   ]
  },
  {
   "cell_type": "markdown",
   "id": "01866c64",
   "metadata": {},
   "source": [
    "### Solução 2"
   ]
  },
  {
   "cell_type": "code",
   "execution_count": null,
   "id": "f816448f",
   "metadata": {},
   "outputs": [],
   "source": [
    "miojo = np.array([63.6, 10, 15.5])\n",
    "leite = np.array([4.66, 3.32, 3.35])"
   ]
  },
  {
   "cell_type": "code",
   "execution_count": null,
   "id": "e06182b2",
   "metadata": {},
   "outputs": [],
   "source": [
    "tabela = np.vstack([miojo, leite]).T/100"
   ]
  },
  {
   "cell_type": "code",
   "execution_count": null,
   "id": "8c8b47be",
   "metadata": {},
   "outputs": [],
   "source": [
    "tabela"
   ]
  },
  {
   "cell_type": "markdown",
   "id": "b449cdd8",
   "metadata": {},
   "source": [
    "### Solução 3"
   ]
  },
  {
   "cell_type": "code",
   "execution_count": null,
   "id": "08a1a508",
   "metadata": {},
   "outputs": [],
   "source": [
    "tabela = np.stack([miojo, leite], axis=1)/100"
   ]
  },
  {
   "cell_type": "code",
   "execution_count": null,
   "id": "79263f1f",
   "metadata": {},
   "outputs": [],
   "source": [
    "tabela"
   ]
  },
  {
   "cell_type": "markdown",
   "id": "5a2ab7a1",
   "metadata": {},
   "source": [
    "### Exercício 2\n",
    "\n",
    "\n",
    "A partir da array `a` criada acima, extraia um array que contenha os valores de nutriente por alimento."
   ]
  },
  {
   "cell_type": "code",
   "execution_count": null,
   "id": "f9b830fa",
   "metadata": {},
   "outputs": [],
   "source": [
    "carbs = tabela[0, :]\n",
    "proteina = tabela[1, :]\n",
    "gordura = tabela[2, :]"
   ]
  },
  {
   "cell_type": "code",
   "execution_count": null,
   "id": "cdef9737",
   "metadata": {},
   "outputs": [],
   "source": [
    "carbs.shape, proteina.shape, gordura.shape"
   ]
  },
  {
   "cell_type": "markdown",
   "id": "6151734a",
   "metadata": {},
   "source": [
    "### Exercício 3\n",
    "\n",
    "\n",
    "Calcule o preço de uma compra incluindo 2 litros de leite, 1 pacote de café e 5 pacotes de miojo.\n",
    "\n",
    "Para facilitar, vamos usar a seguinte notação:\n",
    "\n",
    "$x_0$ -> quantidade de litros de leite;\n",
    "\n",
    "$x_1$ -> quantidade de pacotes de miojo;\n",
    "\n",
    "$x_2$ -> quantidade de pacotes de café;\n",
    "\n",
    "Isso significa que podemos representar a quantidade a ser comprada como:"
   ]
  },
  {
   "cell_type": "code",
   "execution_count": null,
   "id": "e0a7bb7c",
   "metadata": {},
   "outputs": [],
   "source": [
    "x = np.array([2, 5, 1])"
   ]
  },
  {
   "cell_type": "code",
   "execution_count": null,
   "id": "814feb3c",
   "metadata": {},
   "outputs": [],
   "source": [
    "# Leite: 4 reais o litro\n",
    "# Miojo: 1,50 o pacote\n",
    "# Café: 10 reais a unidade\n",
    "c = np.array([4, 1.5, 10])"
   ]
  },
  {
   "cell_type": "markdown",
   "id": "5f920e9c",
   "metadata": {},
   "source": [
    "Total da compra:"
   ]
  },
  {
   "cell_type": "code",
   "execution_count": null,
   "id": "4d59ca7b",
   "metadata": {},
   "outputs": [],
   "source": [
    "x[0]*c[0] + x[1]*c[1]+x[2]*c[2]"
   ]
  },
  {
   "cell_type": "code",
   "execution_count": null,
   "id": "6104ed41",
   "metadata": {},
   "outputs": [],
   "source": [
    "total = np.dot(c, x)\n",
    "total"
   ]
  },
  {
   "cell_type": "markdown",
   "id": "ab966384",
   "metadata": {},
   "source": [
    "O custo pode ser calculado, em geral, como"
   ]
  },
  {
   "cell_type": "code",
   "execution_count": null,
   "id": "91484004",
   "metadata": {},
   "outputs": [],
   "source": [
    "def custo(x):\n",
    "    c = np.array([4, 1.5, 10])\n",
    "    return np.dot(x, c)"
   ]
  },
  {
   "cell_type": "markdown",
   "id": "5d7ce867",
   "metadata": {},
   "source": [
    "Assim, se mudamos as quantidades para\n",
    "\n",
    "10 litros de leite; 8 pacotes de miojo; 2 pacotes de café\n",
    "\n",
    "temos"
   ]
  },
  {
   "cell_type": "code",
   "execution_count": null,
   "id": "5cb1749e",
   "metadata": {},
   "outputs": [],
   "source": [
    "custo(np.array([10, 8, 2]))"
   ]
  },
  {
   "cell_type": "markdown",
   "id": "8388c561",
   "metadata": {},
   "source": [
    "---"
   ]
  },
  {
   "cell_type": "markdown",
   "id": "ad91d7ce",
   "metadata": {},
   "source": [
    "## Criação de arrays"
   ]
  },
  {
   "cell_type": "markdown",
   "id": "150ca7dd",
   "metadata": {},
   "source": [
    "- `np.arange`: similar ao `range()` do Python. Ideal para intervalos com espaçamento **inteiro**:\n",
    "\n",
    "- `np.linspace`: use para criar intervalos com espaçamento não-inteiro, ou se quiser garantir a inclusão do ponto final no intervalo.\n",
    "\n",
    "https://numpy.org/doc/stable/user/basics.creation.html"
   ]
  },
  {
   "cell_type": "code",
   "execution_count": null,
   "id": "f3b06e70",
   "metadata": {},
   "outputs": [],
   "source": [
    "np.arange(1, 10, 2)"
   ]
  },
  {
   "cell_type": "code",
   "execution_count": null,
   "id": "b996d1fc",
   "metadata": {},
   "outputs": [],
   "source": [
    "np.arange(1, 10, 0.5)"
   ]
  },
  {
   "cell_type": "markdown",
   "id": "4bf62584",
   "metadata": {},
   "source": [
    "**Cuidado:**"
   ]
  },
  {
   "cell_type": "code",
   "execution_count": null,
   "id": "0840dae2",
   "metadata": {},
   "outputs": [],
   "source": [
    "np.arange(0.1, 0.4, 0.1)"
   ]
  },
  {
   "cell_type": "markdown",
   "id": "bd45fe58",
   "metadata": {},
   "source": [
    "Nesses casos, use `np.linspace`:"
   ]
  },
  {
   "cell_type": "code",
   "execution_count": null,
   "id": "715acb4d",
   "metadata": {},
   "outputs": [],
   "source": [
    "np.linspace(0.1, 0.4, 4)"
   ]
  },
  {
   "cell_type": "code",
   "execution_count": null,
   "id": "b37650cb",
   "metadata": {},
   "outputs": [],
   "source": [
    "np.linspace(0, 10, 10)"
   ]
  },
  {
   "cell_type": "markdown",
   "id": "25f8cfa1",
   "metadata": {},
   "source": [
    "(Observe o espaçamento entre os pontos!)"
   ]
  },
  {
   "cell_type": "markdown",
   "id": "ac1e2f1d",
   "metadata": {},
   "source": [
    "https://numpy.org/doc/stable/user/how-to-partition.html#how-to-partition"
   ]
  },
  {
   "cell_type": "markdown",
   "id": "cb1585b1",
   "metadata": {},
   "source": [
    "### Criação de arrays com valores aleatórios ([np.random](https://numpy.org/doc/stable/reference/random/index.html))"
   ]
  },
  {
   "cell_type": "markdown",
   "id": "e14c849a",
   "metadata": {},
   "source": [
    "Para obter um valor pseudo-aleatório (ou um array com valores obtidos a partir de um gerador de números pseudo-aleatórios), use o módulo `np.random`: https://numpy.org/doc/stable/reference/random/generator.html#random-generator"
   ]
  },
  {
   "cell_type": "code",
   "execution_count": null,
   "id": "73fe38e6",
   "metadata": {},
   "outputs": [],
   "source": [
    "gerador = np.random.default_rng()"
   ]
  },
  {
   "cell_type": "code",
   "execution_count": null,
   "id": "b9a1233e",
   "metadata": {},
   "outputs": [],
   "source": [
    "gerador?"
   ]
  },
  {
   "cell_type": "code",
   "execution_count": null,
   "id": "37656eac",
   "metadata": {},
   "outputs": [],
   "source": [
    "gerador.random()"
   ]
  },
  {
   "cell_type": "code",
   "execution_count": null,
   "id": "9ffd72d0",
   "metadata": {},
   "outputs": [],
   "source": [
    "gerador.normal()"
   ]
  },
  {
   "cell_type": "code",
   "execution_count": null,
   "id": "679f4b99",
   "metadata": {},
   "outputs": [],
   "source": [
    "gerador.integers?"
   ]
  },
  {
   "cell_type": "markdown",
   "id": "2a6c24b1",
   "metadata": {},
   "source": [
    "Para gerar 10 números inteiros sorteados aleatoriamente entre 1 e 50:"
   ]
  },
  {
   "cell_type": "code",
   "execution_count": null,
   "id": "28bf3b39",
   "metadata": {},
   "outputs": [],
   "source": [
    "gerador.integers(1, 50, 10)"
   ]
  },
  {
   "cell_type": "markdown",
   "id": "b7914398",
   "metadata": {},
   "source": [
    "Para embaralhar uma array contendo números inteiros de 1 a 9:"
   ]
  },
  {
   "cell_type": "code",
   "execution_count": null,
   "id": "53485abc",
   "metadata": {},
   "outputs": [],
   "source": [
    "v = np.arange(1, 10, 1)"
   ]
  },
  {
   "cell_type": "code",
   "execution_count": null,
   "id": "30d1342d",
   "metadata": {},
   "outputs": [],
   "source": [
    "gerador.shuffle(v)\n",
    "v"
   ]
  },
  {
   "cell_type": "markdown",
   "id": "d5465aab",
   "metadata": {},
   "source": [
    "---\n",
    "\n",
    "\n",
    "### Operações vetorizadas e pontos flutuantes"
   ]
  },
  {
   "cell_type": "code",
   "execution_count": null,
   "id": "bede249f",
   "metadata": {},
   "outputs": [],
   "source": [
    "x = np.linspace(-np.pi, np.pi, 10)"
   ]
  },
  {
   "cell_type": "code",
   "execution_count": null,
   "id": "1ba3d0b3",
   "metadata": {},
   "outputs": [],
   "source": [
    "x"
   ]
  },
  {
   "cell_type": "code",
   "execution_count": null,
   "id": "03dadb17",
   "metadata": {},
   "outputs": [],
   "source": [
    "np.sin(x)"
   ]
  },
  {
   "cell_type": "markdown",
   "id": "3f10cbc1",
   "metadata": {},
   "source": [
    "#### ⚠️⚠️ Observação"
   ]
  },
  {
   "cell_type": "code",
   "execution_count": null,
   "id": "297bce75",
   "metadata": {},
   "outputs": [],
   "source": [
    "0 * np.nan"
   ]
  },
  {
   "cell_type": "code",
   "execution_count": null,
   "id": "f153a472",
   "metadata": {},
   "outputs": [],
   "source": [
    "np.nan == np.nan"
   ]
  },
  {
   "cell_type": "code",
   "execution_count": null,
   "id": "57ef4f94",
   "metadata": {},
   "outputs": [],
   "source": [
    "np.inf > np.nan"
   ]
  },
  {
   "cell_type": "code",
   "execution_count": null,
   "id": "0c3c033b",
   "metadata": {},
   "outputs": [],
   "source": [
    "np.nan - np.nan"
   ]
  },
  {
   "cell_type": "code",
   "execution_count": null,
   "id": "39d1cb71",
   "metadata": {},
   "outputs": [],
   "source": [
    "np.nan in set([np.nan])"
   ]
  },
  {
   "cell_type": "markdown",
   "id": "5aba8042",
   "metadata": {},
   "source": [
    "Observe:"
   ]
  },
  {
   "cell_type": "code",
   "execution_count": null,
   "id": "4412761d",
   "metadata": {},
   "outputs": [],
   "source": [
    "np.array(0) / np.array(0)"
   ]
  },
  {
   "cell_type": "code",
   "execution_count": null,
   "id": "92278d60",
   "metadata": {},
   "outputs": [],
   "source": [
    "np.array(0) // np.array(0)"
   ]
  },
  {
   "cell_type": "code",
   "execution_count": null,
   "id": "5ba9861c",
   "metadata": {},
   "outputs": [],
   "source": [
    "np.array([np.nan]).astype(int)"
   ]
  },
  {
   "cell_type": "code",
   "execution_count": null,
   "id": "37b943e7",
   "metadata": {},
   "outputs": [],
   "source": [
    "np.array([np.nan]).astype(float)"
   ]
  },
  {
   "cell_type": "code",
   "execution_count": null,
   "id": "8b5e4ae3",
   "metadata": {},
   "outputs": [],
   "source": [
    "0.3 == 3 * 0.1"
   ]
  },
  {
   "cell_type": "markdown",
   "id": "65288ca5",
   "metadata": {},
   "source": [
    "**Nunca teste se um número real é igual a outro! Use sempre tolerâncias.**"
   ]
  },
  {
   "cell_type": "code",
   "execution_count": null,
   "id": "4036fe47",
   "metadata": {},
   "outputs": [],
   "source": [
    "np.abs(0.3 - 3*0.1)"
   ]
  },
  {
   "cell_type": "markdown",
   "id": "55e7f3dc",
   "metadata": {},
   "source": [
    "#### Explicação\n",
    "\n",
    "\n",
    "- `NaN` : *Not a Number*\n",
    "- `Inf` : Infinito?"
   ]
  },
  {
   "cell_type": "code",
   "execution_count": null,
   "id": "4e9e53c2",
   "metadata": {},
   "outputs": [],
   "source": [
    "for dtype in [np.int8, np.int32, np.int64]:\n",
    "   print(np.iinfo(dtype).min)\n",
    "   print(np.iinfo(dtype).max)"
   ]
  },
  {
   "cell_type": "code",
   "execution_count": null,
   "id": "b87e5977",
   "metadata": {},
   "outputs": [],
   "source": [
    "for dtype in [np.float32, np.float64]:\n",
    "   print(np.finfo(dtype).min)\n",
    "   print(np.finfo(dtype).max)\n",
    "   print(np.finfo(dtype).eps)"
   ]
  },
  {
   "cell_type": "code",
   "execution_count": null,
   "id": "769474d4",
   "metadata": {},
   "outputs": [],
   "source": [
    "np.finfo(np.float64).max+1.e308"
   ]
  },
  {
   "cell_type": "markdown",
   "id": "427fb45a",
   "metadata": {},
   "source": [
    "Leia mais na documentação oficial do Python (https://docs.python.org/pt-br/3/tutorial/floatingpoint.html) e na documentação sobre dtypes da NumPy (https://numpy.org/doc/stable/reference/arrays.dtypes.html)"
   ]
  },
  {
   "cell_type": "markdown",
   "id": "29b835c8",
   "metadata": {},
   "source": [
    "### Gerenciamento de dados faltantes (NaN e _missing values_)"
   ]
  },
  {
   "cell_type": "code",
   "execution_count": null,
   "id": "b5a6c92b",
   "metadata": {},
   "outputs": [],
   "source": [
    "np.nan"
   ]
  },
  {
   "cell_type": "code",
   "execution_count": null,
   "id": "ebb8f87f",
   "metadata": {},
   "outputs": [],
   "source": [
    "np.isnan(np.nan)"
   ]
  },
  {
   "cell_type": "code",
   "execution_count": null,
   "id": "75e28419",
   "metadata": {},
   "outputs": [],
   "source": [
    "np.True_?"
   ]
  },
  {
   "cell_type": "code",
   "execution_count": null,
   "id": "e26783e1",
   "metadata": {},
   "outputs": [],
   "source": [
    "np.nan == np.nan"
   ]
  },
  {
   "cell_type": "code",
   "execution_count": null,
   "id": "e75f191b",
   "metadata": {},
   "outputs": [],
   "source": [
    "if np.isnan(np.nan):\n",
    "    print(\"True!\")"
   ]
  },
  {
   "cell_type": "code",
   "execution_count": null,
   "id": "7ce8d5de",
   "metadata": {},
   "outputs": [],
   "source": [
    "np.nansum(np.array([1, 2, 3, np.nan]))"
   ]
  },
  {
   "cell_type": "markdown",
   "id": "6caeb575",
   "metadata": {},
   "source": [
    "### Exercícios\n",
    "\n",
    "\n",
    "#### Criar um array aleatório de tamanho 12 e substituir o menor valor por -999."
   ]
  },
  {
   "cell_type": "code",
   "execution_count": null,
   "id": "fd7e1be2",
   "metadata": {},
   "outputs": [],
   "source": [
    "aleatorio = np.random.random(12)\n",
    "aleatorio[aleatorio.argmax()] = -999\n",
    "aleatorio"
   ]
  },
  {
   "cell_type": "markdown",
   "id": "1496c5cd",
   "metadata": {},
   "source": [
    "#### Ordenar uma array pela n-ésima coluna"
   ]
  },
  {
   "cell_type": "code",
   "execution_count": null,
   "id": "4517e9f5",
   "metadata": {},
   "outputs": [],
   "source": [
    "vetor = np.random.randint(0,10,(3,3))\n",
    "vetor"
   ]
  },
  {
   "cell_type": "code",
   "execution_count": null,
   "id": "50ca93c0",
   "metadata": {},
   "outputs": [],
   "source": [
    "vetor[vetor[:,1].argsort()]"
   ]
  },
  {
   "cell_type": "markdown",
   "id": "1a4895e8",
   "metadata": {},
   "source": [
    "#### Como saber se uma array 2D tem colunas nulas?"
   ]
  },
  {
   "cell_type": "code",
   "execution_count": null,
   "id": "5ba0c925",
   "metadata": {},
   "outputs": [],
   "source": [
    "z = np.random.randint(0,3,(3,10))\n",
    "z"
   ]
  },
  {
   "cell_type": "code",
   "execution_count": null,
   "id": "f92bf9c3",
   "metadata": {},
   "outputs": [],
   "source": [
    "(~z.any(axis=0)).any()"
   ]
  },
  {
   "cell_type": "code",
   "execution_count": null,
   "id": "0c63041b",
   "metadata": {},
   "outputs": [],
   "source": [
    "z[:, 0] = np.zeros(3)\n",
    "z"
   ]
  },
  {
   "cell_type": "code",
   "execution_count": null,
   "id": "0f0e5170",
   "metadata": {},
   "outputs": [],
   "source": [
    "(~z.any(axis=0)).any()"
   ]
  },
  {
   "cell_type": "markdown",
   "id": "b541775b",
   "metadata": {},
   "source": [
    "#### Trocar duas linhas de uma matriz"
   ]
  },
  {
   "cell_type": "code",
   "execution_count": null,
   "id": "676bb1c7",
   "metadata": {},
   "outputs": [],
   "source": [
    "A = np.arange(25).reshape(5,5)\n",
    "A"
   ]
  },
  {
   "cell_type": "code",
   "execution_count": null,
   "id": "1a2e9d90",
   "metadata": {},
   "outputs": [],
   "source": [
    "A[[0,1]] = A[[1,0]]\n",
    "A"
   ]
  },
  {
   "cell_type": "markdown",
   "id": "2988c844",
   "metadata": {},
   "source": [
    "## Extra: Conway's Game of Life\n",
    "\n",
    "https://github.com/ekourlit/scipy2024-tutorial-thinking-in-arrays/blob/main/part-1/project.ipynb"
   ]
  },
  {
   "cell_type": "markdown",
   "id": "5601cd4c",
   "metadata": {},
   "source": [
    "### 2.4 Submódulos\n",
    "\n",
    "- `numpy.random` \n",
    "- `numpy.fft`\n",
    "- `numpy.ma`\n",
    "- `numpy.linalg`\n",
    "- `numpy.f2py`"
   ]
  },
  {
   "cell_type": "code",
   "execution_count": null,
   "id": "319751fa",
   "metadata": {},
   "outputs": [],
   "source": [
    "print(np.__doc__)"
   ]
  },
  {
   "cell_type": "markdown",
   "id": "86df9a21",
   "metadata": {},
   "source": [
    "---"
   ]
  },
  {
   "cell_type": "markdown",
   "id": "8a5f53fa",
   "metadata": {},
   "source": [
    "## NumPy 2.0"
   ]
  },
  {
   "cell_type": "markdown",
   "id": "21a877ea",
   "metadata": {},
   "source": [
    "Recentemente, a versão 2.0 da NumPy foi publicada. Para verificar as principais mudanças, veja por exemplo \n",
    "\n",
    "https://numpy.org/devdocs/numpy_2_0_migration_guide.html\n",
    "\n",
    "Para a maior parte dos usuários, não há grandes impactos.\n",
    "\n",
    "Um resumo:\n",
    "\n",
    "- Regras de promoção de dtypes (NEP 50);\n",
    "- Tipo inteiro padrão no Windows (antigamente, equivalente ao C long, agora equivale a `np.intp`);\n",
    "- Mudanças na API C (apenas para desenvolvedores que querem interagir diretamente com a interface da NumPy com o C);\n",
    "- Algumas funções foram removidas para namespaces privados ou para namespaces dedicados;\n",
    "- `numpy.strings` agora substitui `numpy.char`."
   ]
  },
  {
   "cell_type": "code",
   "execution_count": null,
   "id": "083b8ef3",
   "metadata": {},
   "outputs": [],
   "source": []
  }
 ],
 "metadata": {
  "jupytext": {
   "kernelspec": {
    "display_name": "Python 3 (ipykernel)",
    "language": "python",
    "name": "python3"
   }
  },
  "kernelspec": {
   "display_name": "Python 3 (ipykernel)",
   "language": "python",
   "name": "python3"
  }
 },
 "nbformat": 4,
 "nbformat_minor": 5
}
