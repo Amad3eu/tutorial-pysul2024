{
 "cells": [
  {
   "cell_type": "markdown",
   "id": "87848574",
   "metadata": {},
   "source": [
    "# Exemplo: Arrays com Máscara\n",
    "\n",
    "Vamos usar arrays com máscara para analisar dados do COVID-19 e lidar com valores ausentes.\n",
    "\n",
    "\n",
    "***\n",
    "\n",
    "\n",
    "## O que são arrays com máscara?\n",
    "\n",
    "Considere o seguinte problema. Você tem um conjunto de dados com entradas inválidas. Se você quiser *pular* ou marcar esses valores indesejados sem apagar dados, você pode usar o [numpy.ma](https://numpy.org/devdocs/reference/maskedarray.generic.html#module-numpy.ma).\n",
    "\n",
    "Da documentação de [Referência](https://numpy.org/devdocs/reference/maskedarray.generic.html#module-numpy.ma):\n",
    "\n",
    "> A masked array is the combination of a standard [numpy.ndarray](https://numpy.org/devdocs/reference/generated/numpy.ndarray.html#numpy.ndarray) and a **mask**. A mask is either `nomask`, indicating that no value of the associated array is invalid, or an array of booleans that determines for each element of the associated array whether the value is valid or not. When an element of the mask is `False`, the corresponding element of the associated array is valid and is said to be unmasked. When an element of the mask is `True`, the corresponding element of the associated array is said to be masked (invalid).\n",
    "\n",
    "Podemos pensar numa [array com máscara](https://numpy.org/devdocs/reference/maskedarray.baseclass.html#numpy.ma.MaskedArray) como uma combinação de:\n",
    "\n",
    "- Dados, numa `numpy.ndarray` com shape e dtype quaisquer;\n",
    "- Uma máscara booleana com o mesmo shape dos dados;\n",
    "- Um valor de preenchimento `fill_value`, que vai substituir as entradas inválidas. \n",
    "\n",
    "## Quando podem ser úteis?\n",
    "\n",
    "Existem algumas situações em que arrays com máscara podem ser úteis:\n",
    "\n",
    "- Quando você quer preservar os valores que foram mascarados sem copiar a array;\n",
    "- Quando você tem que lidar com muitas arrays, cada uma com sua máscara. Se a máscara é parte da array, você pode evitar bugs e o código pode ficar mais compacto;\n",
    "- Quando você tem flags diferentes para valores inválidos e ausentes, e quer preservar as flags sem substitui-las, excluindo-as dos cálculos;\n",
    "- Se você não puder evitar ou eliminar valores ausentes, mas não quer lidar com [NaN (Not a Number)](https://numpy.org/devdocs/reference/constants.html#numpy.nan).\n",
    "\n",
    "O módulo `numpy.ma` também vem com uma implementação específica da maior parte das [NumPy universal functions (ufuncs)](https://numpy.org/devdocs/glossary.html#term-ufunc), o que permite usar operações e funções vetorizadas (rápidas). \n",
    "\n",
    "\n",
    "## Usando arrays com máscara para ver dados do COVID-19\n",
    "\n",
    "Do [Kaggle](https://www.kaggle.com/atilamadai/covid19) a gente pode baixar um conjunto de dados com informações sobre o início da pandemia. Vamos olhar para um subconjunto de dados, contidos no arquivo `who_covid_19_sit_rep_time_series.csv`."
   ]
  },
  {
   "cell_type": "code",
   "execution_count": 1,
   "id": "262233cb",
   "metadata": {},
   "outputs": [],
   "source": [
    "import numpy as np\n",
    "import os\n",
    "# A função os.getcwd() retorna o diretório atual\n",
    "filepath = os.getcwd()\n",
    "filename = os.path.join(filepath, \"dados\", \"who_covid_19_sit_rep_time_series.csv\")"
   ]
  },
  {
   "cell_type": "markdown",
   "id": "0069d945",
   "metadata": {},
   "source": [
    "O arquivo tem dados de diferentes tipos organizado assim:\n",
    "\n",
    "- A primeira coluna é um cabeçalho, que descreve os dados em cada coluna. A partir da quarta coluna, denota a data da coleta dos dados correspondentes.\n",
    "- Da segunda até a sétima coluna, temos um resumo dos dados que será excluido da nossa análise.\n",
    "- Os dados numéricos em que estamos interessados começam na coluna 4, linha 8.\n",
    "\n",
    "Vamos explorar os dados deste arquivo para os primeiros 14 dias de registros. Para coletarmos os dados do arquivo `.csv`, vamos usar a função [numpy.genfromtxt](https://numpy.org/devdocs/reference/generated/numpy.genfromtxt.html#numpy.genfromtxt)."
   ]
  },
  {
   "cell_type": "code",
   "execution_count": 2,
   "id": "4c384998",
   "metadata": {},
   "outputs": [
    {
     "ename": "AttributeError",
     "evalue": "`np.unicode_` was removed in the NumPy 2.0 release. Use `np.str_` instead.",
     "output_type": "error",
     "traceback": [
      "\u001b[0;31m---------------------------------------------------------------------------\u001b[0m",
      "\u001b[0;31mAttributeError\u001b[0m                            Traceback (most recent call last)",
      "Cell \u001b[0;32mIn[2], line 2\u001b[0m\n\u001b[1;32m      1\u001b[0m \u001b[38;5;66;03m# Vamos usar skip_header e usecols para ler apenas um pedaço do arquivo.\u001b[39;00m\n\u001b[0;32m----> 2\u001b[0m dates \u001b[38;5;241m=\u001b[39m np\u001b[38;5;241m.\u001b[39mgenfromtxt(filename, dtype\u001b[38;5;241m=\u001b[39m\u001b[43mnp\u001b[49m\u001b[38;5;241;43m.\u001b[39;49m\u001b[43municode_\u001b[49m, delimiter\u001b[38;5;241m=\u001b[39m\u001b[38;5;124m\"\u001b[39m\u001b[38;5;124m,\u001b[39m\u001b[38;5;124m\"\u001b[39m,\n\u001b[1;32m      3\u001b[0m                       max_rows\u001b[38;5;241m=\u001b[39m\u001b[38;5;241m1\u001b[39m, usecols\u001b[38;5;241m=\u001b[39m\u001b[38;5;28mrange\u001b[39m(\u001b[38;5;241m3\u001b[39m, \u001b[38;5;241m17\u001b[39m),\n\u001b[1;32m      4\u001b[0m                       encoding\u001b[38;5;241m=\u001b[39m\u001b[38;5;124m\"\u001b[39m\u001b[38;5;124mutf-8-sig\u001b[39m\u001b[38;5;124m\"\u001b[39m)\n\u001b[1;32m      6\u001b[0m locations \u001b[38;5;241m=\u001b[39m np\u001b[38;5;241m.\u001b[39mgenfromtxt(filename, dtype\u001b[38;5;241m=\u001b[39mnp\u001b[38;5;241m.\u001b[39municode_, delimiter\u001b[38;5;241m=\u001b[39m\u001b[38;5;124m\"\u001b[39m\u001b[38;5;124m,\u001b[39m\u001b[38;5;124m\"\u001b[39m,\n\u001b[1;32m      7\u001b[0m                           skip_header\u001b[38;5;241m=\u001b[39m\u001b[38;5;241m7\u001b[39m, usecols\u001b[38;5;241m=\u001b[39m(\u001b[38;5;241m0\u001b[39m, \u001b[38;5;241m1\u001b[39m),\n\u001b[1;32m      8\u001b[0m                           encoding\u001b[38;5;241m=\u001b[39m\u001b[38;5;124m\"\u001b[39m\u001b[38;5;124mutf-8-sig\u001b[39m\u001b[38;5;124m\"\u001b[39m)\n\u001b[1;32m     10\u001b[0m nbcases \u001b[38;5;241m=\u001b[39m np\u001b[38;5;241m.\u001b[39mgenfromtxt(filename, dtype\u001b[38;5;241m=\u001b[39mnp\u001b[38;5;241m.\u001b[39mint_, delimiter\u001b[38;5;241m=\u001b[39m\u001b[38;5;124m\"\u001b[39m\u001b[38;5;124m,\u001b[39m\u001b[38;5;124m\"\u001b[39m,\n\u001b[1;32m     11\u001b[0m                         skip_header\u001b[38;5;241m=\u001b[39m\u001b[38;5;241m7\u001b[39m, usecols\u001b[38;5;241m=\u001b[39m\u001b[38;5;28mrange\u001b[39m(\u001b[38;5;241m3\u001b[39m, \u001b[38;5;241m17\u001b[39m),\n\u001b[1;32m     12\u001b[0m                         encoding\u001b[38;5;241m=\u001b[39m\u001b[38;5;124m\"\u001b[39m\u001b[38;5;124mutf-8-sig\u001b[39m\u001b[38;5;124m\"\u001b[39m)\n",
      "File \u001b[0;32m~/micromamba/envs/tutorial-pythonsul/lib/python3.11/site-packages/numpy/__init__.py:400\u001b[0m, in \u001b[0;36m__getattr__\u001b[0;34m(attr)\u001b[0m\n\u001b[1;32m    397\u001b[0m     \u001b[38;5;28;01mraise\u001b[39;00m \u001b[38;5;167;01mAttributeError\u001b[39;00m(__former_attrs__[attr], name\u001b[38;5;241m=\u001b[39m\u001b[38;5;28;01mNone\u001b[39;00m)\n\u001b[1;32m    399\u001b[0m \u001b[38;5;28;01mif\u001b[39;00m attr \u001b[38;5;129;01min\u001b[39;00m __expired_attributes__:\n\u001b[0;32m--> 400\u001b[0m     \u001b[38;5;28;01mraise\u001b[39;00m \u001b[38;5;167;01mAttributeError\u001b[39;00m(\n\u001b[1;32m    401\u001b[0m         \u001b[38;5;124mf\u001b[39m\u001b[38;5;124m\"\u001b[39m\u001b[38;5;124m`np.\u001b[39m\u001b[38;5;132;01m{\u001b[39;00mattr\u001b[38;5;132;01m}\u001b[39;00m\u001b[38;5;124m` was removed in the NumPy 2.0 release. \u001b[39m\u001b[38;5;124m\"\u001b[39m\n\u001b[1;32m    402\u001b[0m         \u001b[38;5;124mf\u001b[39m\u001b[38;5;124m\"\u001b[39m\u001b[38;5;132;01m{\u001b[39;00m__expired_attributes__[attr]\u001b[38;5;132;01m}\u001b[39;00m\u001b[38;5;124m\"\u001b[39m,\n\u001b[1;32m    403\u001b[0m         name\u001b[38;5;241m=\u001b[39m\u001b[38;5;28;01mNone\u001b[39;00m\n\u001b[1;32m    404\u001b[0m     )\n\u001b[1;32m    406\u001b[0m \u001b[38;5;28;01mif\u001b[39;00m attr \u001b[38;5;241m==\u001b[39m \u001b[38;5;124m\"\u001b[39m\u001b[38;5;124mchararray\u001b[39m\u001b[38;5;124m\"\u001b[39m:\n\u001b[1;32m    407\u001b[0m     warnings\u001b[38;5;241m.\u001b[39mwarn(\n\u001b[1;32m    408\u001b[0m         \u001b[38;5;124m\"\u001b[39m\u001b[38;5;124m`np.chararray` is deprecated and will be removed from \u001b[39m\u001b[38;5;124m\"\u001b[39m\n\u001b[1;32m    409\u001b[0m         \u001b[38;5;124m\"\u001b[39m\u001b[38;5;124mthe main namespace in the future. Use an array with a string \u001b[39m\u001b[38;5;124m\"\u001b[39m\n\u001b[1;32m    410\u001b[0m         \u001b[38;5;124m\"\u001b[39m\u001b[38;5;124mor bytes dtype instead.\u001b[39m\u001b[38;5;124m\"\u001b[39m, \u001b[38;5;167;01mDeprecationWarning\u001b[39;00m, stacklevel\u001b[38;5;241m=\u001b[39m\u001b[38;5;241m2\u001b[39m)\n",
      "\u001b[0;31mAttributeError\u001b[0m: `np.unicode_` was removed in the NumPy 2.0 release. Use `np.str_` instead."
     ]
    }
   ],
   "source": [
    "# Vamos usar skip_header e usecols para ler apenas um pedaço do arquivo.\n",
    "dates = np.genfromtxt(filename, dtype=np.unicode_, delimiter=\",\",\n",
    "                      max_rows=1, usecols=range(3, 17),\n",
    "                      encoding=\"utf-8-sig\")\n",
    "\n",
    "locations = np.genfromtxt(filename, dtype=np.unicode_, delimiter=\",\",\n",
    "                          skip_header=7, usecols=(0, 1),\n",
    "                          encoding=\"utf-8-sig\")\n",
    "\n",
    "nbcases = np.genfromtxt(filename, dtype=np.int_, delimiter=\",\",\n",
    "                        skip_header=7, usecols=range(3, 17),\n",
    "                        encoding=\"utf-8-sig\")"
   ]
  },
  {
   "cell_type": "markdown",
   "id": "4f94426d",
   "metadata": {},
   "source": [
    "Na chamada de `numpy.genfromtxt`, também selecionamos o [numpy.dtype](https://numpy.org/devdocs/reference/generated/numpy.dtype.html#numpy.dtype) para cada subconjunto dos dados (um inteiro - `numpy.int_` - ou texto - `numpy.unicode_`). Também usamos o argumento `encoding` para selecionar `utf-8-sig` como a [codificação do arquivo](https://docs.python.org/3/library/codecs.html#encodings-and-unicode).\n",
    "\n",
    "\n",
    "## Explorando os dados\n",
    "\n",
    "Vamos selecionar apenas algumas datas para mostrar no nosso gráfico (os [x-axis ticks](https://matplotlib.org/api/_as_gen/matplotlib.pyplot.xticks.html#matplotlib.pyplot.xticks)). Usamos `nbcases.T` para plotar cada linha do arquivo como uma curva do gráfico."
   ]
  },
  {
   "cell_type": "code",
   "execution_count": null,
   "id": "9e2eb32a",
   "metadata": {},
   "outputs": [],
   "source": [
    "%matplotlib widget\n",
    "import matplotlib.pyplot as plt\n",
    "selected_dates = [0, 3, 11, 13]\n",
    "plt.plot(dates, nbcases.T, '--');\n",
    "plt.xticks(selected_dates, dates[selected_dates]);\n",
    "plt.title(\"COVID-19 cumulative cases from Jan 21 to Feb 3 2020\");"
   ]
  },
  {
   "cell_type": "markdown",
   "id": "d276ff2b",
   "metadata": {},
   "source": [
    "O gráfico está esquisito entre 24 de Janeiro e 1 de Fevereiro. Olhando para a coluna `locations`, temos os nomes de regiões e países. Mas só as primeiras linhas tem dados na primeira coluna (nomes de província na China). Vamos então agrupar os dados da China numa única linha, usando [numpy.sum](https://numpy.org/devdocs/reference/generated/numpy.sum.html#numpy.sum) para somar todas a linhas selecionadas (`axis=0`):"
   ]
  },
  {
   "cell_type": "code",
   "execution_count": null,
   "id": "2ac5f71a",
   "metadata": {},
   "outputs": [],
   "source": [
    "china_total = nbcases[locations[:, 1] == 'China'].sum(axis=0)\n",
    "china_total"
   ]
  },
  {
   "cell_type": "markdown",
   "id": "803b026b",
   "metadata": {},
   "source": [
    "Mas tem algo errado: não é pra termos dados negativos... \n",
    "\n",
    "\n",
    "## Dados ausentes"
   ]
  },
  {
   "cell_type": "code",
   "execution_count": null,
   "id": "a3b3bef9",
   "metadata": {},
   "outputs": [],
   "source": [
    "nbcases"
   ]
  },
  {
   "cell_type": "markdown",
   "id": "345fbbe8",
   "metadata": {},
   "source": [
    "Os `-1` são causados pela tentativa da `numpy.genfromtxt` de ler dados ausentes do arquivo `.csv` original."
   ]
  },
  {
   "cell_type": "code",
   "execution_count": null,
   "id": "7017a30a",
   "metadata": {},
   "outputs": [],
   "source": [
    "from numpy import ma\n",
    "nbcases_ma = ma.masked_values(nbcases, -1)"
   ]
  },
  {
   "cell_type": "markdown",
   "id": "e80e59bf",
   "metadata": {},
   "source": [
    "Agora:"
   ]
  },
  {
   "cell_type": "code",
   "execution_count": null,
   "id": "d12f3657",
   "metadata": {},
   "outputs": [],
   "source": [
    "nbcases_ma"
   ]
  },
  {
   "cell_type": "markdown",
   "id": "2dcd98f8",
   "metadata": {},
   "source": [
    "Cuidado: o atributo `mask` tem valor `True` em elementos com valores **inválidos**.\n",
    "\n",
    "\n",
    "Vamos excluir a primeira linha (dados da província de Hubei na China):"
   ]
  },
  {
   "cell_type": "code",
   "execution_count": null,
   "id": "87651aef",
   "metadata": {},
   "outputs": [],
   "source": [
    "plt.plot(dates, nbcases_ma[1:].T, '--');\n",
    "plt.xticks(selected_dates, dates[selected_dates]);\n",
    "plt.title(\"COVID-19 cumulative cases from Jan 21 to Feb 3 2020\");"
   ]
  },
  {
   "cell_type": "code",
   "execution_count": null,
   "id": "eea42ede",
   "metadata": {},
   "outputs": [],
   "source": [
    "china_masked = nbcases_ma[locations[:, 1] == 'China'].sum(axis=0)\n",
    "china_masked"
   ]
  },
  {
   "cell_type": "markdown",
   "id": "0bd9682d",
   "metadata": {},
   "source": [
    "Note que `china_masked` é uma array com máscara e para acessar seus dados precisamos usar o atributo `.data`:"
   ]
  },
  {
   "cell_type": "code",
   "execution_count": null,
   "id": "bb78af6b",
   "metadata": {},
   "outputs": [],
   "source": [
    "china_total = china_masked.data\n",
    "china_total"
   ]
  },
  {
   "cell_type": "markdown",
   "id": "994f9524",
   "metadata": {},
   "source": [
    "Pronto, não temos mais valores negativos. Mas ainda tem algo estranho: mas o número acumulado de casos não poderia diminuir de um dia pro outro (de 835 pra 10, por exemplo). Olhando pros dados, vemos que no período em que tínhamos dados ausentes pra China, tínhamos dados válidos pra Hong Kong, Taiwan, Macau e regiões \"Unspecified\"."
   ]
  },
  {
   "cell_type": "code",
   "execution_count": null,
   "id": "48cdbc79",
   "metadata": {},
   "outputs": [],
   "source": [
    "china_mask = ((locations[:, 1] == 'China') &\n",
    "              (locations[:, 0] != 'Hong Kong') &\n",
    "              (locations[:, 0] != 'Taiwan') &\n",
    "              (locations[:, 0] != 'Macau') &\n",
    "              (locations[:, 0] != 'Unspecified*'))"
   ]
  },
  {
   "cell_type": "markdown",
   "id": "840ae58d",
   "metadata": {},
   "source": [
    "Observe que `china_mask` é um array de valores booleanos (`True` ou `False`); podemos verificar que os índices são como queríamos usando o método [ma.nonzero](https://numpy.org/devdocs/reference/generated/numpy.ma.nonzero.html#numpy.ma.nonzero):"
   ]
  },
  {
   "cell_type": "code",
   "execution_count": null,
   "id": "4952a7d1",
   "metadata": {},
   "outputs": [],
   "source": [
    "china_mask.nonzero()"
   ]
  },
  {
   "cell_type": "markdown",
   "id": "7b8cc34d",
   "metadata": {},
   "source": [
    "Pronto:"
   ]
  },
  {
   "cell_type": "code",
   "execution_count": null,
   "id": "3113f307",
   "metadata": {},
   "outputs": [],
   "source": [
    "china_total = nbcases_ma[china_mask].sum(axis=0)\n",
    "china_total"
   ]
  },
  {
   "cell_type": "markdown",
   "id": "ac0eaf41",
   "metadata": {},
   "source": [
    "Substituindo esses dados, temos:"
   ]
  },
  {
   "cell_type": "code",
   "execution_count": null,
   "id": "b3a61a55",
   "metadata": {},
   "outputs": [],
   "source": [
    "fig = plt.figure()\n",
    "plt.plot(dates, china_total.T, '--');\n",
    "plt.xticks(selected_dates, dates[selected_dates]);\n",
    "plt.title(\"COVID-19 cumulative cases from Jan 21 to Feb 3 2020 - Mainland China\");"
   ]
  },
  {
   "cell_type": "markdown",
   "id": "2489733d",
   "metadata": {},
   "source": [
    "## Ajuste de dados\n",
    "\n",
    "Uma possibilidade seria interpolar os dados ausentes para estimar o número de casos no final de janeiro."
   ]
  },
  {
   "cell_type": "code",
   "execution_count": null,
   "id": "0026c230",
   "metadata": {},
   "outputs": [],
   "source": [
    "china_total.mask\n",
    "invalid = china_total[china_total.mask]\n",
    "invalid"
   ]
  },
  {
   "cell_type": "markdown",
   "id": "08c0a372",
   "metadata": {},
   "source": [
    "Podemos acessar os valores válidos usando o operador de negação:"
   ]
  },
  {
   "cell_type": "code",
   "execution_count": null,
   "id": "45c368a1",
   "metadata": {},
   "outputs": [],
   "source": [
    "valid = china_total[~china_total.mask]\n",
    "valid"
   ]
  },
  {
   "cell_type": "markdown",
   "id": "20f26c68",
   "metadata": {},
   "source": [
    "Agora, para criar uma aproximação simples para estes dados, devemos levar em conta as entradas válidas perto das inválidas. Vamos selecionar as datas em que os dados são válidos; observe que podemos usar a máscara do array `china_total` também no array de datas:"
   ]
  },
  {
   "cell_type": "code",
   "execution_count": null,
   "id": "3988e044",
   "metadata": {},
   "outputs": [],
   "source": [
    "dates[~china_total.mask]"
   ]
  },
  {
   "cell_type": "markdown",
   "id": "20bfe814",
   "metadata": {},
   "source": [
    "Finalmente, vamos usar [numpy.polyfit](https://numpy.org/devdocs/reference/generated/numpy.polyfit.html#numpy.polyfit) e [numpy.polyval](https://numpy.org/devdocs/reference/generated/numpy.polyval.html#numpy.polyval) para criar um polinômio cúbico que faz um ajuste dos dados:"
   ]
  },
  {
   "cell_type": "code",
   "execution_count": null,
   "id": "01eaef89",
   "metadata": {},
   "outputs": [],
   "source": [
    "t = np.arange(len(china_total))\n",
    "params = np.polyfit(t[~china_total.mask], valid, 3)\n",
    "cubic_fit = np.polyval(params, t)\n",
    "fig = plt.figure()\n",
    "plt.plot(t, china_total);\n",
    "plt.plot(t, cubic_fit, '--');"
   ]
  },
  {
   "cell_type": "markdown",
   "id": "d3685cc5",
   "metadata": {},
   "source": [
    "Melhorando o gráfico:"
   ]
  },
  {
   "cell_type": "code",
   "execution_count": null,
   "id": "6c70f84f",
   "metadata": {},
   "outputs": [],
   "source": [
    "plt.plot(t, china_total);\n",
    "plt.plot(t[china_total.mask], cubic_fit[china_total.mask], '--', color='orange');\n",
    "plt.plot(7, np.polyval(params, 7), 'r*');\n",
    "plt.xticks([0, 7, 13], dates[[0, 7, 13]]);\n",
    "plt.yticks([0, np.polyval(params, 7), 10000, 17500]);\n",
    "plt.legend(['Mainland China', 'Cubic estimate', '7 days after start']);\n",
    "plt.title(\"COVID-19 cumulative cases from Jan 21 to Feb 3 2020 - Mainland China\\n\"\n",
    "          \"Cubic estimate for 7 days after start\");"
   ]
  },
  {
   "cell_type": "markdown",
   "id": "23b3ac15",
   "metadata": {},
   "source": [
    "---\n",
    "\n",
    "\n",
    "[Voltar ao notebook principal](00-Tutorial_Python_Sul_2024.md)\n",
    "\n",
    "[Ir para o notebook SVD](04-Exemplo_SVD.md)\n",
    "\n",
    "[Ir para o notebook Queimadas](05-Exemplo_Queimadas.md)"
   ]
  }
 ],
 "metadata": {
  "jupytext": {
   "formats": "md:myst",
   "kernelspec": {
    "display_name": "Python 3 (ipykernel)",
    "language": "python",
    "name": "python3"
   },
   "text_representation": {
    "extension": ".md",
    "format_name": "myst"
   }
  },
  "language_info": {
   "codemirror_mode": {
    "name": "ipython",
    "version": 3
   },
   "file_extension": ".py",
   "mimetype": "text/x-python",
   "name": "python",
   "nbconvert_exporter": "python",
   "pygments_lexer": "ipython3",
   "version": "3.11.9"
  },
  "source_map": [
   11,
   52,
   58,
   68,
   81,
   90,
   97,
   101,
   104,
   111,
   113,
   117,
   120,
   124,
   126,
   133,
   139,
   142,
   146,
   149,
   153,
   159,
   163,
   165,
   169,
   172,
   176,
   181,
   187,
   191,
   195,
   198,
   202,
   204,
   208,
   215,
   219,
   228
  ]
 },
 "nbformat": 4,
 "nbformat_minor": 5
}