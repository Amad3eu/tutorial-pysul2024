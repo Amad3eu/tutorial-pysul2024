{
 "cells": [
  {
   "cell_type": "markdown",
   "id": "6aa78d9f",
   "metadata": {},
   "source": [
    "# Queimadas\n",
    "\n",
    "\n",
    "Dados do INPE: http://queimadas.dgi.inpe.br/queimadas/bdqueimadas/\n",
    "\n",
    "Dados da NASA: https://firms.modaps.eosdis.nasa.gov/"
   ]
  },
  {
   "cell_type": "code",
   "execution_count": 1,
   "id": "d29cacfa",
   "metadata": {},
   "outputs": [
    {
     "name": "stdout",
     "output_type": "stream",
     "text": [
      "00-Tutorial_Python_Sul_2024.md\t04-Exemplo_SVD.md\t dados\r\n",
      "01-Tutorial_NumPy.md\t\t05-Exemplo_Queimadas.md  imagens\r\n",
      "02-Tutorial_Matplotlib.md\t06-Tutorial_SciPy.md\r\n",
      "03-Exemplo_Masked_Arrays.md\t07-Exemplo_Regressao.md\r\n"
     ]
    }
   ],
   "source": [
    "!ls"
   ]
  },
  {
   "cell_type": "code",
   "execution_count": 2,
   "id": "621b15a5",
   "metadata": {},
   "outputs": [],
   "source": [
    "zipfile_inpe = \"dados/Focos_BDQueimadas.zip\""
   ]
  },
  {
   "cell_type": "code",
   "execution_count": 3,
   "id": "7a08bdde",
   "metadata": {},
   "outputs": [],
   "source": [
    "from zipfile import ZipFile"
   ]
  },
  {
   "cell_type": "code",
   "execution_count": 4,
   "id": "68a855f6",
   "metadata": {},
   "outputs": [
    {
     "name": "stdout",
     "output_type": "stream",
     "text": [
      "File Name                                             Modified             Size\n",
      "Focos_2020-07-01_2020-09-30.csv                2020-10-17 22:10:24    292261227\n",
      "Extracting file dados/Focos_BDQueimadas.zip now...\n"
     ]
    },
    {
     "name": "stdout",
     "output_type": "stream",
     "text": [
      "Done!\n"
     ]
    }
   ],
   "source": [
    "with ZipFile(zipfile_inpe, 'r') as zip: \n",
    "    zip.printdir() \n",
    "    print(f'Extracting file {zipfile_inpe} now...') \n",
    "    zip.extractall(path=\"dados\") \n",
    "    print('Done!')"
   ]
  },
  {
   "cell_type": "code",
   "execution_count": 5,
   "id": "4c188d32",
   "metadata": {},
   "outputs": [
    {
     "name": "stdout",
     "output_type": "stream",
     "text": [
      "Focos_2020-07-01_2020-09-30.csv  who_covid_19_sit_rep_time_series.csv\r\n",
      "Focos_BDQueimadas.zip\r\n"
     ]
    }
   ],
   "source": [
    "!ls dados"
   ]
  },
  {
   "cell_type": "code",
   "execution_count": 6,
   "id": "c4468c04",
   "metadata": {},
   "outputs": [],
   "source": [
    "import os\n",
    "csv_inpe = os.path.join(\"dados\", \"Focos_2020-07-01_2020-09-30.csv\")"
   ]
  },
  {
   "cell_type": "code",
   "execution_count": 7,
   "id": "e25afd8d",
   "metadata": {},
   "outputs": [],
   "source": [
    "with open(csv_inpe, 'r') as f:\n",
    "    data = f.readlines()"
   ]
  },
  {
   "cell_type": "code",
   "execution_count": 8,
   "id": "175b3bbb",
   "metadata": {},
   "outputs": [
    {
     "name": "stdout",
     "output_type": "stream",
     "text": [
      "['datahora,satelite,pais,estado,municipio,bioma,diasemchuva,precipitacao,riscofogo,latitude,longitude,frp\\n', '2020/07/01 00:13:59,GOES-16,Brasil,MATO GROSSO,AGUA BOA,Cerrado,36,0,1,-13.6600,-52.6300,\\n', '2020/07/01 00:13:59,GOES-16,Brasil,MATO GROSSO,AGUA BOA,Cerrado,36,0.1,1,-13.6600,-52.6500,\\n', '2020/07/01 00:13:59,GOES-16,Brasil,BAHIA,JABORANDI,Cerrado,37,0,1,-13.8900,-45.6300,\\n', '2020/07/01 00:13:59,GOES-16,Brasil,BAHIA,JABORANDI,Cerrado,36,0,1,-13.8900,-45.6500,\\n', '2020/07/01 00:13:59,GOES-16,Brasil,BAHIA,JABORANDI,Cerrado,37,0,1,-13.8500,-45.6300,\\n', '2020/07/01 00:13:59,GOES-16,Brasil,BAHIA,JABORANDI,Cerrado,36,0,1,-13.8500,-45.6600,\\n', '2020/07/01 00:14:01,GOES-16,Brasil,MATO GROSSO,COMODORO,Amazonia,25,0,0.8,-13.3800,-59.8600,\\n', '2020/07/01 00:14:01,GOES-16,Brasil,MATO GROSSO,COMODORO,Amazonia,27,0,0.9,-13.3600,-59.8700,\\n', '2020/07/01 00:14:01,GOES-16,Brasil,MATO GROSSO,COMODORO,Amazonia,29,0,0.9,-13.3600,-59.8900,\\n']\n"
     ]
    }
   ],
   "source": [
    "print(data[0:10])"
   ]
  },
  {
   "cell_type": "code",
   "execution_count": 9,
   "id": "8b06fb15",
   "metadata": {},
   "outputs": [],
   "source": [
    "import pandas as pd"
   ]
  },
  {
   "cell_type": "code",
   "execution_count": 10,
   "id": "c5fae2aa",
   "metadata": {},
   "outputs": [],
   "source": [
    "with open(csv_inpe, 'r') as f:\n",
    "    df = pd.read_csv(f)"
   ]
  },
  {
   "cell_type": "code",
   "execution_count": 11,
   "id": "4cf3d057",
   "metadata": {},
   "outputs": [
    {
     "data": {
      "text/html": [
       "<div>\n",
       "<style scoped>\n",
       "    .dataframe tbody tr th:only-of-type {\n",
       "        vertical-align: middle;\n",
       "    }\n",
       "\n",
       "    .dataframe tbody tr th {\n",
       "        vertical-align: top;\n",
       "    }\n",
       "\n",
       "    .dataframe thead th {\n",
       "        text-align: right;\n",
       "    }\n",
       "</style>\n",
       "<table border=\"1\" class=\"dataframe\">\n",
       "  <thead>\n",
       "    <tr style=\"text-align: right;\">\n",
       "      <th></th>\n",
       "      <th>datahora</th>\n",
       "      <th>satelite</th>\n",
       "      <th>pais</th>\n",
       "      <th>estado</th>\n",
       "      <th>municipio</th>\n",
       "      <th>bioma</th>\n",
       "      <th>diasemchuva</th>\n",
       "      <th>precipitacao</th>\n",
       "      <th>riscofogo</th>\n",
       "      <th>latitude</th>\n",
       "      <th>longitude</th>\n",
       "      <th>frp</th>\n",
       "    </tr>\n",
       "  </thead>\n",
       "  <tbody>\n",
       "    <tr>\n",
       "      <th>0</th>\n",
       "      <td>2020/07/01 00:13:59</td>\n",
       "      <td>GOES-16</td>\n",
       "      <td>Brasil</td>\n",
       "      <td>MATO GROSSO</td>\n",
       "      <td>AGUA BOA</td>\n",
       "      <td>Cerrado</td>\n",
       "      <td>36.0</td>\n",
       "      <td>0.0</td>\n",
       "      <td>1.0</td>\n",
       "      <td>-13.66</td>\n",
       "      <td>-52.63</td>\n",
       "      <td>NaN</td>\n",
       "    </tr>\n",
       "    <tr>\n",
       "      <th>1</th>\n",
       "      <td>2020/07/01 00:13:59</td>\n",
       "      <td>GOES-16</td>\n",
       "      <td>Brasil</td>\n",
       "      <td>MATO GROSSO</td>\n",
       "      <td>AGUA BOA</td>\n",
       "      <td>Cerrado</td>\n",
       "      <td>36.0</td>\n",
       "      <td>0.1</td>\n",
       "      <td>1.0</td>\n",
       "      <td>-13.66</td>\n",
       "      <td>-52.65</td>\n",
       "      <td>NaN</td>\n",
       "    </tr>\n",
       "    <tr>\n",
       "      <th>2</th>\n",
       "      <td>2020/07/01 00:13:59</td>\n",
       "      <td>GOES-16</td>\n",
       "      <td>Brasil</td>\n",
       "      <td>BAHIA</td>\n",
       "      <td>JABORANDI</td>\n",
       "      <td>Cerrado</td>\n",
       "      <td>37.0</td>\n",
       "      <td>0.0</td>\n",
       "      <td>1.0</td>\n",
       "      <td>-13.89</td>\n",
       "      <td>-45.63</td>\n",
       "      <td>NaN</td>\n",
       "    </tr>\n",
       "    <tr>\n",
       "      <th>3</th>\n",
       "      <td>2020/07/01 00:13:59</td>\n",
       "      <td>GOES-16</td>\n",
       "      <td>Brasil</td>\n",
       "      <td>BAHIA</td>\n",
       "      <td>JABORANDI</td>\n",
       "      <td>Cerrado</td>\n",
       "      <td>36.0</td>\n",
       "      <td>0.0</td>\n",
       "      <td>1.0</td>\n",
       "      <td>-13.89</td>\n",
       "      <td>-45.65</td>\n",
       "      <td>NaN</td>\n",
       "    </tr>\n",
       "    <tr>\n",
       "      <th>4</th>\n",
       "      <td>2020/07/01 00:13:59</td>\n",
       "      <td>GOES-16</td>\n",
       "      <td>Brasil</td>\n",
       "      <td>BAHIA</td>\n",
       "      <td>JABORANDI</td>\n",
       "      <td>Cerrado</td>\n",
       "      <td>37.0</td>\n",
       "      <td>0.0</td>\n",
       "      <td>1.0</td>\n",
       "      <td>-13.85</td>\n",
       "      <td>-45.63</td>\n",
       "      <td>NaN</td>\n",
       "    </tr>\n",
       "    <tr>\n",
       "      <th>...</th>\n",
       "      <td>...</td>\n",
       "      <td>...</td>\n",
       "      <td>...</td>\n",
       "      <td>...</td>\n",
       "      <td>...</td>\n",
       "      <td>...</td>\n",
       "      <td>...</td>\n",
       "      <td>...</td>\n",
       "      <td>...</td>\n",
       "      <td>...</td>\n",
       "      <td>...</td>\n",
       "      <td>...</td>\n",
       "    </tr>\n",
       "    <tr>\n",
       "      <th>3123849</th>\n",
       "      <td>2020/09/30 23:55:07</td>\n",
       "      <td>GOES-16</td>\n",
       "      <td>Brasil</td>\n",
       "      <td>PARA</td>\n",
       "      <td>PORTEL</td>\n",
       "      <td>Amazonia</td>\n",
       "      <td>0.0</td>\n",
       "      <td>0.0</td>\n",
       "      <td>0.3</td>\n",
       "      <td>-3.36</td>\n",
       "      <td>-50.55</td>\n",
       "      <td>NaN</td>\n",
       "    </tr>\n",
       "    <tr>\n",
       "      <th>3123850</th>\n",
       "      <td>2020/09/30 23:55:07</td>\n",
       "      <td>GOES-16</td>\n",
       "      <td>Brasil</td>\n",
       "      <td>PARA</td>\n",
       "      <td>PORTEL</td>\n",
       "      <td>Amazonia</td>\n",
       "      <td>0.0</td>\n",
       "      <td>0.0</td>\n",
       "      <td>0.1</td>\n",
       "      <td>-3.38</td>\n",
       "      <td>-50.55</td>\n",
       "      <td>NaN</td>\n",
       "    </tr>\n",
       "    <tr>\n",
       "      <th>3123851</th>\n",
       "      <td>2020/09/30 23:55:09</td>\n",
       "      <td>GOES-16</td>\n",
       "      <td>Brasil</td>\n",
       "      <td>PARA</td>\n",
       "      <td>PARAGOMINAS</td>\n",
       "      <td>Amazonia</td>\n",
       "      <td>2.0</td>\n",
       "      <td>0.0</td>\n",
       "      <td>0.2</td>\n",
       "      <td>-2.91</td>\n",
       "      <td>-47.47</td>\n",
       "      <td>NaN</td>\n",
       "    </tr>\n",
       "    <tr>\n",
       "      <th>3123852</th>\n",
       "      <td>2020/09/30 23:55:09</td>\n",
       "      <td>GOES-16</td>\n",
       "      <td>Brasil</td>\n",
       "      <td>PARA</td>\n",
       "      <td>PARAGOMINAS</td>\n",
       "      <td>Amazonia</td>\n",
       "      <td>2.0</td>\n",
       "      <td>0.0</td>\n",
       "      <td>0.6</td>\n",
       "      <td>-2.89</td>\n",
       "      <td>-47.47</td>\n",
       "      <td>NaN</td>\n",
       "    </tr>\n",
       "    <tr>\n",
       "      <th>3123853</th>\n",
       "      <td>2020/09/30 23:55:09</td>\n",
       "      <td>GOES-16</td>\n",
       "      <td>Brasil</td>\n",
       "      <td>CEARA</td>\n",
       "      <td>BELA CRUZ</td>\n",
       "      <td>Caatinga</td>\n",
       "      <td>83.0</td>\n",
       "      <td>0.0</td>\n",
       "      <td>1.0</td>\n",
       "      <td>-3.02</td>\n",
       "      <td>-40.32</td>\n",
       "      <td>NaN</td>\n",
       "    </tr>\n",
       "  </tbody>\n",
       "</table>\n",
       "<p>3123854 rows × 12 columns</p>\n",
       "</div>"
      ],
      "text/plain": [
       "                    datahora satelite    pais       estado    municipio  \\\n",
       "0        2020/07/01 00:13:59  GOES-16  Brasil  MATO GROSSO     AGUA BOA   \n",
       "1        2020/07/01 00:13:59  GOES-16  Brasil  MATO GROSSO     AGUA BOA   \n",
       "2        2020/07/01 00:13:59  GOES-16  Brasil        BAHIA    JABORANDI   \n",
       "3        2020/07/01 00:13:59  GOES-16  Brasil        BAHIA    JABORANDI   \n",
       "4        2020/07/01 00:13:59  GOES-16  Brasil        BAHIA    JABORANDI   \n",
       "...                      ...      ...     ...          ...          ...   \n",
       "3123849  2020/09/30 23:55:07  GOES-16  Brasil         PARA       PORTEL   \n",
       "3123850  2020/09/30 23:55:07  GOES-16  Brasil         PARA       PORTEL   \n",
       "3123851  2020/09/30 23:55:09  GOES-16  Brasil         PARA  PARAGOMINAS   \n",
       "3123852  2020/09/30 23:55:09  GOES-16  Brasil         PARA  PARAGOMINAS   \n",
       "3123853  2020/09/30 23:55:09  GOES-16  Brasil        CEARA    BELA CRUZ   \n",
       "\n",
       "            bioma  diasemchuva  precipitacao  riscofogo  latitude  longitude  \\\n",
       "0         Cerrado         36.0           0.0        1.0    -13.66     -52.63   \n",
       "1         Cerrado         36.0           0.1        1.0    -13.66     -52.65   \n",
       "2         Cerrado         37.0           0.0        1.0    -13.89     -45.63   \n",
       "3         Cerrado         36.0           0.0        1.0    -13.89     -45.65   \n",
       "4         Cerrado         37.0           0.0        1.0    -13.85     -45.63   \n",
       "...           ...          ...           ...        ...       ...        ...   \n",
       "3123849  Amazonia          0.0           0.0        0.3     -3.36     -50.55   \n",
       "3123850  Amazonia          0.0           0.0        0.1     -3.38     -50.55   \n",
       "3123851  Amazonia          2.0           0.0        0.2     -2.91     -47.47   \n",
       "3123852  Amazonia          2.0           0.0        0.6     -2.89     -47.47   \n",
       "3123853  Caatinga         83.0           0.0        1.0     -3.02     -40.32   \n",
       "\n",
       "         frp  \n",
       "0        NaN  \n",
       "1        NaN  \n",
       "2        NaN  \n",
       "3        NaN  \n",
       "4        NaN  \n",
       "...      ...  \n",
       "3123849  NaN  \n",
       "3123850  NaN  \n",
       "3123851  NaN  \n",
       "3123852  NaN  \n",
       "3123853  NaN  \n",
       "\n",
       "[3123854 rows x 12 columns]"
      ]
     },
     "execution_count": 11,
     "metadata": {},
     "output_type": "execute_result"
    }
   ],
   "source": [
    "df"
   ]
  },
  {
   "cell_type": "code",
   "execution_count": 12,
   "id": "61852a8d",
   "metadata": {},
   "outputs": [],
   "source": [
    "df = df[df['riscofogo']!=0.0]"
   ]
  },
  {
   "cell_type": "code",
   "execution_count": 13,
   "id": "1f68f220",
   "metadata": {},
   "outputs": [
    {
     "data": {
      "text/plain": [
       "array(['GOES-16', 'METOP-C', 'TERRA_M-M', 'NOAA-18D', 'METOP-B',\n",
       "       'NPP-375', 'AQUA_M-M', 'NOAA-20', 'NOAA-19D', 'TERRA_M-T',\n",
       "       'MSG-03', 'AQUA_M-T', 'NOAA-19', 'NOAA-18'], dtype=object)"
      ]
     },
     "execution_count": 13,
     "metadata": {},
     "output_type": "execute_result"
    }
   ],
   "source": [
    "df['satelite'].unique()"
   ]
  },
  {
   "cell_type": "code",
   "execution_count": 14,
   "id": "e83f1c76",
   "metadata": {},
   "outputs": [],
   "source": [
    "df = df[df['satelite']=='TERRA_M-M']"
   ]
  },
  {
   "cell_type": "code",
   "execution_count": 15,
   "id": "501df660",
   "metadata": {},
   "outputs": [],
   "source": [
    "del df['satelite']\n",
    "del df['pais']"
   ]
  },
  {
   "cell_type": "code",
   "execution_count": 16,
   "id": "69522998",
   "metadata": {},
   "outputs": [
    {
     "data": {
      "text/html": [
       "<div>\n",
       "<style scoped>\n",
       "    .dataframe tbody tr th:only-of-type {\n",
       "        vertical-align: middle;\n",
       "    }\n",
       "\n",
       "    .dataframe tbody tr th {\n",
       "        vertical-align: top;\n",
       "    }\n",
       "\n",
       "    .dataframe thead th {\n",
       "        text-align: right;\n",
       "    }\n",
       "</style>\n",
       "<table border=\"1\" class=\"dataframe\">\n",
       "  <thead>\n",
       "    <tr style=\"text-align: right;\">\n",
       "      <th></th>\n",
       "      <th>datahora</th>\n",
       "      <th>estado</th>\n",
       "      <th>municipio</th>\n",
       "      <th>bioma</th>\n",
       "      <th>diasemchuva</th>\n",
       "      <th>precipitacao</th>\n",
       "      <th>riscofogo</th>\n",
       "      <th>latitude</th>\n",
       "      <th>longitude</th>\n",
       "      <th>frp</th>\n",
       "    </tr>\n",
       "  </thead>\n",
       "  <tbody>\n",
       "    <tr>\n",
       "      <th>169</th>\n",
       "      <td>2020/07/01 00:55:00</td>\n",
       "      <td>RIO GRANDE DO NORTE</td>\n",
       "      <td>MOSSORO</td>\n",
       "      <td>Caatinga</td>\n",
       "      <td>12.0</td>\n",
       "      <td>0.0</td>\n",
       "      <td>0.9</td>\n",
       "      <td>-5.273</td>\n",
       "      <td>-37.393</td>\n",
       "      <td>14.1</td>\n",
       "    </tr>\n",
       "    <tr>\n",
       "      <th>170</th>\n",
       "      <td>2020/07/01 00:55:00</td>\n",
       "      <td>MARANHAO</td>\n",
       "      <td>SAO JOAO DOS PATOS</td>\n",
       "      <td>Cerrado</td>\n",
       "      <td>35.0</td>\n",
       "      <td>0.0</td>\n",
       "      <td>1.0</td>\n",
       "      <td>-6.381</td>\n",
       "      <td>-43.699</td>\n",
       "      <td>17.5</td>\n",
       "    </tr>\n",
       "    <tr>\n",
       "      <th>565</th>\n",
       "      <td>2020/07/01 02:30:00</td>\n",
       "      <td>MATO GROSSO</td>\n",
       "      <td>VILA BELA DA SANTISSIMA TRINDADE</td>\n",
       "      <td>Amazonia</td>\n",
       "      <td>5.0</td>\n",
       "      <td>0.0</td>\n",
       "      <td>1.0</td>\n",
       "      <td>-16.120</td>\n",
       "      <td>-59.871</td>\n",
       "      <td>6.3</td>\n",
       "    </tr>\n",
       "    <tr>\n",
       "      <th>566</th>\n",
       "      <td>2020/07/01 02:30:00</td>\n",
       "      <td>MATO GROSSO</td>\n",
       "      <td>VILA BELA DA SANTISSIMA TRINDADE</td>\n",
       "      <td>Amazonia</td>\n",
       "      <td>5.0</td>\n",
       "      <td>0.0</td>\n",
       "      <td>1.0</td>\n",
       "      <td>-16.129</td>\n",
       "      <td>-59.870</td>\n",
       "      <td>5.8</td>\n",
       "    </tr>\n",
       "    <tr>\n",
       "      <th>567</th>\n",
       "      <td>2020/07/01 02:30:00</td>\n",
       "      <td>MATO GROSSO</td>\n",
       "      <td>NORTELANDIA</td>\n",
       "      <td>Cerrado</td>\n",
       "      <td>36.0</td>\n",
       "      <td>0.0</td>\n",
       "      <td>0.9</td>\n",
       "      <td>-14.281</td>\n",
       "      <td>-56.633</td>\n",
       "      <td>26.3</td>\n",
       "    </tr>\n",
       "    <tr>\n",
       "      <th>...</th>\n",
       "      <td>...</td>\n",
       "      <td>...</td>\n",
       "      <td>...</td>\n",
       "      <td>...</td>\n",
       "      <td>...</td>\n",
       "      <td>...</td>\n",
       "      <td>...</td>\n",
       "      <td>...</td>\n",
       "      <td>...</td>\n",
       "      <td>...</td>\n",
       "    </tr>\n",
       "    <tr>\n",
       "      <th>3069527</th>\n",
       "      <td>2020/09/30 02:15:00</td>\n",
       "      <td>MATO GROSSO</td>\n",
       "      <td>PORTO DOS GAUCHOS</td>\n",
       "      <td>Amazonia</td>\n",
       "      <td>2.0</td>\n",
       "      <td>0.3</td>\n",
       "      <td>0.5</td>\n",
       "      <td>-11.699</td>\n",
       "      <td>-57.306</td>\n",
       "      <td>14.2</td>\n",
       "    </tr>\n",
       "    <tr>\n",
       "      <th>3069528</th>\n",
       "      <td>2020/09/30 02:15:00</td>\n",
       "      <td>MATO GROSSO</td>\n",
       "      <td>CLAUDIA</td>\n",
       "      <td>Amazonia</td>\n",
       "      <td>3.0</td>\n",
       "      <td>0.1</td>\n",
       "      <td>0.4</td>\n",
       "      <td>-11.356</td>\n",
       "      <td>-55.215</td>\n",
       "      <td>3.6</td>\n",
       "    </tr>\n",
       "    <tr>\n",
       "      <th>3069529</th>\n",
       "      <td>2020/09/30 02:15:00</td>\n",
       "      <td>MATO GROSSO DO SUL</td>\n",
       "      <td>CORUMBA</td>\n",
       "      <td>Pantanal</td>\n",
       "      <td>9.0</td>\n",
       "      <td>0.0</td>\n",
       "      <td>1.0</td>\n",
       "      <td>-18.181</td>\n",
       "      <td>-56.269</td>\n",
       "      <td>9.5</td>\n",
       "    </tr>\n",
       "    <tr>\n",
       "      <th>3069543</th>\n",
       "      <td>2020/09/30 02:20:00</td>\n",
       "      <td>PARA</td>\n",
       "      <td>ORIXIMINA</td>\n",
       "      <td>Amazonia</td>\n",
       "      <td>2.0</td>\n",
       "      <td>0.4</td>\n",
       "      <td>0.6</td>\n",
       "      <td>1.477</td>\n",
       "      <td>-55.980</td>\n",
       "      <td>4.4</td>\n",
       "    </tr>\n",
       "    <tr>\n",
       "      <th>3069544</th>\n",
       "      <td>2020/09/30 02:20:00</td>\n",
       "      <td>PARA</td>\n",
       "      <td>ORIXIMINA</td>\n",
       "      <td>Amazonia</td>\n",
       "      <td>2.0</td>\n",
       "      <td>0.4</td>\n",
       "      <td>0.6</td>\n",
       "      <td>1.478</td>\n",
       "      <td>-55.970</td>\n",
       "      <td>7.0</td>\n",
       "    </tr>\n",
       "  </tbody>\n",
       "</table>\n",
       "<p>40035 rows × 10 columns</p>\n",
       "</div>"
      ],
      "text/plain": [
       "                    datahora               estado  \\\n",
       "169      2020/07/01 00:55:00  RIO GRANDE DO NORTE   \n",
       "170      2020/07/01 00:55:00             MARANHAO   \n",
       "565      2020/07/01 02:30:00          MATO GROSSO   \n",
       "566      2020/07/01 02:30:00          MATO GROSSO   \n",
       "567      2020/07/01 02:30:00          MATO GROSSO   \n",
       "...                      ...                  ...   \n",
       "3069527  2020/09/30 02:15:00          MATO GROSSO   \n",
       "3069528  2020/09/30 02:15:00          MATO GROSSO   \n",
       "3069529  2020/09/30 02:15:00   MATO GROSSO DO SUL   \n",
       "3069543  2020/09/30 02:20:00                 PARA   \n",
       "3069544  2020/09/30 02:20:00                 PARA   \n",
       "\n",
       "                                municipio     bioma  diasemchuva  \\\n",
       "169                               MOSSORO  Caatinga         12.0   \n",
       "170                    SAO JOAO DOS PATOS   Cerrado         35.0   \n",
       "565      VILA BELA DA SANTISSIMA TRINDADE  Amazonia          5.0   \n",
       "566      VILA BELA DA SANTISSIMA TRINDADE  Amazonia          5.0   \n",
       "567                           NORTELANDIA   Cerrado         36.0   \n",
       "...                                   ...       ...          ...   \n",
       "3069527                 PORTO DOS GAUCHOS  Amazonia          2.0   \n",
       "3069528                           CLAUDIA  Amazonia          3.0   \n",
       "3069529                           CORUMBA  Pantanal          9.0   \n",
       "3069543                         ORIXIMINA  Amazonia          2.0   \n",
       "3069544                         ORIXIMINA  Amazonia          2.0   \n",
       "\n",
       "         precipitacao  riscofogo  latitude  longitude   frp  \n",
       "169               0.0        0.9    -5.273    -37.393  14.1  \n",
       "170               0.0        1.0    -6.381    -43.699  17.5  \n",
       "565               0.0        1.0   -16.120    -59.871   6.3  \n",
       "566               0.0        1.0   -16.129    -59.870   5.8  \n",
       "567               0.0        0.9   -14.281    -56.633  26.3  \n",
       "...               ...        ...       ...        ...   ...  \n",
       "3069527           0.3        0.5   -11.699    -57.306  14.2  \n",
       "3069528           0.1        0.4   -11.356    -55.215   3.6  \n",
       "3069529           0.0        1.0   -18.181    -56.269   9.5  \n",
       "3069543           0.4        0.6     1.477    -55.980   4.4  \n",
       "3069544           0.4        0.6     1.478    -55.970   7.0  \n",
       "\n",
       "[40035 rows x 10 columns]"
      ]
     },
     "execution_count": 16,
     "metadata": {},
     "output_type": "execute_result"
    }
   ],
   "source": [
    "df"
   ]
  },
  {
   "cell_type": "markdown",
   "id": "c278ed6d",
   "metadata": {},
   "source": [
    "FRP: https://revistapesquisa.fapesp.br/como-monitorar-o-fogo/\n",
    "\n",
    "Risco de Queima: http://queimadas.dgi.inpe.br/queimadas/portal/informacoes/perguntas-frequentes#p23\n",
    "\n",
    "Monografia: https://monografias.ufrn.br/jspui/bitstream/123456789/9704/1/tcc_dias_alexandre_henrique.pdf"
   ]
  },
  {
   "cell_type": "code",
   "execution_count": 17,
   "id": "6ced7cd7",
   "metadata": {},
   "outputs": [
    {
     "ename": "ModuleNotFoundError",
     "evalue": "No module named 'ipyleaflet'",
     "output_type": "error",
     "traceback": [
      "\u001b[0;31m---------------------------------------------------------------------------\u001b[0m",
      "\u001b[0;31mModuleNotFoundError\u001b[0m                       Traceback (most recent call last)",
      "Cell \u001b[0;32mIn[17], line 2\u001b[0m\n\u001b[1;32m      1\u001b[0m get_ipython()\u001b[38;5;241m.\u001b[39mrun_line_magic(\u001b[38;5;124m'\u001b[39m\u001b[38;5;124mmatplotlib\u001b[39m\u001b[38;5;124m'\u001b[39m, \u001b[38;5;124m'\u001b[39m\u001b[38;5;124mwidget\u001b[39m\u001b[38;5;124m'\u001b[39m)\n\u001b[0;32m----> 2\u001b[0m \u001b[38;5;28;01mfrom\u001b[39;00m \u001b[38;5;21;01mipyleaflet\u001b[39;00m \u001b[38;5;28;01mimport\u001b[39;00m Map, Marker, CircleMarker\n\u001b[1;32m      4\u001b[0m center \u001b[38;5;241m=\u001b[39m (\u001b[38;5;241m-\u001b[39m\u001b[38;5;241m11.7997134\u001b[39m,\u001b[38;5;241m-\u001b[39m\u001b[38;5;241m53.8335376\u001b[39m)\n\u001b[1;32m      6\u001b[0m m \u001b[38;5;241m=\u001b[39m Map(center\u001b[38;5;241m=\u001b[39mcenter, zoom\u001b[38;5;241m=\u001b[39m\u001b[38;5;241m3\u001b[39m)\n",
      "\u001b[0;31mModuleNotFoundError\u001b[0m: No module named 'ipyleaflet'"
     ]
    }
   ],
   "source": [
    "%matplotlib widget\n",
    "from ipyleaflet import Map, Marker, CircleMarker\n",
    "\n",
    "center = (-11.7997134,-53.8335376)\n",
    "\n",
    "m = Map(center=center, zoom=3)\n",
    "\n",
    "#marker = Marker(location=center, draggable=True)\n",
    "#m.add_layer(marker);\n",
    "\n",
    "display(m)"
   ]
  },
  {
   "cell_type": "code",
   "execution_count": null,
   "id": "46dd9964",
   "metadata": {},
   "outputs": [],
   "source": [
    "frp_notnull = df[df['frp'].notnull()]\n",
    "frp_notnull = frp_notnull.loc[frp_notnull['datahora'].str.contains('2020/09/30')]"
   ]
  },
  {
   "cell_type": "code",
   "execution_count": null,
   "id": "b93072ec",
   "metadata": {},
   "outputs": [],
   "source": [
    "for index, row in frp_notnull.iterrows():\n",
    "    lat = row['latitude']\n",
    "    lon = row['longitude']\n",
    "    circle_marker = CircleMarker()\n",
    "    circle_marker.location = (lat, lon)\n",
    "    circle_marker.radius = 1\n",
    "    circle_marker.color = \"red\"\n",
    "    circle_marker.fill_color = \"red\"\n",
    "    circle_marker.weight = 1\n",
    "    m.add_layer(circle_marker)"
   ]
  },
  {
   "cell_type": "markdown",
   "id": "b68efdaf",
   "metadata": {},
   "source": [
    "- para uma mesma cidade, pegar o risco em função do tempo\n",
    "- para um grupo de cidades plotar o risco em um mesmo gráfico"
   ]
  },
  {
   "cell_type": "code",
   "execution_count": null,
   "id": "9fa45639",
   "metadata": {},
   "outputs": [],
   "source": [
    "lista_municipios = df['municipio'].unique()\n",
    "type(lista_municipios), len(lista_municipios)"
   ]
  },
  {
   "cell_type": "code",
   "execution_count": null,
   "id": "050a92e3",
   "metadata": {},
   "outputs": [],
   "source": [
    "corumba = df[df['municipio'] == \"CORUMBA\"]\n",
    "corumba"
   ]
  },
  {
   "cell_type": "code",
   "execution_count": null,
   "id": "1e29a173",
   "metadata": {},
   "outputs": [],
   "source": [
    "riscofogo = corumba['riscofogo']\n",
    "diasemchuva = corumba['diasemchuva']"
   ]
  },
  {
   "cell_type": "code",
   "execution_count": null,
   "id": "d3ea2305",
   "metadata": {},
   "outputs": [],
   "source": [
    "import numpy as np\n",
    "corumba = corumba.replace(-999, np.nan)"
   ]
  },
  {
   "cell_type": "code",
   "execution_count": null,
   "id": "dd5e6b3d",
   "metadata": {},
   "outputs": [],
   "source": [
    "agrupado = corumba.groupby('datahora').mean()"
   ]
  },
  {
   "cell_type": "code",
   "execution_count": null,
   "id": "407a1c9c",
   "metadata": {},
   "outputs": [],
   "source": [
    "agrupado"
   ]
  },
  {
   "cell_type": "code",
   "execution_count": null,
   "id": "39a0b544",
   "metadata": {},
   "outputs": [],
   "source": [
    "datas = list(agrupado.index)\n",
    "datas = [item[0:10] for item in datas]\n",
    "datas\n",
    "len(datas)"
   ]
  },
  {
   "cell_type": "code",
   "execution_count": null,
   "id": "7d96e1ad",
   "metadata": {},
   "outputs": [],
   "source": [
    "import matplotlib.pyplot as plt\n",
    "\n",
    "fig, ax = plt.subplots(2, 1, figsize=(8, 6))\n",
    "ax[0].plot(agrupado['riscofogo'], 'r')\n",
    "ax[1].plot(agrupado['diasemchuva'], 'bo')\n",
    "\n",
    "# Preparar rótulos da primeira imagem\n",
    "ax[0].set_xticks(range(len(datas))[::10]);\n",
    "ax[0].set_xticklabels(datas[::10], rotation=30)\n",
    "\n",
    "# Preparar rótulos da segunda imagem\n",
    "ax[1].set_xticks(range(len(datas))[::10]);\n",
    "ax[1].set_xticklabels(datas[::10], rotation=30)\n",
    "\n",
    "fig.tight_layout()"
   ]
  },
  {
   "cell_type": "code",
   "execution_count": null,
   "id": "1faec2dc",
   "metadata": {},
   "outputs": [],
   "source": [
    "fig, ax = plt.subplots(figsize=(8, 4))\n",
    "\n",
    "ax.plot(agrupado['riscofogo'], 'r')\n",
    "plt.draw()\n",
    "\n",
    "ax2 = ax.twinx()  # instantiate a second axes that shares the same x-axis\n",
    "ax2.plot(agrupado['diasemchuva'], 'bo')\n",
    "\n",
    "ax2.set_xticks(range(len(datas))[::10]);\n",
    "ax.set_xticklabels(datas[::10], rotation=30);\n",
    "\n",
    "ax.legend(['Risco Fogo'], loc='upper left')\n",
    "ax2.legend(['Dias sem chuva'], loc='upper right')\n",
    "\n",
    "ax.set_title('Dados INPE sobre queimadas em Corumba, MS')\n",
    "ax.set_ylabel('Risco fogo')\n",
    "ax2.set_ylabel('Dias sem chuva')\n",
    "fig.tight_layout()"
   ]
  },
  {
   "cell_type": "markdown",
   "id": "622ce546",
   "metadata": {},
   "source": [
    "[Voltar ao notebook principal](00-Tutorial_Python_Sul_2024.md)\n",
    "\n",
    "[Ir para o notebook SciPy](06-Tutorial_SciPy.md)"
   ]
  }
 ],
 "metadata": {
  "jupytext": {
   "formats": "md:myst",
   "kernelspec": {
    "display_name": "Python 3 (ipykernel)",
    "language": "python",
    "name": "python3"
   },
   "text_representation": {
    "extension": ".md",
    "format_name": "myst"
   }
  },
  "language_info": {
   "codemirror_mode": {
    "name": "ipython",
    "version": 3
   },
   "file_extension": ".py",
   "mimetype": "text/x-python",
   "name": "python",
   "nbconvert_exporter": "python",
   "pygments_lexer": "ipython3",
   "version": "3.11.9"
  },
  "source_map": [
   11,
   20,
   24,
   28,
   32,
   40,
   44,
   49,
   54,
   58,
   62,
   67,
   71,
   75,
   79,
   83,
   88,
   90,
   98,
   112,
   117,
   128,
   133,
   138,
   143,
   148,
   153,
   157,
   161,
   168,
   186,
   205
  ]
 },
 "nbformat": 4,
 "nbformat_minor": 5
}