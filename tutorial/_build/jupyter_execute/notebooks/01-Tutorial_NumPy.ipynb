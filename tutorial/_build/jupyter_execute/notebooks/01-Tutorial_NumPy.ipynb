{
 "cells": [
  {
   "cell_type": "code",
   "execution_count": 1,
   "id": "90f4e9ff",
   "metadata": {},
   "outputs": [
    {
     "data": {
      "image/png": "[encoded data removed]",
      "text/plain": [
       "<IPython.core.display.Image object>"
      ]
     },
     "execution_count": 1,
     "metadata": {
      "image/png": {
       "width": 600
      }
     },
     "output_type": "execute_result"
    }
   ],
   "source": [
    "from IPython.display import Image\n",
    "Image(\"imagens/numpylogo.png\", width=600)"
   ]
  },
  {
   "cell_type": "markdown",
   "id": "f0c60f40",
   "metadata": {},
   "source": [
    "# NumPy: a base da computação científica no Python"
   ]
  },
  {
   "cell_type": "code",
   "execution_count": 2,
   "id": "ce9045ba",
   "metadata": {},
   "outputs": [],
   "source": [
    "import numpy as np"
   ]
  },
  {
   "cell_type": "markdown",
   "id": "af3b409f",
   "metadata": {},
   "source": [
    "## O que é a NumPy?\n",
    "\n",
    "> A computação com arrays é a base para estatística e matemática computacionais, computação científica e suas várias aplicações em ciência e análise de dados, tais como visualização de dados, processamento de sinais digitais, processamento de imagens, bioinformática, aprendizagem de máquina, IA e muitas outras.\n",
    ">\n",
    "> A manipulação e a transformação de dados de grande escala dependem de computação eficiente de alta performance com arrays. A linguagem mais escolhida para análise de dados, aprendizagem de máquina e computação numérica produtiva é Python.\n",
    ">\n",
    "> Numerical Python (Python Numérico) ou NumPy é a biblioteca em Python padrão para o suporte à utilização de matrizes e arrays  multidimensionais de grande porte, e vem com uma vasta coleção de funções matemáticas de alto nível para operar nestas arrays.\n",
    ">\n",
    "> Desde o lançamento do NumPy em 2006, o Pandas apareceu em 2008, e nos últimos anos vimos uma sucessão de bibliotecas de computação com arrays aparecerem, ocupando e preenchendo o campo da computação com arrays. Muitas dessas bibliotecas mais recentes imitam recursos e capacidades parecidas com o NumPy e entregam algoritmos e recursos mais recentes voltados para aplicações de aprendizagem de máquina e inteligência artificial.\n",
    ">\n",
    "> A computação com arrays é baseada em estruturas de dados chamadas arrays. Arrays são usadas para organizar grandes quantidades de dados de forma que um conjunto de valores relacionados possa ser facilmente ordenado, obtido, matematicamente manipulado e transformado fácil e rapidamente.\n",
    ">\n",
    "> A computação com arrays é única pois envolve operar nos valores de um array de dados de uma vez. Isso significa que qualquer operação de array se aplica a todo um conjunto de valores de uma só vez. Esta abordagem vetorizada fornece velocidade e simplicidade por permitir que os programadores organizem o código e operem em agregados de dados, sem ter que usar laços com operações escalares individuais.\n",
    "\n",
    "(Fonte: [https://numpy.org](https://numpy.org))\n",
    "\n",
    "A biblioteca NumPy consiste em:\n",
    "\n",
    "- objeto `ndarray` (array homogêneo n-dimensional)\n",
    "- capacidade de **broadcasting**\n",
    "- funções matemáticas padrão com capacidade de vetorização\n",
    "- ferramentas para a integração de código C/C++ e Fortran\n",
    "- álgebra linear, transformadas de Fourier, gerador de números aleatórios\n",
    "\n",
    "---\n",
    "\n",
    "### Por que não usar listas?\n",
    "\n",
    "Uma lista em Python é às vezes vista como equivalente de um *array* em outras linguagens, mas uma lista é mutável e pode conter elementos de tipos diferentes.\n",
    "\n",
    "Quando uma array de fato contém elementos de um só tipo, temos algumas vantagens:\n",
    "- Tamanho\n",
    "- Desempenho\n",
    "- Funcionalidades específicas\n",
    "\n",
    "🎈 Link interessante: https://webcourses.ucf.edu/courses/1249560/pages/python-lists-vs-numpy-arrays-what-is-the-difference\n",
    "\n",
    "#### Alguns exemplos"
   ]
  },
  {
   "cell_type": "code",
   "execution_count": 3,
   "id": "95affa4b",
   "metadata": {},
   "outputs": [],
   "source": [
    "n = 10_000_000\n",
    "v = []\n",
    "w = []\n",
    "for i in range(n):\n",
    "    v.append(i)\n",
    "    w.append(i/10)"
   ]
  },
  {
   "cell_type": "code",
   "execution_count": 4,
   "id": "271e9a97",
   "metadata": {},
   "outputs": [
    {
     "data": {
      "text/plain": [
       "(list, list)"
      ]
     },
     "execution_count": 4,
     "metadata": {},
     "output_type": "execute_result"
    }
   ],
   "source": [
    "type(v), type(w)"
   ]
  },
  {
   "cell_type": "code",
   "execution_count": 5,
   "id": "2f06aeb2",
   "metadata": {},
   "outputs": [
    {
     "name": "stdout",
     "output_type": "stream",
     "text": [
      "174 ms ± 154 μs per loop (mean ± std. dev. of 7 runs, 10 loops each)\n"
     ]
    }
   ],
   "source": [
    "%timeit v + w"
   ]
  },
  {
   "cell_type": "code",
   "execution_count": 6,
   "id": "e71d8d46",
   "metadata": {},
   "outputs": [],
   "source": [
    "v_np = np.array(v)\n",
    "w_np = np.array(w)"
   ]
  },
  {
   "cell_type": "code",
   "execution_count": 7,
   "id": "9fc64718",
   "metadata": {},
   "outputs": [
    {
     "data": {
      "text/plain": [
       "(numpy.ndarray, numpy.ndarray)"
      ]
     },
     "execution_count": 7,
     "metadata": {},
     "output_type": "execute_result"
    }
   ],
   "source": [
    "type(v_np), type(w_np)"
   ]
  },
  {
   "cell_type": "code",
   "execution_count": 8,
   "id": "c25c017b",
   "metadata": {},
   "outputs": [
    {
     "data": {
      "text/plain": [
       "(dtype('int64'), dtype('float64'))"
      ]
     },
     "execution_count": 8,
     "metadata": {},
     "output_type": "execute_result"
    }
   ],
   "source": [
    "v_np.dtype, w_np.dtype"
   ]
  },
  {
   "cell_type": "code",
   "execution_count": 9,
   "id": "73ce60c2",
   "metadata": {},
   "outputs": [
    {
     "data": {
      "text/plain": [
       "(10000000,)"
      ]
     },
     "execution_count": 9,
     "metadata": {},
     "output_type": "execute_result"
    }
   ],
   "source": [
    "v_np.shape"
   ]
  },
  {
   "cell_type": "code",
   "execution_count": 10,
   "id": "dca65f40",
   "metadata": {},
   "outputs": [
    {
     "data": {
      "text/plain": [
       "10000000"
      ]
     },
     "execution_count": 10,
     "metadata": {},
     "output_type": "execute_result"
    }
   ],
   "source": [
    "v_np.size"
   ]
  },
  {
   "cell_type": "code",
   "execution_count": 11,
   "id": "33c04eee",
   "metadata": {},
   "outputs": [
    {
     "data": {
      "text/plain": [
       "8.0"
      ]
     },
     "execution_count": 11,
     "metadata": {},
     "output_type": "execute_result"
    }
   ],
   "source": [
    "v_np.nbytes/v_np.size"
   ]
  },
  {
   "cell_type": "code",
   "execution_count": 12,
   "id": "5ca4272b",
   "metadata": {},
   "outputs": [
    {
     "name": "stdout",
     "output_type": "stream",
     "text": [
      "18.6 ms ± 32.8 μs per loop (mean ± std. dev. of 7 runs, 100 loops each)\n"
     ]
    }
   ],
   "source": [
    "%timeit v_np + w_np"
   ]
  },
  {
   "cell_type": "markdown",
   "id": "2a6f3af8",
   "metadata": {},
   "source": [
    "#### E o módulo array?"
   ]
  },
  {
   "cell_type": "code",
   "execution_count": 13,
   "id": "9b5adcbf",
   "metadata": {},
   "outputs": [],
   "source": [
    "import array"
   ]
  },
  {
   "cell_type": "code",
   "execution_count": 14,
   "id": "7257b478",
   "metadata": {},
   "outputs": [],
   "source": [
    "v_arr = array.array('d', v)\n",
    "w_arr = array.array('d', w)"
   ]
  },
  {
   "cell_type": "code",
   "execution_count": 15,
   "id": "354f5ef4",
   "metadata": {},
   "outputs": [
    {
     "data": {
      "text/plain": [
       "'d'"
      ]
     },
     "execution_count": 15,
     "metadata": {},
     "output_type": "execute_result"
    }
   ],
   "source": [
    "v_arr.typecode"
   ]
  },
  {
   "cell_type": "code",
   "execution_count": 16,
   "id": "8ee4f3b4",
   "metadata": {},
   "outputs": [
    {
     "name": "stdout",
     "output_type": "stream",
     "text": [
      "26.5 ms ± 287 μs per loop (mean ± std. dev. of 7 runs, 10 loops each)\n"
     ]
    }
   ],
   "source": [
    "%timeit v_arr + w_arr"
   ]
  },
  {
   "cell_type": "markdown",
   "id": "31b6c6e2",
   "metadata": {},
   "source": [
    "🎈 Link interessante: https://medium.com/@gough.cory/performance-of-numpy-array-vs-python-list-194c8e283b65\n",
    "\n",
    "\n",
    "#### Como isso acontece?\n",
    "\n",
    "As arrays do NumPy são eficientes porque \n",
    "- são compatíveis com as rotinas de álgebra linear escritas em C/C++ ou Fortran\n",
    "- são *views* de objetos alocados por C/C++, Fortran e Cython\n",
    "- as operações vetorizadas em geral evitam copiar arrays desnecessariamente"
   ]
  },
  {
   "cell_type": "code",
   "execution_count": 17,
   "id": "e2829927",
   "metadata": {},
   "outputs": [
    {
     "data": {
      "text/html": [
       "<img src=\"https://media.springernature.com/full/springer-static/image/art%3A10.1038%2Fs41586-020-2649-2/MediaObjects/41586_2020_2649_Fig1_HTML.png\" width=\"600\"/>"
      ],
      "text/plain": [
       "<IPython.core.display.Image object>"
      ]
     },
     "execution_count": 17,
     "metadata": {},
     "output_type": "execute_result"
    }
   ],
   "source": [
    "Image(url=\"https://media.springernature.com/full/springer-static/image/art%3A10.1038%2Fs41586-020-2649-2/MediaObjects/41586_2020_2649_Fig1_HTML.png\", width=600)"
   ]
  },
  {
   "cell_type": "markdown",
   "id": "f4fe3f26",
   "metadata": {},
   "source": [
    "*Fonte: Harris et al., \"Array Programming with NumPy\", Nature volume 585, pages 357–362 (2020)*\n",
    "\n",
    "<!-- #region tags=[\"section\"] -->\n",
    "## Vetorização\n",
    "<!-- #endregion -->\n",
    "\n",
    "Vetorização é a capacidade de expressar operações em arrays sem especificar o que acontece com cada elemento individual (em outras palavras: sem usar loops!)\n",
    "\n",
    "- Código vetorizado é mais conciso e legível\n",
    "- O código fica (ligeiramente) mais parecido com a notação matemática\n",
    "- Mais rápido (usa operações otimizadas em C/Fortran)\n",
    "\n",
    "\n",
    "### Vetorização: Exemplo 1"
   ]
  },
  {
   "cell_type": "code",
   "execution_count": 18,
   "id": "8f1d64e0",
   "metadata": {},
   "outputs": [],
   "source": [
    "v = np.array([1, 2, 3, 4])"
   ]
  },
  {
   "cell_type": "code",
   "execution_count": 19,
   "id": "0d943f9d",
   "metadata": {},
   "outputs": [
    {
     "data": {
      "text/plain": [
       "array([ 1,  4,  9, 16])"
      ]
     },
     "execution_count": 19,
     "metadata": {},
     "output_type": "execute_result"
    }
   ],
   "source": [
    "v**2"
   ]
  },
  {
   "cell_type": "code",
   "execution_count": 20,
   "id": "64a8d30b",
   "metadata": {},
   "outputs": [
    {
     "data": {
      "text/plain": [
       "array([ 1,  4,  9, 16])"
      ]
     },
     "execution_count": 20,
     "metadata": {},
     "output_type": "execute_result"
    }
   ],
   "source": [
    "np.power(v, 2)"
   ]
  },
  {
   "cell_type": "code",
   "execution_count": 21,
   "id": "51dbdbda",
   "metadata": {},
   "outputs": [],
   "source": [
    "u = np.array([4.5, 3, 2, 1])"
   ]
  },
  {
   "cell_type": "code",
   "execution_count": 22,
   "id": "96cf0724",
   "metadata": {},
   "outputs": [
    {
     "data": {
      "text/plain": [
       "np.float64(20.5)"
      ]
     },
     "execution_count": 22,
     "metadata": {},
     "output_type": "execute_result"
    }
   ],
   "source": [
    "np.dot(u, v) "
   ]
  },
  {
   "cell_type": "markdown",
   "id": "eff255e6",
   "metadata": {},
   "source": [
    "#### Nota: onde estão implementadas as funções do NumPy?"
   ]
  },
  {
   "cell_type": "code",
   "execution_count": 23,
   "id": "9f7701bd",
   "metadata": {},
   "outputs": [
    {
     "name": "stdout",
     "output_type": "stream",
     "text": [
      "\n",
      "    dot(a, b, out=None)\n",
      "\n",
      "    Dot product of two arrays. Specifically,\n",
      "\n",
      "    - If both `a` and `b` are 1-D arrays, it is inner product of vectors\n",
      "      (without complex conjugation).\n",
      "\n",
      "    - If both `a` and `b` are 2-D arrays, it is matrix multiplication,\n",
      "      but using :func:`matmul` or ``a @ b`` is preferred.\n",
      "\n",
      "    - If either `a` or `b` is 0-D (scalar), it is equivalent to\n",
      "      :func:`multiply` and using ``numpy.multiply(a, b)`` or ``a * b`` is\n",
      "      preferred.\n",
      "\n",
      "    - If `a` is an N-D array and `b` is a 1-D array, it is a sum product over\n",
      "      the last axis of `a` and `b`.\n",
      "\n",
      "    - If `a` is an N-D array and `b` is an M-D array (where ``M>=2``), it is a\n",
      "      sum product over the last axis of `a` and the second-to-last axis of\n",
      "      `b`::\n",
      "\n",
      "        dot(a, b)[i,j,k,m] = sum(a[i,j,:] * b[k,:,m])\n",
      "\n",
      "    It uses an optimized BLAS library when possible (see `numpy.linalg`).\n",
      "\n",
      "    Parameters\n",
      "    ----------\n",
      "    a : array_like\n",
      "        First argument.\n",
      "    b : array_like\n",
      "        Second argument.\n",
      "    out : ndarray, optional\n",
      "        Output argument. This must have the exact kind that would be returned\n",
      "        if it was not used. In particular, it must have the right type, must be\n",
      "        C-contiguous, and its dtype must be the dtype that would be returned\n",
      "        for `dot(a,b)`. This is a performance feature. Therefore, if these\n",
      "        conditions are not met, an exception is raised, instead of attempting\n",
      "        to be flexible.\n",
      "\n",
      "    Returns\n",
      "    -------\n",
      "    output : ndarray\n",
      "        Returns the dot product of `a` and `b`.  If `a` and `b` are both\n",
      "        scalars or both 1-D arrays then a scalar is returned; otherwise\n",
      "        an array is returned.\n",
      "        If `out` is given, then it is returned.\n",
      "\n",
      "    Raises\n",
      "    ------\n",
      "    ValueError\n",
      "        If the last dimension of `a` is not the same size as\n",
      "        the second-to-last dimension of `b`.\n",
      "\n",
      "    See Also\n",
      "    --------\n",
      "    vdot : Complex-conjugating dot product.\n",
      "    tensordot : Sum products over arbitrary axes.\n",
      "    einsum : Einstein summation convention.\n",
      "    matmul : '@' operator as method with out parameter.\n",
      "    linalg.multi_dot : Chained dot product.\n",
      "\n",
      "    Examples\n",
      "    --------\n",
      "    >>> import numpy as np\n",
      "    >>> np.dot(3, 4)\n",
      "    12\n",
      "\n",
      "    Neither argument is complex-conjugated:\n",
      "\n",
      "    >>> np.dot([2j, 3j], [2j, 3j])\n",
      "    (-13+0j)\n",
      "\n",
      "    For 2-D arrays it is the matrix product:\n",
      "\n",
      "    >>> a = [[1, 0], [0, 1]]\n",
      "    >>> b = [[4, 1], [2, 2]]\n",
      "    >>> np.dot(a, b)\n",
      "    array([[4, 1],\n",
      "           [2, 2]])\n",
      "\n",
      "    >>> a = np.arange(3*4*5*6).reshape((3,4,5,6))\n",
      "    >>> b = np.arange(3*4*5*6)[::-1].reshape((5,4,6,3))\n",
      "    >>> np.dot(a, b)[2,3,2,1,2,2]\n",
      "    499128\n",
      "    >>> sum(a[2,3,2,:] * b[1,2,:,2])\n",
      "    499128\n",
      "\n",
      "    \n"
     ]
    }
   ],
   "source": [
    "print(np.dot.__doc__)"
   ]
  },
  {
   "cell_type": "code",
   "execution_count": 24,
   "id": "aeb0f67e",
   "metadata": {},
   "outputs": [
    {
     "name": "stdout",
     "output_type": "stream",
     "text": [
      "dot(a, b, out=None)\n",
      "\n",
      "Dot product of two arrays. Specifically,\n",
      "\n",
      "- If both `a` and `b` are 1-D arrays, it is inner product of vectors\n",
      "  (without complex conjugation).\n",
      "\n",
      "- If both `a` and `b` are 2-D arrays, it is matrix multiplication,\n",
      "  but using :func:`matmul` or ``a @ b`` is preferred.\n",
      "\n",
      "- If either `a` or `b` is 0-D (scalar), it is equivalent to\n",
      "  :func:`multiply` and using ``numpy.multiply(a, b)`` or ``a * b`` is\n",
      "  preferred.\n",
      "\n",
      "- If `a` is an N-D array and `b` is a 1-D array, it is a sum product over\n",
      "  the last axis of `a` and `b`.\n",
      "\n",
      "- If `a` is an N-D array and `b` is an M-D array (where ``M>=2``), it is a\n",
      "  sum product over the last axis of `a` and the second-to-last axis of\n",
      "  `b`::\n",
      "\n",
      "    dot(a, b)[i,j,k,m] = sum(a[i,j,:] * b[k,:,m])\n",
      "\n",
      "It uses an optimized BLAS library when possible (see `numpy.linalg`).\n",
      "\n",
      "Parameters\n",
      "----------\n",
      "a : array_like\n",
      "    First argument.\n",
      "b : array_like\n",
      "    Second argument.\n",
      "out : ndarray, optional\n",
      "    Output argument. This must have the exact kind that would be returned\n",
      "    if it was not used. In particular, it must have the right type, must be\n",
      "    C-contiguous, and its dtype must be the dtype that would be returned\n",
      "    for `dot(a,b)`. This is a performance feature. Therefore, if these\n",
      "    conditions are not met, an exception is raised, instead of attempting\n",
      "    to be flexible.\n",
      "\n",
      "Returns\n",
      "-------\n",
      "output : ndarray\n",
      "    Returns the dot product of `a` and `b`.  If `a` and `b` are both\n",
      "    scalars or both 1-D arrays then a scalar is returned; otherwise\n",
      "    an array is returned.\n",
      "    If `out` is given, then it is returned.\n",
      "\n",
      "Raises\n",
      "------\n",
      "ValueError\n",
      "    If the last dimension of `a` is not the same size as\n",
      "    the second-to-last dimension of `b`.\n",
      "\n",
      "See Also\n",
      "--------\n",
      "vdot : Complex-conjugating dot product.\n",
      "tensordot : Sum products over arbitrary axes.\n",
      "einsum : Einstein summation convention.\n",
      "matmul : '@' operator as method with out parameter.\n",
      "linalg.multi_dot : Chained dot product.\n",
      "\n",
      "Examples\n",
      "--------\n",
      ">>> import numpy as np\n",
      ">>> np.dot(3, 4)\n",
      "12\n",
      "\n",
      "Neither argument is complex-conjugated:\n",
      "\n",
      ">>> np.dot([2j, 3j], [2j, 3j])\n",
      "(-13+0j)\n",
      "\n",
      "For 2-D arrays it is the matrix product:\n",
      "\n",
      ">>> a = [[1, 0], [0, 1]]\n",
      ">>> b = [[4, 1], [2, 2]]\n",
      ">>> np.dot(a, b)\n",
      "array([[4, 1],\n",
      "       [2, 2]])\n",
      "\n",
      ">>> a = np.arange(3*4*5*6).reshape((3,4,5,6))\n",
      ">>> b = np.arange(3*4*5*6)[::-1].reshape((5,4,6,3))\n",
      ">>> np.dot(a, b)[2,3,2,1,2,2]\n",
      "499128\n",
      ">>> sum(a[2,3,2,:] * b[1,2,:,2])\n",
      "499128\n"
     ]
    }
   ],
   "source": [
    "np.info(np.dot)"
   ]
  },
  {
   "cell_type": "code",
   "execution_count": 25,
   "id": "65a0c5fe",
   "metadata": {},
   "outputs": [],
   "source": [
    "np.dot?"
   ]
  },
  {
   "cell_type": "markdown",
   "id": "a1f696ce",
   "metadata": {},
   "source": [
    "---\n",
    "\n",
    "\n",
    "❓❓\n",
    "- [Código fonte da função `np.dot`](https://github.com/numpy/numpy/blob/master/numpy/core/multiarray.py) - **linha 716**\n",
    "- [Agora de verdade](https://github.com/numpy/numpy/blob/master/numpy/core/src/multiarray/methods.c) - **linha 2269**\n",
    "- [For realz](https://github.com/numpy/numpy/blob/master/numpy/core/src/multiarray/multiarraymodule.c) - **linha 981 / 1023**\n",
    "\n",
    "\n",
    "### Cuidado!"
   ]
  },
  {
   "cell_type": "code",
   "execution_count": 26,
   "id": "a9b618ff",
   "metadata": {},
   "outputs": [],
   "source": [
    "sum?"
   ]
  },
  {
   "cell_type": "code",
   "execution_count": 27,
   "id": "cadfd9b6",
   "metadata": {},
   "outputs": [
    {
     "data": {
      "text/plain": [
       "9"
      ]
     },
     "execution_count": 27,
     "metadata": {},
     "output_type": "execute_result"
    }
   ],
   "source": [
    "sum(range(5), -1)"
   ]
  },
  {
   "cell_type": "code",
   "execution_count": 28,
   "id": "0423cd9a",
   "metadata": {},
   "outputs": [
    {
     "data": {
      "text/plain": [
       "np.int64(10)"
      ]
     },
     "execution_count": 28,
     "metadata": {},
     "output_type": "execute_result"
    }
   ],
   "source": [
    "from numpy import *\n",
    "sum(range(5), -1)"
   ]
  },
  {
   "cell_type": "code",
   "execution_count": 29,
   "id": "f78b319d",
   "metadata": {},
   "outputs": [],
   "source": [
    "np.sum?"
   ]
  },
  {
   "cell_type": "code",
   "execution_count": 30,
   "id": "fa112fdf",
   "metadata": {},
   "outputs": [],
   "source": [
    "%reset"
   ]
  },
  {
   "cell_type": "code",
   "execution_count": 31,
   "id": "1f442bbb",
   "metadata": {},
   "outputs": [],
   "source": [
    "import numpy as np"
   ]
  },
  {
   "cell_type": "markdown",
   "id": "932a0dad",
   "metadata": {},
   "source": [
    "---\n",
    "\n",
    "\n",
    "#### Vetorização: Exemplo 2"
   ]
  },
  {
   "cell_type": "code",
   "execution_count": 32,
   "id": "b9a66e43",
   "metadata": {},
   "outputs": [],
   "source": [
    "A = np.array([[1, 2, 3, 4],\n",
    "              [5, 6, 7, 8], \n",
    "              [9, 10, 11, 12]])"
   ]
  },
  {
   "cell_type": "code",
   "execution_count": 33,
   "id": "b1e2a51d",
   "metadata": {},
   "outputs": [
    {
     "data": {
      "text/plain": [
       "array([[ 1,  5,  9],\n",
       "       [ 2,  6, 10],\n",
       "       [ 3,  7, 11],\n",
       "       [ 4,  8, 12]])"
      ]
     },
     "execution_count": 33,
     "metadata": {},
     "output_type": "execute_result"
    }
   ],
   "source": [
    "A.T"
   ]
  },
  {
   "cell_type": "code",
   "execution_count": 34,
   "id": "ce075e05",
   "metadata": {},
   "outputs": [
    {
     "data": {
      "text/plain": [
       "(3, 4)"
      ]
     },
     "execution_count": 34,
     "metadata": {},
     "output_type": "execute_result"
    }
   ],
   "source": [
    "A.shape"
   ]
  },
  {
   "cell_type": "code",
   "execution_count": 35,
   "id": "91bd097b",
   "metadata": {},
   "outputs": [
    {
     "data": {
      "text/plain": [
       "2"
      ]
     },
     "execution_count": 35,
     "metadata": {},
     "output_type": "execute_result"
    }
   ],
   "source": [
    "A.ndim"
   ]
  },
  {
   "cell_type": "code",
   "execution_count": 36,
   "id": "51469f30",
   "metadata": {},
   "outputs": [
    {
     "data": {
      "text/plain": [
       "array([[ 1,  2,  3,  4,  5,  6],\n",
       "       [ 7,  8,  9, 10, 11, 12]])"
      ]
     },
     "execution_count": 36,
     "metadata": {},
     "output_type": "execute_result"
    }
   ],
   "source": [
    "A.reshape((2, 6))"
   ]
  },
  {
   "cell_type": "code",
   "execution_count": 37,
   "id": "a1dbed03",
   "metadata": {},
   "outputs": [
    {
     "data": {
      "text/plain": [
       "array([[ 1,  2,  3],\n",
       "       [ 4,  5,  6],\n",
       "       [ 7,  8,  9],\n",
       "       [10, 11, 12]])"
      ]
     },
     "execution_count": 37,
     "metadata": {},
     "output_type": "execute_result"
    }
   ],
   "source": [
    "A.reshape((4, 3))"
   ]
  },
  {
   "cell_type": "code",
   "execution_count": 38,
   "id": "678021dc",
   "metadata": {},
   "outputs": [
    {
     "data": {
      "text/plain": [
       "array([ 1,  2,  3,  4,  5,  6,  7,  8,  9, 10, 11, 12])"
      ]
     },
     "execution_count": 38,
     "metadata": {},
     "output_type": "execute_result"
    }
   ],
   "source": [
    "A.ravel()"
   ]
  },
  {
   "cell_type": "code",
   "execution_count": 39,
   "id": "e1d39473",
   "metadata": {},
   "outputs": [
    {
     "data": {
      "text/plain": [
       "array([0.43961212, 0.49070431, 0.17881541, 0.10581514, 0.23055203,\n",
       "       0.18895625, 0.65914532, 0.14817145, 0.04337713, 0.46230591])"
      ]
     },
     "execution_count": 39,
     "metadata": {},
     "output_type": "execute_result"
    }
   ],
   "source": [
    "u = np.random.rand(10)\n",
    "u"
   ]
  },
  {
   "cell_type": "code",
   "execution_count": 40,
   "id": "96a8b8b0",
   "metadata": {},
   "outputs": [
    {
     "data": {
      "text/plain": [
       "1"
      ]
     },
     "execution_count": 40,
     "metadata": {},
     "output_type": "execute_result"
    }
   ],
   "source": [
    "u.ndim"
   ]
  },
  {
   "cell_type": "code",
   "execution_count": 41,
   "id": "7216e442",
   "metadata": {},
   "outputs": [
    {
     "data": {
      "text/plain": [
       "(10,)"
      ]
     },
     "execution_count": 41,
     "metadata": {},
     "output_type": "execute_result"
    }
   ],
   "source": [
    "u.shape"
   ]
  },
  {
   "cell_type": "code",
   "execution_count": 42,
   "id": "2f90f024",
   "metadata": {},
   "outputs": [
    {
     "data": {
      "text/plain": [
       "array([0.43961212, 0.49070431, 0.17881541, 0.10581514, 0.23055203,\n",
       "       0.18895625, 0.65914532, 0.14817145, 0.04337713, 0.46230591])"
      ]
     },
     "execution_count": 42,
     "metadata": {},
     "output_type": "execute_result"
    }
   ],
   "source": [
    "u.T"
   ]
  },
  {
   "cell_type": "code",
   "execution_count": 43,
   "id": "a773b326",
   "metadata": {},
   "outputs": [
    {
     "data": {
      "text/plain": [
       "(10,)"
      ]
     },
     "execution_count": 43,
     "metadata": {},
     "output_type": "execute_result"
    }
   ],
   "source": [
    "u.T.shape"
   ]
  },
  {
   "cell_type": "code",
   "execution_count": 44,
   "id": "dfd04b8e",
   "metadata": {},
   "outputs": [
    {
     "data": {
      "text/plain": [
       "array([ True,  True,  True,  True,  True,  True,  True,  True,  True,\n",
       "        True])"
      ]
     },
     "execution_count": 44,
     "metadata": {},
     "output_type": "execute_result"
    }
   ],
   "source": [
    "u.T == u"
   ]
  },
  {
   "cell_type": "code",
   "execution_count": 45,
   "id": "4a8349b9",
   "metadata": {},
   "outputs": [
    {
     "data": {
      "text/plain": [
       "False"
      ]
     },
     "execution_count": 45,
     "metadata": {},
     "output_type": "execute_result"
    }
   ],
   "source": [
    "u.T is u"
   ]
  },
  {
   "cell_type": "code",
   "execution_count": 46,
   "id": "9a82c5ab",
   "metadata": {},
   "outputs": [],
   "source": [
    "np.transpose?"
   ]
  },
  {
   "cell_type": "code",
   "execution_count": 47,
   "id": "c81f5e9e",
   "metadata": {},
   "outputs": [
    {
     "data": {
      "text/plain": [
       "True"
      ]
     },
     "execution_count": 47,
     "metadata": {},
     "output_type": "execute_result"
    }
   ],
   "source": [
    "v = u.T\n",
    "v.base is u"
   ]
  },
  {
   "cell_type": "code",
   "execution_count": 48,
   "id": "04b018ea",
   "metadata": {},
   "outputs": [],
   "source": [
    "u[0] = 0"
   ]
  },
  {
   "cell_type": "code",
   "execution_count": 49,
   "id": "8c9ce7c4",
   "metadata": {},
   "outputs": [
    {
     "data": {
      "text/plain": [
       "array([0.        , 0.49070431, 0.17881541, 0.10581514, 0.23055203,\n",
       "       0.18895625, 0.65914532, 0.14817145, 0.04337713, 0.46230591])"
      ]
     },
     "execution_count": 49,
     "metadata": {},
     "output_type": "execute_result"
    }
   ],
   "source": [
    "u"
   ]
  },
  {
   "cell_type": "code",
   "execution_count": 50,
   "id": "13d534c1",
   "metadata": {},
   "outputs": [
    {
     "data": {
      "text/plain": [
       "array([0.        , 0.49070431, 0.17881541, 0.10581514, 0.23055203,\n",
       "       0.18895625, 0.65914532, 0.14817145, 0.04337713, 0.46230591])"
      ]
     },
     "execution_count": 50,
     "metadata": {},
     "output_type": "execute_result"
    }
   ],
   "source": [
    "v"
   ]
  },
  {
   "cell_type": "markdown",
   "id": "025c1746",
   "metadata": {},
   "source": [
    "[Documentação para ndarray.base](https://numpy.org/doc/stable/reference/generated/numpy.ndarray.base.html)\n",
    "\n",
    "\n",
    "#### ❓ (O que são essas dimensões?)"
   ]
  },
  {
   "cell_type": "code",
   "execution_count": 51,
   "id": "013fcb49",
   "metadata": {},
   "outputs": [
    {
     "data": {
      "text/html": [
       "<img src=\"https://fgnt.github.io/python_crashkurs_doc/_images/numpy_array_t.png\" width=\"600\"/>"
      ],
      "text/plain": [
       "<IPython.core.display.Image object>"
      ]
     },
     "execution_count": 51,
     "metadata": {},
     "output_type": "execute_result"
    }
   ],
   "source": [
    "from IPython.display import Image\n",
    "Image(url=\"https://fgnt.github.io/python_crashkurs_doc/_images/numpy_array_t.png\", width=600)"
   ]
  },
  {
   "cell_type": "markdown",
   "id": "72b0bad1",
   "metadata": {},
   "source": [
    "*[Fonte: Elegant SciPy](https://www.oreilly.com/library/view/elegant-scipy/9781491922927/ch01.html)*\n",
    "\n",
    "\n",
    "#### Vetorização: Exemplo 3"
   ]
  },
  {
   "cell_type": "code",
   "execution_count": 52,
   "id": "0527887d",
   "metadata": {},
   "outputs": [
    {
     "data": {
      "text/plain": [
       "array([1, 2, 3, 4])"
      ]
     },
     "execution_count": 52,
     "metadata": {},
     "output_type": "execute_result"
    }
   ],
   "source": [
    "A[0, :]  "
   ]
  },
  {
   "cell_type": "code",
   "execution_count": 53,
   "id": "0e37f52e",
   "metadata": {},
   "outputs": [
    {
     "data": {
      "text/plain": [
       "np.int64(78)"
      ]
     },
     "execution_count": 53,
     "metadata": {},
     "output_type": "execute_result"
    }
   ],
   "source": [
    "A.sum()"
   ]
  },
  {
   "cell_type": "code",
   "execution_count": 54,
   "id": "ccbf619f",
   "metadata": {},
   "outputs": [
    {
     "data": {
      "text/plain": [
       "array([15, 18, 21, 24])"
      ]
     },
     "execution_count": 54,
     "metadata": {},
     "output_type": "execute_result"
    }
   ],
   "source": [
    "A.sum(axis=0)"
   ]
  },
  {
   "cell_type": "code",
   "execution_count": 55,
   "id": "f79d0242",
   "metadata": {},
   "outputs": [
    {
     "data": {
      "text/plain": [
       "array([10, 26, 42])"
      ]
     },
     "execution_count": 55,
     "metadata": {},
     "output_type": "execute_result"
    }
   ],
   "source": [
    "A.sum(axis=1)"
   ]
  },
  {
   "cell_type": "code",
   "execution_count": 56,
   "id": "84254494",
   "metadata": {},
   "outputs": [
    {
     "data": {
      "text/plain": [
       "96"
      ]
     },
     "execution_count": 56,
     "metadata": {},
     "output_type": "execute_result"
    }
   ],
   "source": [
    "A.size * A.itemsize"
   ]
  },
  {
   "cell_type": "code",
   "execution_count": 57,
   "id": "344535d0",
   "metadata": {},
   "outputs": [
    {
     "data": {
      "text/plain": [
       "96"
      ]
     },
     "execution_count": 57,
     "metadata": {},
     "output_type": "execute_result"
    }
   ],
   "source": [
    "A.nbytes"
   ]
  },
  {
   "cell_type": "markdown",
   "id": "4fd1c0c5",
   "metadata": {},
   "source": [
    "Novamente:"
   ]
  },
  {
   "cell_type": "code",
   "execution_count": 58,
   "id": "c19b5959",
   "metadata": {},
   "outputs": [
    {
     "data": {
      "text/html": [
       "<img src=\"https://media.springernature.com/full/springer-static/image/art%3A10.1038%2Fs41586-020-2649-2/MediaObjects/41586_2020_2649_Fig1_HTML.png\" width=\"600\"/>"
      ],
      "text/plain": [
       "<IPython.core.display.Image object>"
      ]
     },
     "execution_count": 58,
     "metadata": {},
     "output_type": "execute_result"
    }
   ],
   "source": [
    "Image(url=\"https://media.springernature.com/full/springer-static/image/art%3A10.1038%2Fs41586-020-2649-2/MediaObjects/41586_2020_2649_Fig1_HTML.png\", width=600)"
   ]
  },
  {
   "cell_type": "markdown",
   "id": "c80c6fe4",
   "metadata": {},
   "source": [
    "<!-- #region tags=[\"section\"] -->\n",
    "### Broadcasting\n",
    "<!-- #endregion -->\n",
    "\n",
    "Permite fazer operações vetoriais de maneira generalizada.\n",
    "\n",
    "☠️ **Cuidado!** ☠️"
   ]
  },
  {
   "cell_type": "code",
   "execution_count": 59,
   "id": "7f4f96c9",
   "metadata": {},
   "outputs": [],
   "source": [
    "x = np.array([1, 2, 3, 4])"
   ]
  },
  {
   "cell_type": "code",
   "execution_count": 60,
   "id": "8717c477",
   "metadata": {},
   "outputs": [
    {
     "data": {
      "text/plain": [
       "array([6, 7, 8, 9])"
      ]
     },
     "execution_count": 60,
     "metadata": {},
     "output_type": "execute_result"
    }
   ],
   "source": [
    "x + 5"
   ]
  },
  {
   "cell_type": "code",
   "execution_count": 61,
   "id": "faa52251",
   "metadata": {},
   "outputs": [
    {
     "data": {
      "text/plain": [
       "array([[ 1,  2,  3,  4],\n",
       "       [ 5,  6,  7,  8],\n",
       "       [ 9, 10, 11, 12]])"
      ]
     },
     "execution_count": 61,
     "metadata": {},
     "output_type": "execute_result"
    }
   ],
   "source": [
    "A"
   ]
  },
  {
   "cell_type": "code",
   "execution_count": 62,
   "id": "244bb0b3",
   "metadata": {},
   "outputs": [
    {
     "data": {
      "text/plain": [
       "array([1, 2, 3, 4])"
      ]
     },
     "execution_count": 62,
     "metadata": {},
     "output_type": "execute_result"
    }
   ],
   "source": [
    "x"
   ]
  },
  {
   "cell_type": "code",
   "execution_count": 63,
   "id": "6fe2d41f",
   "metadata": {},
   "outputs": [
    {
     "data": {
      "text/plain": [
       "array([[ 2,  4,  6,  8],\n",
       "       [ 6,  8, 10, 12],\n",
       "       [10, 12, 14, 16]])"
      ]
     },
     "execution_count": 63,
     "metadata": {},
     "output_type": "execute_result"
    }
   ],
   "source": [
    "A+x"
   ]
  },
  {
   "cell_type": "code",
   "execution_count": 64,
   "id": "69f2de0c",
   "metadata": {},
   "outputs": [],
   "source": [
    "np.add?"
   ]
  },
  {
   "cell_type": "markdown",
   "id": "65eabfec",
   "metadata": {},
   "source": [
    "### 📒 Exercícios \n",
    "\n",
    "\n",
    "Como determinar a dieta mais econômica que satisfaz os requerimentos nutricionais básicos para boa saúde? Vamos supor que queremos fazer nossa compra semanal no supermercado: leite, miojo e café. Atualmente, os preços são:\n",
    "\n",
    "- Leite: 4 reais o litro\n",
    "- Miojo: 1,50 o pacote\n",
    "- Café: 10 reais a unidade\n",
    "\n",
    "Vamos nos preocupar com 4 ingredientes nutricionais básicos: proteína, carboidratos e gordura.\n",
    "\n",
    "| Produto      | Carboidratos | Proteínas | Gorduras|\n",
    "---------------|--------------|-----------|---------|\n",
    "|Miojo (100g)  | 63,6g        | 10,0g     | 15,5g   |\n",
    "|Leite (100ml) | 4,66g        | 3,32g     | 3,35g   |\n",
    "\n",
    "\n",
    "#### Exercício 1\n",
    "\n",
    "Use uma ndarray `a` bidimensional que armazene, na posição $(i, j)$, a quantidade de gramas do nutriente $i$ contidas em cada grama do alimento $j$.\n",
    "\n",
    "\n",
    "#### Solução 1"
   ]
  },
  {
   "cell_type": "code",
   "execution_count": 65,
   "id": "96799dfe",
   "metadata": {},
   "outputs": [],
   "source": [
    "tabela = np.zeros((3, 2))"
   ]
  },
  {
   "cell_type": "code",
   "execution_count": 66,
   "id": "99372a22",
   "metadata": {},
   "outputs": [],
   "source": [
    "miojo = np.array([63.6, 10, 15.5])\n",
    "leite = np.array([4.66, 3.32, 3.35])"
   ]
  },
  {
   "cell_type": "code",
   "execution_count": 67,
   "id": "9ff3126f",
   "metadata": {},
   "outputs": [],
   "source": [
    "# Para ter os valores nutricionais por grama (ao invés de para cada 100g)\n",
    "miojo = miojo/100\n",
    "# Mesma coisa para o leite: vamos obter o valor por ml\n",
    "leite = leite/100"
   ]
  },
  {
   "cell_type": "code",
   "execution_count": 68,
   "id": "1e733361",
   "metadata": {},
   "outputs": [],
   "source": [
    "tabela[:, 0] = miojo"
   ]
  },
  {
   "cell_type": "code",
   "execution_count": 69,
   "id": "47520aa2",
   "metadata": {},
   "outputs": [
    {
     "data": {
      "text/plain": [
       "array([[0.636, 0.   ],\n",
       "       [0.1  , 0.   ],\n",
       "       [0.155, 0.   ]])"
      ]
     },
     "execution_count": 69,
     "metadata": {},
     "output_type": "execute_result"
    }
   ],
   "source": [
    "tabela"
   ]
  },
  {
   "cell_type": "code",
   "execution_count": 70,
   "id": "e86f656e",
   "metadata": {},
   "outputs": [],
   "source": [
    "tabela[:, 1] = leite"
   ]
  },
  {
   "cell_type": "code",
   "execution_count": 71,
   "id": "f5fde47e",
   "metadata": {},
   "outputs": [
    {
     "data": {
      "text/plain": [
       "array([[0.636 , 0.0466],\n",
       "       [0.1   , 0.0332],\n",
       "       [0.155 , 0.0335]])"
      ]
     },
     "execution_count": 71,
     "metadata": {},
     "output_type": "execute_result"
    }
   ],
   "source": [
    "tabela"
   ]
  },
  {
   "cell_type": "markdown",
   "id": "310bbde1",
   "metadata": {},
   "source": [
    "#### Solução 2"
   ]
  },
  {
   "cell_type": "code",
   "execution_count": 72,
   "id": "03c1ed8e",
   "metadata": {},
   "outputs": [],
   "source": [
    "miojo = np.array([63.6, 10, 15.5])\n",
    "leite = np.array([4.66, 3.32, 3.35])"
   ]
  },
  {
   "cell_type": "code",
   "execution_count": 73,
   "id": "ab58642f",
   "metadata": {},
   "outputs": [],
   "source": [
    "tabela = np.vstack([miojo, leite]).T/100"
   ]
  },
  {
   "cell_type": "code",
   "execution_count": 74,
   "id": "d7554253",
   "metadata": {},
   "outputs": [
    {
     "data": {
      "text/plain": [
       "array([[0.636 , 0.0466],\n",
       "       [0.1   , 0.0332],\n",
       "       [0.155 , 0.0335]])"
      ]
     },
     "execution_count": 74,
     "metadata": {},
     "output_type": "execute_result"
    }
   ],
   "source": [
    "tabela"
   ]
  },
  {
   "cell_type": "markdown",
   "id": "d84a98ff",
   "metadata": {},
   "source": [
    "#### Solução 3"
   ]
  },
  {
   "cell_type": "code",
   "execution_count": 75,
   "id": "c80eea0a",
   "metadata": {},
   "outputs": [],
   "source": [
    "tabela = np.stack([miojo, leite], axis=1)/100"
   ]
  },
  {
   "cell_type": "code",
   "execution_count": 76,
   "id": "3423cec6",
   "metadata": {},
   "outputs": [
    {
     "data": {
      "text/plain": [
       "array([[0.636 , 0.0466],\n",
       "       [0.1   , 0.0332],\n",
       "       [0.155 , 0.0335]])"
      ]
     },
     "execution_count": 76,
     "metadata": {},
     "output_type": "execute_result"
    }
   ],
   "source": [
    "tabela"
   ]
  },
  {
   "cell_type": "markdown",
   "id": "0c72d1d7",
   "metadata": {},
   "source": [
    "#### Exercício 2\n",
    "\n",
    "\n",
    "A partir da array `a` criada acima, extraia um array que contenha os valores de nutriente por alimento."
   ]
  },
  {
   "cell_type": "code",
   "execution_count": 77,
   "id": "3709a6a0",
   "metadata": {},
   "outputs": [],
   "source": [
    "carbs = tabela[0, :]\n",
    "proteina = tabela[1, :]\n",
    "gordura = tabela[2, :]"
   ]
  },
  {
   "cell_type": "code",
   "execution_count": 78,
   "id": "db63ff6a",
   "metadata": {},
   "outputs": [
    {
     "data": {
      "text/plain": [
       "((2,), (2,), (2,))"
      ]
     },
     "execution_count": 78,
     "metadata": {},
     "output_type": "execute_result"
    }
   ],
   "source": [
    "carbs.shape, proteina.shape, gordura.shape"
   ]
  },
  {
   "cell_type": "markdown",
   "id": "28f41905",
   "metadata": {},
   "source": [
    "#### Exercício 3\n",
    "\n",
    "\n",
    "Calcule o preço de uma compra incluindo 2 litros de leite, 1 pacote de café e 5 pacotes de miojo.\n",
    "\n",
    "Para facilitar, vamos usar a seguinte notação:\n",
    "\n",
    "$x_0$ -> quantidade de litros de leite;\n",
    "\n",
    "$x_1$ -> quantidade de pacotes de miojo;\n",
    "\n",
    "$x_2$ -> quantidade de pacotes de café;\n",
    "\n",
    "Isso significa que podemos representar a quantidade a ser comprada como:"
   ]
  },
  {
   "cell_type": "code",
   "execution_count": 79,
   "id": "0e6d9cff",
   "metadata": {},
   "outputs": [],
   "source": [
    "x = np.array([2, 5, 1])"
   ]
  },
  {
   "cell_type": "code",
   "execution_count": 80,
   "id": "b1c47e70",
   "metadata": {},
   "outputs": [],
   "source": [
    "# Leite: 4 reais o litro\n",
    "# Miojo: 1,50 o pacote\n",
    "# Café: 10 reais a unidade\n",
    "c = np.array([4, 1.5, 10])"
   ]
  },
  {
   "cell_type": "markdown",
   "id": "270cc856",
   "metadata": {},
   "source": [
    "Total da compra:"
   ]
  },
  {
   "cell_type": "code",
   "execution_count": 81,
   "id": "220c0a63",
   "metadata": {},
   "outputs": [
    {
     "data": {
      "text/plain": [
       "np.float64(25.5)"
      ]
     },
     "execution_count": 81,
     "metadata": {},
     "output_type": "execute_result"
    }
   ],
   "source": [
    "x[0]*c[0] + x[1]*c[1]+x[2]*c[2]"
   ]
  },
  {
   "cell_type": "code",
   "execution_count": 82,
   "id": "49abe2ce",
   "metadata": {},
   "outputs": [
    {
     "data": {
      "text/plain": [
       "np.float64(25.5)"
      ]
     },
     "execution_count": 82,
     "metadata": {},
     "output_type": "execute_result"
    }
   ],
   "source": [
    "total = np.dot(c, x)\n",
    "total"
   ]
  },
  {
   "cell_type": "markdown",
   "id": "8bca6d15",
   "metadata": {},
   "source": [
    "O custo pode ser calculado, em geral, como"
   ]
  },
  {
   "cell_type": "code",
   "execution_count": 83,
   "id": "5ed9b6f7",
   "metadata": {},
   "outputs": [],
   "source": [
    "def custo(x):\n",
    "    c = np.array([4, 1.5, 10])\n",
    "    return np.dot(x, c)"
   ]
  },
  {
   "cell_type": "markdown",
   "id": "e9e61ee8",
   "metadata": {},
   "source": [
    "Assim, se mudamos as quantidades para\n",
    "\n",
    "10 litros de leite; 8 pacotes de miojo; 2 pacotes de café\n",
    "\n",
    "temos"
   ]
  },
  {
   "cell_type": "code",
   "execution_count": 84,
   "id": "8ba7a7a6",
   "metadata": {},
   "outputs": [
    {
     "data": {
      "text/plain": [
       "np.float64(72.0)"
      ]
     },
     "execution_count": 84,
     "metadata": {},
     "output_type": "execute_result"
    }
   ],
   "source": [
    "custo(np.array([10, 8, 2]))"
   ]
  },
  {
   "cell_type": "markdown",
   "id": "964bab1b",
   "metadata": {},
   "source": [
    "---\n",
    "\n",
    "\n",
    "### Operações vetorizadas e pontos flutuantes"
   ]
  },
  {
   "cell_type": "code",
   "execution_count": 85,
   "id": "87dbba76",
   "metadata": {},
   "outputs": [],
   "source": [
    "x = np.linspace(-np.pi, np.pi, 10)"
   ]
  },
  {
   "cell_type": "code",
   "execution_count": 86,
   "id": "f14e8638",
   "metadata": {},
   "outputs": [
    {
     "data": {
      "text/plain": [
       "array([-3.14159265, -2.44346095, -1.74532925, -1.04719755, -0.34906585,\n",
       "        0.34906585,  1.04719755,  1.74532925,  2.44346095,  3.14159265])"
      ]
     },
     "execution_count": 86,
     "metadata": {},
     "output_type": "execute_result"
    }
   ],
   "source": [
    "x"
   ]
  },
  {
   "cell_type": "code",
   "execution_count": 87,
   "id": "042cb347",
   "metadata": {},
   "outputs": [
    {
     "data": {
      "text/plain": [
       "array([-1.22464680e-16, -6.42787610e-01, -9.84807753e-01, -8.66025404e-01,\n",
       "       -3.42020143e-01,  3.42020143e-01,  8.66025404e-01,  9.84807753e-01,\n",
       "        6.42787610e-01,  1.22464680e-16])"
      ]
     },
     "execution_count": 87,
     "metadata": {},
     "output_type": "execute_result"
    }
   ],
   "source": [
    "np.sin(x)"
   ]
  },
  {
   "cell_type": "markdown",
   "id": "0f3c4b35",
   "metadata": {},
   "source": [
    "#### ⚠️⚠️ Observação"
   ]
  },
  {
   "cell_type": "code",
   "execution_count": 88,
   "id": "545563ab",
   "metadata": {},
   "outputs": [
    {
     "data": {
      "text/plain": [
       "nan"
      ]
     },
     "execution_count": 88,
     "metadata": {},
     "output_type": "execute_result"
    }
   ],
   "source": [
    "0 * np.nan"
   ]
  },
  {
   "cell_type": "code",
   "execution_count": 89,
   "id": "74dae493",
   "metadata": {},
   "outputs": [
    {
     "data": {
      "text/plain": [
       "False"
      ]
     },
     "execution_count": 89,
     "metadata": {},
     "output_type": "execute_result"
    }
   ],
   "source": [
    "np.nan == np.nan"
   ]
  },
  {
   "cell_type": "code",
   "execution_count": 90,
   "id": "4ba4302e",
   "metadata": {},
   "outputs": [
    {
     "data": {
      "text/plain": [
       "False"
      ]
     },
     "execution_count": 90,
     "metadata": {},
     "output_type": "execute_result"
    }
   ],
   "source": [
    "np.inf > np.nan"
   ]
  },
  {
   "cell_type": "code",
   "execution_count": 91,
   "id": "ed4fb22d",
   "metadata": {},
   "outputs": [
    {
     "data": {
      "text/plain": [
       "nan"
      ]
     },
     "execution_count": 91,
     "metadata": {},
     "output_type": "execute_result"
    }
   ],
   "source": [
    "np.nan - np.nan"
   ]
  },
  {
   "cell_type": "code",
   "execution_count": 92,
   "id": "20492874",
   "metadata": {},
   "outputs": [
    {
     "data": {
      "text/plain": [
       "True"
      ]
     },
     "execution_count": 92,
     "metadata": {},
     "output_type": "execute_result"
    }
   ],
   "source": [
    "np.nan in set([np.nan])"
   ]
  },
  {
   "cell_type": "markdown",
   "id": "ee12adcc",
   "metadata": {},
   "source": [
    "Observe:"
   ]
  },
  {
   "cell_type": "code",
   "execution_count": 93,
   "id": "b096493d",
   "metadata": {},
   "outputs": [
    {
     "name": "stderr",
     "output_type": "stream",
     "text": [
      "/tmp/ipykernel_19339/873513115.py:1: RuntimeWarning: invalid value encountered in divide\n",
      "  np.array(0) / np.array(0)\n"
     ]
    },
    {
     "data": {
      "text/plain": [
       "np.float64(nan)"
      ]
     },
     "execution_count": 93,
     "metadata": {},
     "output_type": "execute_result"
    }
   ],
   "source": [
    "np.array(0) / np.array(0)"
   ]
  },
  {
   "cell_type": "code",
   "execution_count": 94,
   "id": "2ec7363b",
   "metadata": {},
   "outputs": [
    {
     "name": "stderr",
     "output_type": "stream",
     "text": [
      "/tmp/ipykernel_19339/2018018105.py:1: RuntimeWarning: divide by zero encountered in floor_divide\n",
      "  np.array(0) // np.array(0)\n"
     ]
    },
    {
     "data": {
      "text/plain": [
       "np.int64(0)"
      ]
     },
     "execution_count": 94,
     "metadata": {},
     "output_type": "execute_result"
    }
   ],
   "source": [
    "np.array(0) // np.array(0)"
   ]
  },
  {
   "cell_type": "code",
   "execution_count": 95,
   "id": "a9095af9",
   "metadata": {},
   "outputs": [
    {
     "name": "stderr",
     "output_type": "stream",
     "text": [
      "/tmp/ipykernel_19339/1946231171.py:1: RuntimeWarning: invalid value encountered in cast\n",
      "  np.array([np.nan]).astype(int) #.astype(float)\n"
     ]
    },
    {
     "data": {
      "text/plain": [
       "array([-9223372036854775808])"
      ]
     },
     "execution_count": 95,
     "metadata": {},
     "output_type": "execute_result"
    }
   ],
   "source": [
    "np.array([np.nan]).astype(int) #.astype(float)"
   ]
  },
  {
   "cell_type": "code",
   "execution_count": 96,
   "id": "ca1f0113",
   "metadata": {},
   "outputs": [
    {
     "data": {
      "text/plain": [
       "False"
      ]
     },
     "execution_count": 96,
     "metadata": {},
     "output_type": "execute_result"
    }
   ],
   "source": [
    "0.3 == 3 * 0.1"
   ]
  },
  {
   "cell_type": "markdown",
   "id": "716fc1de",
   "metadata": {},
   "source": [
    "**Nunca teste se um número real é igual a outro! Use sempre tolerâncias.**"
   ]
  },
  {
   "cell_type": "code",
   "execution_count": 97,
   "id": "a6736c82",
   "metadata": {},
   "outputs": [
    {
     "data": {
      "text/plain": [
       "np.float64(5.551115123125783e-17)"
      ]
     },
     "execution_count": 97,
     "metadata": {},
     "output_type": "execute_result"
    }
   ],
   "source": [
    "np.abs(0.3 - 3*0.1)"
   ]
  },
  {
   "cell_type": "markdown",
   "id": "b55f61fe",
   "metadata": {},
   "source": [
    "#### Explicação\n",
    "\n",
    "\n",
    "- `NaN` : *Not a Number*\n",
    "- `Inf` : Infinito?"
   ]
  },
  {
   "cell_type": "code",
   "execution_count": 98,
   "id": "66af856d",
   "metadata": {},
   "outputs": [
    {
     "name": "stdout",
     "output_type": "stream",
     "text": [
      "-128\n",
      "127\n",
      "-2147483648\n",
      "2147483647\n",
      "-9223372036854775808\n",
      "9223372036854775807\n"
     ]
    }
   ],
   "source": [
    "for dtype in [np.int8, np.int32, np.int64]:\n",
    "   print(np.iinfo(dtype).min)\n",
    "   print(np.iinfo(dtype).max)"
   ]
  },
  {
   "cell_type": "code",
   "execution_count": 99,
   "id": "ca882cb3",
   "metadata": {},
   "outputs": [
    {
     "name": "stdout",
     "output_type": "stream",
     "text": [
      "-3.4028235e+38\n",
      "3.4028235e+38\n",
      "1.1920929e-07\n",
      "-1.7976931348623157e+308\n",
      "1.7976931348623157e+308\n",
      "2.220446049250313e-16\n"
     ]
    }
   ],
   "source": [
    "for dtype in [np.float32, np.float64]:\n",
    "   print(np.finfo(dtype).min)\n",
    "   print(np.finfo(dtype).max)\n",
    "   print(np.finfo(dtype).eps)"
   ]
  },
  {
   "cell_type": "code",
   "execution_count": 100,
   "id": "6bddf005",
   "metadata": {},
   "outputs": [
    {
     "name": "stderr",
     "output_type": "stream",
     "text": [
      "/tmp/ipykernel_19339/1273613367.py:1: RuntimeWarning: overflow encountered in scalar add\n",
      "  np.finfo(np.float64).max+1.e308\n"
     ]
    },
    {
     "data": {
      "text/plain": [
       "np.float64(inf)"
      ]
     },
     "execution_count": 100,
     "metadata": {},
     "output_type": "execute_result"
    }
   ],
   "source": [
    "np.finfo(np.float64).max+1.e308"
   ]
  },
  {
   "cell_type": "markdown",
   "id": "b1f46f29",
   "metadata": {},
   "source": [
    "Leia mais na documentação oficial do Python: https://docs.python.org/pt-br/3/tutorial/floatingpoint.html"
   ]
  },
  {
   "cell_type": "code",
   "execution_count": 101,
   "id": "1deb9e88",
   "metadata": {},
   "outputs": [],
   "source": [
    "x = np.arange(0, 10*np.pi, np.pi)"
   ]
  },
  {
   "cell_type": "code",
   "execution_count": 102,
   "id": "4870c439",
   "metadata": {},
   "outputs": [
    {
     "data": {
      "text/plain": [
       "array([ True, False, False, False, False, False, False, False, False,\n",
       "       False])"
      ]
     },
     "execution_count": 102,
     "metadata": {},
     "output_type": "execute_result"
    }
   ],
   "source": [
    "np.sin(x) == 0"
   ]
  },
  {
   "cell_type": "code",
   "execution_count": 103,
   "id": "87cfb41f",
   "metadata": {},
   "outputs": [
    {
     "data": {
      "text/plain": [
       "True"
      ]
     },
     "execution_count": 103,
     "metadata": {},
     "output_type": "execute_result"
    }
   ],
   "source": [
    "np.allclose(np.sin(x), np.zeros(np.shape(x)))"
   ]
  },
  {
   "cell_type": "markdown",
   "id": "46d9340c",
   "metadata": {},
   "source": [
    "---\n",
    "\n",
    "\n",
    "### Basic Indexing, Advanced (Fancy) Indexing"
   ]
  },
  {
   "cell_type": "code",
   "execution_count": 104,
   "id": "2e943db7",
   "metadata": {},
   "outputs": [
    {
     "data": {
      "text/plain": [
       "array([2, 3, 4])"
      ]
     },
     "execution_count": 104,
     "metadata": {},
     "output_type": "execute_result"
    }
   ],
   "source": [
    "x = np.arange(10)\n",
    "x[2:5]"
   ]
  },
  {
   "cell_type": "code",
   "execution_count": 105,
   "id": "df1d410d",
   "metadata": {},
   "outputs": [
    {
     "data": {
      "text/plain": [
       "array([0, 1, 2])"
      ]
     },
     "execution_count": 105,
     "metadata": {},
     "output_type": "execute_result"
    }
   ],
   "source": [
    "x[:-7]"
   ]
  },
  {
   "cell_type": "code",
   "execution_count": 106,
   "id": "c8315e2d",
   "metadata": {},
   "outputs": [
    {
     "data": {
      "text/plain": [
       "array([1, 3, 5])"
      ]
     },
     "execution_count": 106,
     "metadata": {},
     "output_type": "execute_result"
    }
   ],
   "source": [
    "x[1:7:2]"
   ]
  },
  {
   "cell_type": "code",
   "execution_count": 107,
   "id": "f6954369",
   "metadata": {},
   "outputs": [
    {
     "data": {
      "text/plain": [
       "array([[ 7, 10, 13],\n",
       "       [21, 24, 27]])"
      ]
     },
     "execution_count": 107,
     "metadata": {},
     "output_type": "execute_result"
    }
   ],
   "source": [
    "y = np.arange(35).reshape(5,7)\n",
    "y[1:5:2,::3]"
   ]
  },
  {
   "cell_type": "markdown",
   "id": "3afca387",
   "metadata": {},
   "source": [
    "As arrays do NumPy podem ser indexadas por outras arrays (ou qualquer outro objeto tipo-sequência que possa ser convertido para uma array, como listas, com a exceção de tuplas). No entanto, isso pode não ser tão eficiente pois ativa o [indiciamento avançado](https://numpy.org/devdocs/reference/arrays.indexing.html#advanced-indexing)."
   ]
  },
  {
   "cell_type": "code",
   "execution_count": 108,
   "id": "6bb6a0fb",
   "metadata": {},
   "outputs": [],
   "source": [
    "x = np.arange(10,1,-1)"
   ]
  },
  {
   "cell_type": "code",
   "execution_count": 109,
   "id": "a61443d7",
   "metadata": {},
   "outputs": [
    {
     "data": {
      "text/plain": [
       "array([7, 7, 4, 2])"
      ]
     },
     "execution_count": 109,
     "metadata": {},
     "output_type": "execute_result"
    }
   ],
   "source": [
    "x[np.array([3,3,-3,8])]"
   ]
  },
  {
   "cell_type": "code",
   "execution_count": 110,
   "id": "d9ef2a8c",
   "metadata": {},
   "outputs": [
    {
     "data": {
      "text/plain": [
       "array([[9, 9],\n",
       "       [8, 7]])"
      ]
     },
     "execution_count": 110,
     "metadata": {},
     "output_type": "execute_result"
    }
   ],
   "source": [
    "x[np.array([[1,1],[2,3]])]"
   ]
  },
  {
   "cell_type": "markdown",
   "id": "1de6536b",
   "metadata": {},
   "source": [
    "Também podemos usar máscaras booleanas:"
   ]
  },
  {
   "cell_type": "code",
   "execution_count": 111,
   "id": "bcd8f6dd",
   "metadata": {},
   "outputs": [],
   "source": [
    "b = y>20"
   ]
  },
  {
   "cell_type": "code",
   "execution_count": 112,
   "id": "7cd1f641",
   "metadata": {},
   "outputs": [
    {
     "data": {
      "text/plain": [
       "array([21, 22, 23, 24, 25, 26, 27, 28, 29, 30, 31, 32, 33, 34])"
      ]
     },
     "execution_count": 112,
     "metadata": {},
     "output_type": "execute_result"
    }
   ],
   "source": [
    "y[b]"
   ]
  },
  {
   "cell_type": "code",
   "execution_count": 113,
   "id": "a0a7359d",
   "metadata": {},
   "outputs": [],
   "source": [
    "x = np.arange(30).reshape(2,3,5)"
   ]
  },
  {
   "cell_type": "code",
   "execution_count": 114,
   "id": "483e34ee",
   "metadata": {},
   "outputs": [
    {
     "data": {
      "text/plain": [
       "array([[ 0,  1,  2,  3,  4],\n",
       "       [ 5,  6,  7,  8,  9],\n",
       "       [20, 21, 22, 23, 24],\n",
       "       [25, 26, 27, 28, 29]])"
      ]
     },
     "execution_count": 114,
     "metadata": {},
     "output_type": "execute_result"
    }
   ],
   "source": [
    "b = np.array([[True, True, False], [False, True, True]])\n",
    "x[b]"
   ]
  },
  {
   "cell_type": "code",
   "execution_count": 115,
   "id": "8cb35cfb",
   "metadata": {},
   "outputs": [
    {
     "data": {
      "text/plain": [
       "array([[0, 1, 2, 3, 4],\n",
       "       [1, 2, 3, 4, 5],\n",
       "       [2, 3, 4, 5, 6],\n",
       "       [3, 4, 5, 6, 7],\n",
       "       [4, 5, 6, 7, 8]])"
      ]
     },
     "execution_count": 115,
     "metadata": {},
     "output_type": "execute_result"
    }
   ],
   "source": [
    "x = np.arange(5)\n",
    "x[:,np.newaxis] + x[np.newaxis,:]"
   ]
  },
  {
   "cell_type": "code",
   "execution_count": 116,
   "id": "cab48d1b",
   "metadata": {},
   "outputs": [
    {
     "data": {
      "text/plain": [
       "array([[29, 32, 35],\n",
       "       [38, 41, 44],\n",
       "       [47, 50, 53]])"
      ]
     },
     "execution_count": 116,
     "metadata": {},
     "output_type": "execute_result"
    }
   ],
   "source": [
    "z = np.arange(81).reshape(3,3,3,3)\n",
    "z[1,...,2]"
   ]
  },
  {
   "cell_type": "code",
   "execution_count": 117,
   "id": "c9f36c4b",
   "metadata": {},
   "outputs": [
    {
     "data": {
      "text/plain": [
       "array([[29, 32, 35],\n",
       "       [38, 41, 44],\n",
       "       [47, 50, 53]])"
      ]
     },
     "execution_count": 117,
     "metadata": {},
     "output_type": "execute_result"
    }
   ],
   "source": [
    "z[1,:,:,2]"
   ]
  },
  {
   "cell_type": "markdown",
   "id": "086b0ffd",
   "metadata": {},
   "source": [
    "### Exercícios\n",
    "\n",
    "\n",
    "#### Criar um array aleatório de tamanho 12 e substituir o menor valor por -999."
   ]
  },
  {
   "cell_type": "code",
   "execution_count": 118,
   "id": "78da78f1",
   "metadata": {},
   "outputs": [
    {
     "data": {
      "text/plain": [
       "array([ 8.37846566e-01, -9.99000000e+02,  2.43672256e-01,  7.64456955e-01,\n",
       "        1.01621485e-01,  6.34192781e-01,  2.84714950e-01,  6.01713572e-01,\n",
       "        2.24672594e-01,  2.92966223e-01,  3.21318674e-01,  7.18568189e-01])"
      ]
     },
     "execution_count": 118,
     "metadata": {},
     "output_type": "execute_result"
    }
   ],
   "source": [
    "aleatorio = np.random.random(12)\n",
    "aleatorio[aleatorio.argmax()] = -999\n",
    "aleatorio"
   ]
  },
  {
   "cell_type": "markdown",
   "id": "bcd892b6",
   "metadata": {},
   "source": [
    "#### Ordenar uma array pela n-ésima coluna"
   ]
  },
  {
   "cell_type": "code",
   "execution_count": 119,
   "id": "ef65e08c",
   "metadata": {},
   "outputs": [
    {
     "data": {
      "text/plain": [
       "array([[6, 3, 5],\n",
       "       [0, 7, 1],\n",
       "       [3, 7, 4]])"
      ]
     },
     "execution_count": 119,
     "metadata": {},
     "output_type": "execute_result"
    }
   ],
   "source": [
    "vetor = np.random.randint(0,10,(3,3))\n",
    "vetor"
   ]
  },
  {
   "cell_type": "code",
   "execution_count": 120,
   "id": "f8313915",
   "metadata": {},
   "outputs": [
    {
     "data": {
      "text/plain": [
       "array([[6, 3, 5],\n",
       "       [0, 7, 1],\n",
       "       [3, 7, 4]])"
      ]
     },
     "execution_count": 120,
     "metadata": {},
     "output_type": "execute_result"
    }
   ],
   "source": [
    "vetor[vetor[:,1].argsort()]"
   ]
  },
  {
   "cell_type": "markdown",
   "id": "56141a24",
   "metadata": {},
   "source": [
    "#### Como saber se uma array 2D tem colunas nulas?"
   ]
  },
  {
   "cell_type": "code",
   "execution_count": 121,
   "id": "6108a02c",
   "metadata": {},
   "outputs": [
    {
     "data": {
      "text/plain": [
       "array([[2, 2, 0, 2, 0, 1, 0, 0, 2, 2],\n",
       "       [1, 1, 1, 0, 2, 1, 2, 2, 2, 1],\n",
       "       [1, 0, 1, 0, 0, 0, 2, 0, 0, 1]])"
      ]
     },
     "execution_count": 121,
     "metadata": {},
     "output_type": "execute_result"
    }
   ],
   "source": [
    "z = np.random.randint(0,3,(3,10))\n",
    "z"
   ]
  },
  {
   "cell_type": "code",
   "execution_count": 122,
   "id": "fb3fa98c",
   "metadata": {},
   "outputs": [
    {
     "data": {
      "text/plain": [
       "np.False_"
      ]
     },
     "execution_count": 122,
     "metadata": {},
     "output_type": "execute_result"
    }
   ],
   "source": [
    "(~z.any(axis=0)).any()"
   ]
  },
  {
   "cell_type": "code",
   "execution_count": 123,
   "id": "eb9eefa9",
   "metadata": {},
   "outputs": [
    {
     "data": {
      "text/plain": [
       "array([[0, 2, 0, 2, 0, 1, 0, 0, 2, 2],\n",
       "       [0, 1, 1, 0, 2, 1, 2, 2, 2, 1],\n",
       "       [0, 0, 1, 0, 0, 0, 2, 0, 0, 1]])"
      ]
     },
     "execution_count": 123,
     "metadata": {},
     "output_type": "execute_result"
    }
   ],
   "source": [
    "z[:, 0] = np.zeros(3)\n",
    "z"
   ]
  },
  {
   "cell_type": "code",
   "execution_count": 124,
   "id": "b644bdd0",
   "metadata": {},
   "outputs": [
    {
     "data": {
      "text/plain": [
       "np.True_"
      ]
     },
     "execution_count": 124,
     "metadata": {},
     "output_type": "execute_result"
    }
   ],
   "source": [
    "(~z.any(axis=0)).any()"
   ]
  },
  {
   "cell_type": "markdown",
   "id": "4a560c62",
   "metadata": {},
   "source": [
    "#### Trocar duas linhas de uma matriz"
   ]
  },
  {
   "cell_type": "code",
   "execution_count": 125,
   "id": "49fbe472",
   "metadata": {},
   "outputs": [
    {
     "data": {
      "text/plain": [
       "array([[ 0,  1,  2,  3,  4],\n",
       "       [ 5,  6,  7,  8,  9],\n",
       "       [10, 11, 12, 13, 14],\n",
       "       [15, 16, 17, 18, 19],\n",
       "       [20, 21, 22, 23, 24]])"
      ]
     },
     "execution_count": 125,
     "metadata": {},
     "output_type": "execute_result"
    }
   ],
   "source": [
    "A = np.arange(25).reshape(5,5)\n",
    "A"
   ]
  },
  {
   "cell_type": "code",
   "execution_count": 126,
   "id": "22bab5d8",
   "metadata": {},
   "outputs": [
    {
     "data": {
      "text/plain": [
       "array([[ 5,  6,  7,  8,  9],\n",
       "       [ 0,  1,  2,  3,  4],\n",
       "       [10, 11, 12, 13, 14],\n",
       "       [15, 16, 17, 18, 19],\n",
       "       [20, 21, 22, 23, 24]])"
      ]
     },
     "execution_count": 126,
     "metadata": {},
     "output_type": "execute_result"
    }
   ],
   "source": [
    "A[[0,1]] = A[[1,0]]\n",
    "A"
   ]
  },
  {
   "cell_type": "markdown",
   "id": "113cb526",
   "metadata": {},
   "source": [
    "### 2.4 Submódulos\n",
    "\n",
    "- `numpy.random` \n",
    "- `numpy.fft`\n",
    "- `numpy.ma`\n",
    "- `numpy.linalg`\n",
    "- `numpy.f2py`"
   ]
  },
  {
   "cell_type": "code",
   "execution_count": 127,
   "id": "b718a898",
   "metadata": {},
   "outputs": [
    {
     "name": "stdout",
     "output_type": "stream",
     "text": [
      "\n",
      "NumPy\n",
      "=====\n",
      "\n",
      "Provides\n",
      "  1. An array object of arbitrary homogeneous items\n",
      "  2. Fast mathematical operations over arrays\n",
      "  3. Linear Algebra, Fourier Transforms, Random Number Generation\n",
      "\n",
      "How to use the documentation\n",
      "----------------------------\n",
      "Documentation is available in two forms: docstrings provided\n",
      "with the code, and a loose standing reference guide, available from\n",
      "`the NumPy homepage <https://numpy.org>`_.\n",
      "\n",
      "We recommend exploring the docstrings using\n",
      "`IPython <https://ipython.org>`_, an advanced Python shell with\n",
      "TAB-completion and introspection capabilities.  See below for further\n",
      "instructions.\n",
      "\n",
      "The docstring examples assume that `numpy` has been imported as ``np``::\n",
      "\n",
      "  >>> import numpy as np\n",
      "\n",
      "Code snippets are indicated by three greater-than signs::\n",
      "\n",
      "  >>> x = 42\n",
      "  >>> x = x + 1\n",
      "\n",
      "Use the built-in ``help`` function to view a function's docstring::\n",
      "\n",
      "  >>> help(np.sort)\n",
      "  ... # doctest: +SKIP\n",
      "\n",
      "For some objects, ``np.info(obj)`` may provide additional help.  This is\n",
      "particularly true if you see the line \"Help on ufunc object:\" at the top\n",
      "of the help() page.  Ufuncs are implemented in C, not Python, for speed.\n",
      "The native Python help() does not know how to view their help, but our\n",
      "np.info() function does.\n",
      "\n",
      "Available subpackages\n",
      "---------------------\n",
      "lib\n",
      "    Basic functions used by several sub-packages.\n",
      "random\n",
      "    Core Random Tools\n",
      "linalg\n",
      "    Core Linear Algebra Tools\n",
      "fft\n",
      "    Core FFT routines\n",
      "polynomial\n",
      "    Polynomial tools\n",
      "testing\n",
      "    NumPy testing tools\n",
      "distutils\n",
      "    Enhancements to distutils with support for\n",
      "    Fortran compilers support and more (for Python <= 3.11)\n",
      "\n",
      "Utilities\n",
      "---------\n",
      "test\n",
      "    Run numpy unittests\n",
      "show_config\n",
      "    Show numpy build configuration\n",
      "__version__\n",
      "    NumPy version string\n",
      "\n",
      "Viewing documentation using IPython\n",
      "-----------------------------------\n",
      "\n",
      "Start IPython and import `numpy` usually under the alias ``np``: `import\n",
      "numpy as np`.  Then, directly past or use the ``%cpaste`` magic to paste\n",
      "examples into the shell.  To see which functions are available in `numpy`,\n",
      "type ``np.<TAB>`` (where ``<TAB>`` refers to the TAB key), or use\n",
      "``np.*cos*?<ENTER>`` (where ``<ENTER>`` refers to the ENTER key) to narrow\n",
      "down the list.  To view the docstring for a function, use\n",
      "``np.cos?<ENTER>`` (to view the docstring) and ``np.cos??<ENTER>`` (to view\n",
      "the source code).\n",
      "\n",
      "Copies vs. in-place operation\n",
      "-----------------------------\n",
      "Most of the functions in `numpy` return a copy of the array argument\n",
      "(e.g., `np.sort`).  In-place versions of these functions are often\n",
      "available as array methods, i.e. ``x = np.array([1,2,3]); x.sort()``.\n",
      "Exceptions to this rule are documented.\n",
      "\n",
      "\n"
     ]
    }
   ],
   "source": [
    "print(np.__doc__)"
   ]
  },
  {
   "cell_type": "markdown",
   "id": "183b9db8",
   "metadata": {},
   "source": [
    "---\n",
    "\n",
    "[Voltar ao notebook principal](00-Tutorial_Python_Sul_2024.md)\n",
    "\n",
    "[Ir para o notebook Matplotlib](02-Tutorial_Matplotlib.md)"
   ]
  }
 ],
 "metadata": {
  "jupytext": {
   "formats": "md:myst",
   "kernelspec": {
    "display_name": "Python 3 (ipykernel)",
    "language": "python",
    "name": "python3"
   },
   "text_representation": {
    "extension": ".md",
    "format_name": "myst"
   }
  },
  "language_info": {
   "codemirror_mode": {
    "name": "ipython",
    "version": 3
   },
   "file_extension": ".py",
   "mimetype": "text/x-python",
   "name": "python",
   "nbconvert_exporter": "python",
   "pygments_lexer": "ipython3",
   "version": "3.11.9"
  },
  "source_map": [
   13,
   16,
   20,
   22,
   63,
   72,
   76,
   80,
   85,
   89,
   93,
   97,
   101,
   105,
   107,
   111,
   115,
   120,
   124,
   126,
   138,
   140,
   157,
   161,
   165,
   169,
   173,
   175,
   179,
   183,
   187,
   189,
   202,
   206,
   210,
   215,
   219,
   223,
   225,
   232,
   238,
   242,
   246,
   250,
   254,
   258,
   262,
   267,
   271,
   275,
   279,
   283,
   287,
   291,
   295,
   300,
   304,
   308,
   310,
   317,
   320,
   327,
   331,
   335,
   339,
   343,
   347,
   349,
   353,
   355,
   365,
   369,
   373,
   377,
   381,
   385,
   387,
   413,
   417,
   422,
   429,
   433,
   437,
   441,
   443,
   447,
   452,
   456,
   458,
   462,
   466,
   468,
   475,
   481,
   483,
   500,
   504,
   509,
   513,
   517,
   520,
   524,
   528,
   536,
   538,
   545,
   549,
   553,
   555,
   559,
   563,
   567,
   571,
   575,
   577,
   581,
   585,
   589,
   593,
   595,
   599,
   601,
   609,
   615,
   622,
   624,
   628,
   632,
   636,
   638,
   645,
   650,
   654,
   658,
   661,
   665,
   669,
   673,
   675,
   679,
   683,
   687,
   691,
   696,
   701,
   706,
   708,
   715,
   719,
   723,
   728,
   730,
   734,
   739,
   743,
   748,
   750,
   754,
   759,
   762,
   772,
   774
  ]
 },
 "nbformat": 4,
 "nbformat_minor": 5
}